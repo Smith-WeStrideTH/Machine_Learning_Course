{
 "cells": [
  {
   "cell_type": "markdown",
   "metadata": {},
   "source": [
    "# การทดลองเสริม: การไล่ระดับ (Gradient Descent) สำหรับการถดถอยโลจิสติก (Logistic Regression)\n"
   ]
  },
  {
   "cell_type": "markdown",
   "metadata": {},
   "source": [
    "## เป้าหมายของการทดลองนี้\n",
    "ในห้องปฏิบัติการนี้ คุณจะ:\n",
    "- อัปเดตอัลกอริทึมการไล่ระดับ (gradient descent) สำหรับการถดถอยโลจิสติก (logistic regression)\n",
    "- สำรวจการทำงานของอัลกอริทึมการไล่ระดับบนชุดข้อมูลที่คุ้นเคย"
   ]
  },
  {
   "cell_type": "code",
   "execution_count": null,
   "id": "7ed08683",
   "metadata": {},
   "outputs": [],
   "source": [
    "from google.colab import output\n",
    "output.enable_custom_widget_manager()\n",
    "try:\n",
    "  %matplotlib widget\n",
    "  print(\"widget is already installed\")\n",
    "except:\n",
    "  print(\"widget is not been installed, install now..\")\n",
    "  !pip install ipympl"
   ]
  },
  {
   "cell_type": "code",
   "execution_count": null,
   "id": "b11a310e",
   "metadata": {},
   "outputs": [],
   "source": [
    "# prompt: import requsts and download from this github link : https://raw.githubusercontent.com/Smith-WeStrideTH/Machine_Learning_Course/main/work/deeplearning.mplstyle\n",
    "\n",
    "import requests\n",
    "from pathlib import Path\n",
    "\n",
    "url = 'https://raw.githubusercontent.com/Smith-WeStrideTH/Machine_Learning_Course/main/work/deeplearning.mplstyle'\n",
    "url2 = 'https://raw.githubusercontent.com/Smith-WeStrideTH/Machine_Learning_Course/main/work/plt_quad_logistic.py'\n",
    "url3 = 'https://raw.githubusercontent.com/Smith-WeStrideTH/Machine_Learning_Course/main/work/lab_utils_common_c3.py'\n",
    "\n",
    "response = requests.get(url)\n",
    "with open('deeplearning.mplstyle', 'wb') as f:\n",
    "  f.write(response.content)\n",
    "\n",
    "response = requests.get(url2)\n",
    "with open('plt_quad_logistic.py', 'wb') as f:\n",
    "  f.write(response.content)\n",
    "\n",
    "response = requests.get(url3)\n",
    "with open('lab_utils_common.py', 'wb') as f:\n",
    "  f.write(response.content)"
   ]
  },
  {
   "cell_type": "code",
   "execution_count": null,
   "id": "cf248a95",
   "metadata": {},
   "outputs": [],
   "source": [
    "import copy, math\n",
    "import numpy as np\n",
    "%matplotlib widget\n",
    "import matplotlib.pyplot as plt\n",
    "from lab_utils_common import  dlc, plot_data, plt_tumor_data, sigmoid, compute_cost_logistic\n",
    "from plt_quad_logistic import plt_quad_logistic, plt_prob\n",
    "plt.style.use('./deeplearning.mplstyle')"
   ]
  },
  {
   "cell_type": "markdown",
   "id": "b800335b",
   "metadata": {},
   "source": [
    "## ชุดข้อมูล (Data set)\n",
    "เริ่มต้นด้วยชุดข้อมูลสองฟีเจอร์ (features) เดียวกันกับที่ใช้ในห้องปฏิบัติการการตัดสินใจ (decision boundary lab)"
   ]
  },
  {
   "cell_type": "code",
   "execution_count": null,
   "id": "ae889779",
   "metadata": {},
   "outputs": [],
   "source": [
    "X_train = np.array([[0.5, 1.5], [1,1], [1.5, 0.5], [3, 0.5], [2, 2], [1, 2.5]])\n",
    "y_train = np.array([0, 0, 0, 1, 1, 1])"
   ]
  },
  {
   "cell_type": "markdown",
   "id": "a97c579b",
   "metadata": {},
   "source": [
    "เราจะใช้ฟังก์ชันช่วยในการพล็อตข้อมูลนี้ จุดข้อมูลที่มีป้ายกำกับ $y=1$ จะแสดงเป็นกากบาทสีแดง ขณะที่จุดข้อมูลที่มีป้ายกำกับ $y=0$ จะแสดงเป็นวงกลมสีน้ำเงิน"
   ]
  },
  {
   "cell_type": "code",
   "execution_count": null,
   "id": "b4e65274",
   "metadata": {},
   "outputs": [],
   "source": [
    "fig,ax = plt.subplots(1,1,figsize=(4,4))\n",
    "plot_data(X_train, y_train, ax)\n",
    "\n",
    "ax.axis([0, 4, 0, 3.5])\n",
    "ax.set_ylabel('$x_1$', fontsize=12)\n",
    "ax.set_xlabel('$x_0$', fontsize=12)\n",
    "plt.show()"
   ]
  },
  {
   "cell_type": "markdown",
   "id": "66a214c3",
   "metadata": {},
   "source": [
    "## Logistic Gradient Descent\n",
    "<img align=\"right\" src=\"./images/C1_W3_Logistic_gradient_descent_v1.png\"     style=\" width:400px; padding: 10px; \" >\n",
    "\n",
    "อัลกอริทึมการไล่ระดับ (gradient descent algorithm) ใช้การคำนวณการไล่ระดับ (gradient calculation)\n",
    "\n",
    "$$\\begin{align*}\n",
    "&\\text{repeat until convergence:} \\; \\lbrace \\\\\n",
    "&  \\; \\; \\;w_j = w_j -  \\alpha \\frac{\\partial J(\\mathbf{w},b)}{\\partial w_j} \\tag{1}  \\; & \\text{for j := 0..n-1} \\\\ \n",
    "&  \\; \\; \\;  \\; \\;b = b -  \\alpha \\frac{\\partial J(\\mathbf{w},b)}{\\partial b} \\\\\n",
    "&\\rbrace\n",
    "\\end{align*}$$\n",
    "\n",
    "ในแต่ละการวนซ้ำ (iteration) จะทำการอัปเดตพารามิเตอร์ $w_j$ พร้อมกันสำหรับทุกค่า $j$\n",
    "\n",
    "$$\\begin{align*}\n",
    "\\frac{\\partial J(\\mathbf{w},b)}{\\partial w_j}  &= \\frac{1}{m} \\sum\\limits_{i = 0}^{m-1} (f_{\\mathbf{w},b}(\\mathbf{x}^{(i)}) - y^{(i)})x_{j}^{(i)} \\tag{2} \\\\\n",
    "\\frac{\\partial J(\\mathbf{w},b)}{\\partial b}  &= \\frac{1}{m} \\sum\\limits_{i = 0}^{m-1} (f_{\\mathbf{w},b}(\\mathbf{x}^{(i)}) - y^{(i)}) \\tag{3} \n",
    "\\end{align*}$$\n",
    "\n",
    "* m คือจำนวนตัวอย่างในการฝึกทั้งหมดในชุดข้อมูล\n",
    "* $f_{\\mathbf{w},b}(x^{(i)})$ คือการทำนายของโมเดล ขณะที่ $y^{(i)}$ คือเป้าหมาย\n",
    "* ในกรณีของโมเดลการถดถอยโลจิสติก (logistic regression):\n",
    "    $z = \\mathbf{w} \\cdot \\mathbf{x} + b$  \n",
    "    $f_{\\mathbf{w},b}(x) = g(z)$  \n",
    "    โดยที่ $g(z)$ คือ sigmoid function:  \n",
    "    $g(z) = \\frac{1}{1+e^{-z}}$   \n",
    "    \n"
   ]
  },
  {
   "cell_type": "markdown",
   "id": "5040b81f",
   "metadata": {},
   "source": [
    "### การใช้งานอัลกอริทึมการไล่ระดับ (Gradient Descent Implementation)\n",
    "อัลกอริทึมการไล่ระดับ (gradient descent) ประกอบด้วยสองส่วนหลัก:\n",
    "- ลูปการคำนวณสมการ (1): ส่วนนี้มักจะถูกกำหนดให้คุณในแบบฝึกหัดหรือตัวอย่าง\n",
    "- การคำนวณ gradient ณ จุดปัจจุบัน (current gradient): ส่วนนี้คุณจะต้องเขียนโค้ดเองในแบบฝึกหัดสัปดาห์นี้\n",
    "\n",
    "#### การคำนวณ Gradient: คำอธิบายโค้ด\n",
    "\n",
    "โค้ดนี้จะทำการคำนวณสมการ (2) และ (3) สำหรับทุกค่า $w_j$ และ $b$.\n",
    "มีหลายวิธีในการเขียนโค้ดนี้ นี่คือหนึ่งในวิธี:\n",
    "- เริ่มต้นตัวแปร: สร้างตัวแปร `dj_dw` และ `dj_db`  เพื่อเก็บผลรวม\n",
    "- วนลูปสำหรับแต่ละตัวอย่าง\n",
    "    - คำนวณค่าผิดพลาด (error) สำหรับตัวอย่างที่  $g(\\mathbf{w} \\cdot \\mathbf{x}^{(i)} + b) - \\mathbf{y}^{(i)}$\n",
    "    - สำหรับแต่ละค่า input $x_{j}^{(i)}$ ในตัวอย่างนี้:\n",
    "        - คูณค่าผิดพลาดด้วย   $x_{j}^{(i)}$, แล้วบวกเข้ากับค่าที่สอดคล้องกันใน `dj_dw`. (สมการ 2)\n",
    "    - บวกค่าผิดพลาดเข้ากับ `dj_db` (สมการ 3)\n",
    "\n",
    "- หาร  `dj_db` และ `dj_dw` ด้วยจำนวนตัวอย่างทั้งหมด (m)\n",
    "- หมายเหตุ $\\mathbf{x}^{(i)}$ ใน numpy คือ  `X[i,:]` หรือ  `X[i]`  และ $x_{j}^{(i)}$ คือ `X[i,j]`"
   ]
  },
  {
   "cell_type": "code",
   "execution_count": null,
   "id": "fe390fee",
   "metadata": {},
   "outputs": [],
   "source": [
    "def compute_gradient_logistic(X, y, w, b): \n",
    "    \"\"\"\n",
    "    Computes the gradient for logistic regression \n",
    " \n",
    "    Args:\n",
    "      X (ndarray (m,n): Data, m examples with n features\n",
    "      y (ndarray (m,)): target values\n",
    "      w (ndarray (n,)): model parameters  \n",
    "      b (scalar)      : model parameter\n",
    "    Returns\n",
    "      dj_dw (ndarray (n,)): The gradient of the cost w.r.t. the parameters w. \n",
    "      dj_db (scalar)      : The gradient of the cost w.r.t. the parameter b. \n",
    "    \"\"\"\n",
    "    m,n = X.shape\n",
    "    dj_dw = np.zeros((n,))                           #(n,)\n",
    "    dj_db = 0.\n",
    "\n",
    "    for i in range(m):\n",
    "        f_wb_i = sigmoid(np.dot(X[i],w) + b)          #(n,)(n,)=scalar\n",
    "        err_i  = f_wb_i  - y[i]                       #scalar\n",
    "        for j in range(n):\n",
    "            dj_dw[j] = dj_dw[j] + err_i * X[i,j]      #scalar\n",
    "        dj_db = dj_db + err_i\n",
    "    dj_dw = dj_dw/m                                   #(n,)\n",
    "    dj_db = dj_db/m                                   #scalar\n",
    "        \n",
    "    return dj_db, dj_dw  "
   ]
  },
  {
   "cell_type": "markdown",
   "id": "6e78b0a3",
   "metadata": {},
   "source": [
    "ตรวจสอบการใช้งานฟังก์ชันการไล่ระดับ (gradient function) โดยใช้เซลล์ด้านล่าง"
   ]
  },
  {
   "cell_type": "code",
   "execution_count": null,
   "id": "feb31e86",
   "metadata": {},
   "outputs": [],
   "source": [
    "X_tmp = np.array([[0.5, 1.5], [1,1], [1.5, 0.5], [3, 0.5], [2, 2], [1, 2.5]])\n",
    "y_tmp = np.array([0, 0, 0, 1, 1, 1])\n",
    "w_tmp = np.array([2.,3.])\n",
    "b_tmp = 1.\n",
    "dj_db_tmp, dj_dw_tmp = compute_gradient_logistic(X_tmp, y_tmp, w_tmp, b_tmp)\n",
    "print(f\"dj_db: {dj_db_tmp}\" )\n",
    "print(f\"dj_dw: {dj_dw_tmp.tolist()}\" )"
   ]
  },
  {
   "cell_type": "markdown",
   "id": "ae83d836",
   "metadata": {},
   "source": [
    "**ผลลัพธ์ที่คาดหวัง**\n",
    "``` \n",
    "dj_db: 0.49861806546328574\n",
    "dj_dw: [0.498333393278696, 0.49883942983996693]\n",
    "```"
   ]
  },
  {
   "cell_type": "markdown",
   "id": "80113fee",
   "metadata": {},
   "source": [
    "#### โค้ดการไล่ระดับ (Gradient Descent Code)\n",
    "โค้ดที่นำมาใช้ในการคำนวณสมการ (1) ด้านบน มีการนำมาใช้งานดังนี้\n",
    "\n",
    "โปรดสักครู่เพื่อค้นหาและเปรียบเทียบฟังก์ชันต่างๆ ภายในรูทีนกับสมการด้านบน"
   ]
  },
  {
   "cell_type": "code",
   "execution_count": null,
   "id": "87bfca76",
   "metadata": {},
   "outputs": [],
   "source": [
    "def gradient_descent(X, y, w_in, b_in, alpha, num_iters): \n",
    "    \"\"\"\n",
    "    Performs batch gradient descent\n",
    "    \n",
    "    Args:\n",
    "      X (ndarray (m,n)   : Data, m examples with n features\n",
    "      y (ndarray (m,))   : target values\n",
    "      w_in (ndarray (n,)): Initial values of model parameters  \n",
    "      b_in (scalar)      : Initial values of model parameter\n",
    "      alpha (float)      : Learning rate\n",
    "      num_iters (scalar) : number of iterations to run gradient descent\n",
    "      \n",
    "    Returns:\n",
    "      w (ndarray (n,))   : Updated values of parameters\n",
    "      b (scalar)         : Updated value of parameter \n",
    "    \"\"\"\n",
    "    # An array to store cost J and w's at each iteration primarily for graphing later\n",
    "    J_history = []\n",
    "    w = copy.deepcopy(w_in)  #avoid modifying global w within function\n",
    "    b = b_in\n",
    "    \n",
    "    for i in range(num_iters):\n",
    "        # Calculate the gradient and update the parameters\n",
    "        dj_db, dj_dw = compute_gradient_logistic(X, y, w, b)   \n",
    "\n",
    "        # Update Parameters using w, b, alpha and gradient\n",
    "        w = w - alpha * dj_dw               \n",
    "        b = b - alpha * dj_db               \n",
    "      \n",
    "        # Save cost J at each iteration\n",
    "        if i<100000:      # prevent resource exhaustion \n",
    "            J_history.append( compute_cost_logistic(X, y, w, b) )\n",
    "\n",
    "        # Print cost every at intervals 10 times or as many iterations if < 10\n",
    "        if i% math.ceil(num_iters / 10) == 0:\n",
    "            print(f\"Iteration {i:4d}: Cost {J_history[-1]}   \")\n",
    "        \n",
    "    return w, b, J_history         #return final w,b and J history for graphing\n"
   ]
  },
  {
   "cell_type": "markdown",
   "id": "ff0ef4eb",
   "metadata": {},
   "source": [
    "มาลองรันอัลกอริทึมการไล่ระดับ (gradient descent) กับชุดข้อมูลของเรากัน"
   ]
  },
  {
   "cell_type": "code",
   "execution_count": null,
   "id": "db737530",
   "metadata": {},
   "outputs": [],
   "source": [
    "w_tmp  = np.zeros_like(X_train[0])\n",
    "b_tmp  = 0.\n",
    "alph = 0.1\n",
    "iters = 10000\n",
    "\n",
    "w_out, b_out, _ = gradient_descent(X_train, y_train, w_tmp, b_tmp, alph, iters) \n",
    "print(f\"\\nupdated parameters: w:{w_out}, b:{b_out}\")"
   ]
  },
  {
   "cell_type": "markdown",
   "id": "3c18d2b1",
   "metadata": {},
   "source": [
    "#### มาพล็อตผลลัพธ์ของการไล่ระดับกันเถอะ\n"
   ]
  },
  {
   "cell_type": "code",
   "execution_count": null,
   "id": "0455ba1a",
   "metadata": {},
   "outputs": [],
   "source": [
    "fig,ax = plt.subplots(1,1,figsize=(5,4))\n",
    "# plot the probability \n",
    "plt_prob(ax, w_out, b_out)\n",
    "\n",
    "# Plot the original data\n",
    "ax.set_ylabel(r'$x_1$')\n",
    "ax.set_xlabel(r'$x_0$')   \n",
    "ax.axis([0, 4, 0, 3.5])\n",
    "plot_data(X_train,y_train,ax)\n",
    "\n",
    "# Plot the decision boundary\n",
    "x0 = -b_out/w_out[0]\n",
    "x1 = -b_out/w_out[1]\n",
    "ax.plot([0,x0],[x1,0], c=dlc[\"dlblue\"], lw=1)\n",
    "plt.show()"
   ]
  },
  {
   "cell_type": "markdown",
   "id": "c365a14e",
   "metadata": {},
   "source": [
    "ในพล็อตข้างต้น:\n",
    "- การแรเงา (shading) แสดงถึงความน่าจะเป็นของ y=1 (ผลลัพธ์ก่อนการตัดสินใจ)\n",
    "- เส้นตัดสินใจ (decision boundary) คือเส้นที่ความน่าจะเป็น = 0.5"
   ]
  },
  {
   "cell_type": "markdown",
   "id": "3d606e79",
   "metadata": {},
   "source": [
    "## อีกหนึ่งชุดข้อมูล: การแสดงภาพค่าใช้จ่าย (Cost Function)\n",
    "กลับมาที่ชุดข้อมูลตัวแปรเดียวกัน\n",
    "- ด้วยเพียงสองพารามิเตอร์ $w$ และ $b$ เราสามารถพล็อตฟังก์ชันค่าใช้จ่าย (Cost Function) เป็นแผนที่ Contour เพื่อให้เห็นภาพที่ดีขึ้นเกี่ยวกับการทำงานของอัลกอริทึมการไล่ระดับ (gradient descent)\n",
    "\n",
    "\n",
    "\n"
   ]
  },
  {
   "cell_type": "code",
   "execution_count": null,
   "id": "7ab7e930",
   "metadata": {},
   "outputs": [],
   "source": [
    "x_train = np.array([0., 1, 2, 3, 4, 5])\n",
    "y_train = np.array([0,  0, 0, 1, 1, 1])"
   ]
  },
  {
   "cell_type": "markdown",
   "id": "6d26aef4",
   "metadata": {},
   "source": [
    "แสดงข้อมูลด้วยฟังก์ชันช่วย\n",
    "เราจะใช้ฟังก์ชันช่วยในการพล็อตข้อมูลนี้\n",
    "\n",
    "- ข้อมูลที่มีค่า y=1 จะแสดงเป็นเครื่องหมายกากบาทสีแดง\n",
    "- ข้อมูลที่มีค่า y=0 จะแสดงเป็นวงกลมสีน้ำเงิน\n",
    "\n",
    "\n",
    "\n",
    "\n",
    "\n"
   ]
  },
  {
   "cell_type": "code",
   "execution_count": null,
   "id": "f64aae2b",
   "metadata": {},
   "outputs": [],
   "source": [
    "fig,ax = plt.subplots(1,1,figsize=(4,3))\n",
    "plt_tumor_data(x_train, y_train, ax)\n",
    "plt.show()"
   ]
  },
  {
   "cell_type": "markdown",
   "id": "1dc5ad23",
   "metadata": {},
   "source": [
    "การทดลองกับกราฟ: เปลี่ยนค่า w และ b\n",
    "คำอธิบาย:\n",
    "\n",
    "- ในกราฟด้านล่าง คุณสามารถลองเปลี่ยนค่า w และ b โดยคลิกภายในแผนภูมิ Contour (contour plot) ที่ด้านบนขวา\n",
    "    - การเปลี่ยนแปลงอาจใช้เวลาหนึ่งหรือสองวินาที\n",
    "    - สังเกตการเปลี่ยนแปลงของค่าใช้จ่าย (cost) ที่พล็อตด้านบนซ้าย\n",
    "    - ค่าใช้จ่ายจะสะสมโดยการสูญเสีย (loss) ในแต่ละตัวอย่าง (เส้นประตั้ง)\n",
    "- คุณสามารถเรียกใช้อัลกอริทึมการไล่ระดับ (gradient descent) โดยคลิกปุ่มสีส้ม\n",
    "    - สังเกตการลดลงของค่าใช้จ่ายอย่างสม่ำเสมอ (แผนภูมิ Contour และแผนภูมิค่าใช้จ่ายอยู่ในสเกล log(cost))\n",
    "- หากต้องการรีเซ็ตกราฟ ให้เรียกเซลล์ใหม่ (rerun the cell)\n"
   ]
  },
  {
   "cell_type": "code",
   "execution_count": null,
   "id": "a3f1e719",
   "metadata": {},
   "outputs": [],
   "source": [
    "w_range = np.array([-1, 7])\n",
    "b_range = np.array([1, -14])\n",
    "quad = plt_quad_logistic( x_train, y_train, w_range, b_range )"
   ]
  },
  {
   "cell_type": "markdown",
   "id": "14b2a04b",
   "metadata": {},
   "source": [
    "## ขอแสดงความยินดี!\n",
    "คุณได้:\n",
    "- ศึกษาสูตรและการใช้งานในการคำนวณการไล่ระดับ (gradient) สำหรับการถดถอยโลจิสติก (logistic regression)\n",
    "- นำรูทีนเหล่านั้นไปใช้งานใน:\n",
    "    - การสำรวจชุดข้อมูลตัวแปรเดียว\n",
    "    - การสำรวจชุดข้อมูลตัวแปรสองตัว\n",
    "\n",
    "\n",
    "\n",
    "\n",
    "\n",
    "\n"
   ]
  },
  {
   "cell_type": "code",
   "execution_count": null,
   "metadata": {},
   "outputs": [],
   "source": []
  }
 ],
 "metadata": {
  "kernelspec": {
   "display_name": "Python 3",
   "language": "python",
   "name": "python3"
  },
  "language_info": {
   "codemirror_mode": {
    "name": "ipython",
    "version": 3
   },
   "file_extension": ".py",
   "mimetype": "text/x-python",
   "name": "python",
   "nbconvert_exporter": "python",
   "pygments_lexer": "ipython3",
   "version": "3.7.6"
  }
 },
 "nbformat": 4,
 "nbformat_minor": 5
}
