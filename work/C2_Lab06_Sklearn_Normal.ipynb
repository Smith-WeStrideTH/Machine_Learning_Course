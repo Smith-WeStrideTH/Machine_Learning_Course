{
 "cells": [
  {
   "cell_type": "markdown",
   "metadata": {},
   "source": [
    "# แล็บเสริม: การถดถอยเชิงเส้นโดยใช้ Scikit-Learn"
   ]
  },
  {
   "cell_type": "markdown",
   "metadata": {},
   "source": [
    "มีเครื่องมือเรียนรู้ของเครื่องแบบโอเพนซอร์สที่สามารถใช้ในเชิงพาณิชย์ได้ ชื่อว่า  [scikit-learn](https://scikit-learn.org/stable/index.html)    เครื่องมือชุดนี้ประกอบด้วยการใช้งานของอัลกอริทึมหลายอย่างที่คุณจะได้ทำงานด้วยในหลักสูตรนี้\n"
   ]
  },
  {
   "cell_type": "markdown",
   "metadata": {},
   "source": [
    "## เป้าหมาย\n",
    "ในห้องปฏิบัติการนี้ คุณจะ:\n",
    "- ใช้งาน scikit-learn เพื่อนำไปใช้ในการถดถอยเชิงเส้น (linear regression) โดยใช้คำตอบแบบปิด (closed form solution) основанный на уравнении нормальном (based on the normal equation)"
   ]
  },
  {
   "cell_type": "markdown",
   "metadata": {},
   "source": [
    "## เครื่องมือ\n",
    "คุณจะใช้ฟังก์ชันจาก scikit-learn เช่นเดียวกับ matplotlib และ NumPy"
   ]
  },
  {
   "cell_type": "code",
   "execution_count": null,
   "metadata": {},
   "outputs": [],
   "source": [
    "import numpy as np\n",
    "import matplotlib.pyplot as plt\n",
    "from sklearn.linear_model import LinearRegression\n",
    "from lab_utils_multi import load_house_data\n",
    "plt.style.use('./deeplearning.mplstyle')\n",
    "np.set_printoptions(precision=2)"
   ]
  },
  {
   "cell_type": "markdown",
   "metadata": {},
   "source": [
    "<a name=\"toc_40291_2\"></a>\n",
    "# การถดถอยเชิงเส้น (Linear Regression) แบบมีสูตรปิด (closed-form solution)\n",
    "Scikit-learn มีโมเดลการถดถอยเชิงเส้น (linear regression model)  [linear regression model](https://scikit-learn.org/stable/modules/generated/sklearn.linear_model.LinearRegression.html#sklearn.linear_model.LinearRegression) ที่ใช้สูตรปิด (closed-form)\n",
    "\n",
    "มาใช้ข้อมูลจาก lab ก่อนหน้านี้กัน  บ้านหลังหนึ่งขนาด 1000 ตารางฟุต ขายไปในราคา \\\\300,000 ดอลลาร์  และบ้านอีกหลังขนาด 2000 ตารางฟุต ขายไปในราคา \\\\500,000 ดอลลาร์\n",
    "\n",
    "\n",
    "\n",
    "\n",
    "\n",
    "\n",
    "\n",
    "\n",
    "\n",
    "| Size (1000 sqft)     | Price (1000s of dollars) |\n",
    "| ----------------| ------------------------ |\n",
    "| 1               | 300                      |\n",
    "| 2               | 500                      |\n"
   ]
  },
  {
   "cell_type": "markdown",
   "metadata": {},
   "source": [
    "### โหลด data set"
   ]
  },
  {
   "cell_type": "code",
   "execution_count": null,
   "metadata": {},
   "outputs": [],
   "source": [
    "X_train = np.array([1.0, 2.0])   #features\n",
    "y_train = np.array([300, 500])   #target value"
   ]
  },
  {
   "cell_type": "markdown",
   "metadata": {},
   "source": [
    "### สร้างและปรับโมเดล (Create and fit the model)\n",
    "โค้ดด้านล่างนี้ดำเนินการการถดถอย (regression) โดยใช้ scikit-learn\n",
    "\n",
    "ขั้นตอนแรกคือการสร้างออบเจ็กต์ (object) สำหรับการถดถอย\n",
    "\n",
    "ขั้นตอนที่สองคือการใช้หนึ่งในเมธอด (method) ที่เกี่ยวข้องกับออบเจ็กต์นั้น ซึ่งคือ `fit` เมธอดนี้ทำการถดถอย โดยปรับพารามิเตอร์ให้เหมาะสมกับข้อมูลอินพุต เครื่องมือคาดหวังให้มีเมทริกซ์ X สองมิติ"
   ]
  },
  {
   "cell_type": "code",
   "execution_count": null,
   "metadata": {},
   "outputs": [],
   "source": [
    "linear_model = LinearRegression()\n",
    "#X must be a 2-D Matrix\n",
    "linear_model.fit(X_train.reshape(-1, 1), y_train) "
   ]
  },
  {
   "cell_type": "markdown",
   "metadata": {},
   "source": [
    "### ดูพารามิเตอร์\n",
    "พารามิเตอร์  $\\mathbf{w}$ และ $\\mathbf{b}$ เรียกว่า 'สัมประสิทธิ์' และ 'ค่าตัดแกน' ใน scikit-learn ตามลำดับ"
   ]
  },
  {
   "cell_type": "code",
   "execution_count": null,
   "metadata": {},
   "outputs": [],
   "source": [
    "b = linear_model.intercept_\n",
    "w = linear_model.coef_\n",
    "print(f\"w = {w:}, b = {b:0.2f}\")\n",
    "print(f\"'manual' prediction: f_wb = wx+b : {1200*w + b}\")"
   ]
  },
  {
   "cell_type": "markdown",
   "metadata": {},
   "source": [
    "### ทำนายข้อมูล (Make Predictions)\n",
    "การเรียกใช้ฟังก์ชัน `predict` จะสร้างการทำนาย (predictions)\n",
    "\n",
    "\n",
    "\n",
    "\n",
    "\n",
    "\n",
    "\n"
   ]
  },
  {
   "cell_type": "code",
   "execution_count": null,
   "metadata": {},
   "outputs": [],
   "source": [
    "y_pred = linear_model.predict(X_train.reshape(-1, 1))\n",
    "\n",
    "print(\"Prediction on training set:\", y_pred)\n",
    "\n",
    "X_test = np.array([[1200]])\n",
    "print(f\"Prediction for 1200 sqft house: ${linear_model.predict(X_test)[0]:0.2f}\")"
   ]
  },
  {
   "cell_type": "markdown",
   "metadata": {},
   "source": [
    "## ตัวอย่างที่สอง: การเปรียบเทียบกับผลลัพธ์ก่อนหน้า\n",
    "ตัวอย่างที่สองนี้เป็นตัวอย่างจากการทดลองก่อนหน้านี้ซึ่งมีหลายฟีเจอร์ (features) ค่าพารามิเตอร์สุดท้ายและการทำนายที่ได้ใกล้เคียงมากกับผลลัพธ์จากการวิ่งแบบ \"long-run\" ที่ไม่ได้ปรับมาตรฐาน (un-normalized) จากการทดลองนั้น\n",
    "\n",
    "การวิ่งแบบ \"long-run\" ที่ไม่ได้ปรับมาตรฐาน (un-normalized) ใช้เวลานานหลายชั่วโมงในการสร้างผลลัพธ์ในขณะที่วิธีการแก้ปัญหาแบบ closed-form นั้นเกือบจะทันที. วิธีการแก้ปัญหาแบบ closed-form เป็นวิธีการที่รวดเร็วและเหมาะสำหรับชุดข้อมูลขนาดเล็ก \n",
    "> วิธีการแก้ปัญหาแบบ closed-form ไม่จำเป็นต้องปรับมาตรฐานข้อมูล (normalization)\n"
   ]
  },
  {
   "cell_type": "code",
   "execution_count": null,
   "metadata": {},
   "outputs": [],
   "source": [
    "# load the dataset\n",
    "X_train, y_train = load_house_data()\n",
    "X_features = ['size(sqft)','bedrooms','floors','age']"
   ]
  },
  {
   "cell_type": "code",
   "execution_count": null,
   "metadata": {},
   "outputs": [],
   "source": [
    "linear_model = LinearRegression()\n",
    "linear_model.fit(X_train, y_train) "
   ]
  },
  {
   "cell_type": "code",
   "execution_count": null,
   "metadata": {},
   "outputs": [],
   "source": [
    "b = linear_model.intercept_\n",
    "w = linear_model.coef_\n",
    "print(f\"w = {w:}, b = {b:0.2f}\")"
   ]
  },
  {
   "cell_type": "code",
   "execution_count": null,
   "metadata": {},
   "outputs": [],
   "source": [
    "print(f\"Prediction on training set:\\n {linear_model.predict(X_train)[:4]}\" )\n",
    "print(f\"prediction using w,b:\\n {(X_train @ w + b)[:4]}\")\n",
    "print(f\"Target values \\n {y_train[:4]}\")\n",
    "\n",
    "x_house = np.array([1200, 3,1, 40]).reshape(-1,4)\n",
    "x_house_predict = linear_model.predict(x_house)[0]\n",
    "print(f\" predicted price of a house with 1200 sqft, 3 bedrooms, 1 floor, 40 years old = ${x_house_predict*1000:0.2f}\")"
   ]
  },
  {
   "cell_type": "markdown",
   "metadata": {},
   "source": [
    "## ยินดีด้วย!\n",
    "ในห้องปฏิบัติการนี้ คุณได้:\n",
    "- ใช้ Scikit-learn ซึ่งเป็นเครื่องมือการเรียนรู้ของเครื่องแบบโอเพนซอร์ส\n",
    "- นำการถดถอยเชิงเส้น (linear regression) มาใช้โดยใช้วิธีการแก้ปัญหาแบบ closed-form จากเครื่องมือดังกล่าว\n",
    "\n",
    "\n",
    "\n",
    "\n",
    "\n",
    "\n"
   ]
  },
  {
   "cell_type": "code",
   "execution_count": null,
   "metadata": {},
   "outputs": [],
   "source": []
  }
 ],
 "metadata": {
  "kernelspec": {
   "display_name": "Python 3",
   "language": "python",
   "name": "python3"
  },
  "language_info": {
   "codemirror_mode": {
    "name": "ipython",
    "version": 3
   },
   "file_extension": ".py",
   "mimetype": "text/x-python",
   "name": "python",
   "nbconvert_exporter": "python",
   "pygments_lexer": "ipython3",
   "version": "3.8.10"
  }
 },
 "nbformat": 4,
 "nbformat_minor": 5
}
