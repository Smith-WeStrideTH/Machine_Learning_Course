{
 "cells": [
  {
   "cell_type": "markdown",
   "id": "025403b4",
   "metadata": {},
   "source": [
    "#  การทดลองเสริม: ค่าใช้จ่ายแบบมีการปรับ (Regularized Cost) และ การไล่ระดับ"
   ]
  },
  {
   "cell_type": "markdown",
   "id": "f6d8754b",
   "metadata": {},
   "source": [
    "## เป้าหมาย\n",
    "ในแล็บนี้ คุณจะ:\n",
    "- ขยายฟังก์ชันต้นทุนเชิงเส้นและโลจิสติกด้วยเทอมการปรับสมดุล (regularization term)\n",
    "- เรียกใช้ตัวอย่างก่อนหน้าของการโอเวอร์ฟิตติ้งอีกครั้งโดยเพิ่มเทอมการปรับสมดุล"
   ]
  },
  {
   "cell_type": "code",
   "execution_count": null,
   "id": "5256ce0e",
   "metadata": {},
   "outputs": [],
   "source": [
    "import numpy as np\n",
    "%matplotlib widget\n",
    "import matplotlib.pyplot as plt\n",
    "from plt_overfit import overfit_example, output\n",
    "from lab_utils_common import sigmoid\n",
    "np.set_printoptions(precision=8)"
   ]
  },
  {
   "cell_type": "markdown",
   "id": "2804b677",
   "metadata": {},
   "source": [
    "# การเพิ่ม Regularization (การทำให้เป็นปกติ)\n",
    "<img align=\"Left\" src=\"./images/C1_W3_LinearGradientRegularized.png\"  style=\" width:400px; padding: 10px; \" >\n",
    "<img align=\"Center\" src=\"./images/C1_W3_LogisticGradientRegularized.png\"  style=\" width:400px; padding: 10px; \" >\n",
    "\n",
    "สไลด์ข้างบนแสดงฟังก์ชันค่าใช้จ่ายและการไล่ระดับสำหรับทั้งการถดถอยเชิงเส้นและการถดถอยโลจิสติก โปรดสังเกต:\n",
    "- ฟังก์ชันค่าใช้จ่าย (Cost function):\n",
    "    - ฟังก์ชันค่าใช้จ่ายของการถดถอยเชิงเส้นและโลจิสติกมีความแตกต่างกันอย่างมาก แต่การเพิ่มการปรับปรุง (regularization) ให้กับสมการนั้นเหมือนกัน\n",
    "\n",
    "- ฟังก์ชันการไล่ระดับ (Gradient function):\n",
    "    - ฟังก์ชันการไล่ระดับของการถดถอยเชิงเส้นและโลจิสติกมีความคล้ายคลึงกันมาก $f_{wb}$ เท่านั้น"
   ]
  },
  {
   "cell_type": "markdown",
   "id": "30ede137",
   "metadata": {},
   "source": [
    "## ฟังก์ชันต้นทุน (Cost functions) ที่มีการปรับค่า (regularization)\n",
    "### ฟังก์ชันต้นทุนสำหรับการถดถอยเชิงเส้นแบบปรับค่า (regularized linear regression)\n",
    "\n",
    "\n",
    "สมการสำหรับฟังก์ชันต้นทุนการถดถอยเชิงเส้นแบบปรับค่ามีดังนี้:\n",
    "$$J(\\mathbf{w},b) = \\frac{1}{2m} \\sum\\limits_{i = 0}^{m-1} (f_{\\mathbf{w},b}(\\mathbf{x}^{(i)}) - y^{(i)})^2  + \\frac{\\lambda}{2m}  \\sum_{j=0}^{n-1} w_j^2 \\tag{1}$$ \n",
    "โดยที่:\n",
    "$$ f_{\\mathbf{w},b}(\\mathbf{x}^{(i)}) = \\mathbf{w} \\cdot \\mathbf{x}^{(i)} + b  \\tag{2} $$ \n",
    "\n",
    "\n",
    "เมื่อเทียบกับฟังก์ชันต้นทุนที่ไม่มีการปรับค่า (ซึ่งคุณได้ใช้งานใน lab ก่อนหน้านี้) จะมีรูปแบบดังนี้:\n",
    "\n",
    "$$J(\\mathbf{w},b) = \\frac{1}{2m} \\sum\\limits_{i = 0}^{m-1} (f_{\\mathbf{w},b}(\\mathbf{x}^{(i)}) - y^{(i)})^2 $$ \n",
    "\n",
    "ความแตกต่างอยู่ที่เทอมการปรับค่า (regularization term) ซึ่งมีสีน้ำเงิน:,  <span style=\"color:blue\">\n",
    "    $\\frac{\\lambda}{2m}  \\sum_{j=0}^{n-1} w_j^2$ </span> \n",
    "    \n",
    "การรวมเทอมนี้เข้าไปจะช่วยให้การไล่ระดับ (gradient descent) ลดขนาดของพารามิเตอร์ได้มากขึ้น โปรดสังเกตว่าในตัวอย่างนี้ พารามิเตอร์ $b$ ไม่ถูกปรับค่า นี่เป็นวิธีปฏิบัติมาตรฐาน\n",
    "\n",
    "\n",
    "ด้านล่างนี้เป็นการใช้งานสมการ (1) และ (2) โปรดสังเกตว่าใช้ **รูปแบบมาตรฐานสำหรับหลักสูตรนี้** ซึ่งเป็น  `for loop` ที่วนซ้ำสำหรับตัวอย่างทั้งหมด m ตัว\n"
   ]
  },
  {
   "cell_type": "code",
   "execution_count": null,
   "id": "2eeeb03d",
   "metadata": {},
   "outputs": [],
   "source": [
    "def compute_cost_linear_reg(X, y, w, b, lambda_ = 1):\n",
    "    \"\"\"\n",
    "    Computes the cost over all examples\n",
    "    Args:\n",
    "      X (ndarray (m,n): Data, m examples with n features\n",
    "      y (ndarray (m,)): target values\n",
    "      w (ndarray (n,)): model parameters  \n",
    "      b (scalar)      : model parameter\n",
    "      lambda_ (scalar): Controls amount of regularization\n",
    "    Returns:\n",
    "      total_cost (scalar):  cost \n",
    "    \"\"\"\n",
    "\n",
    "    m  = X.shape[0]\n",
    "    n  = len(w)\n",
    "    cost = 0.\n",
    "    for i in range(m):\n",
    "        f_wb_i = np.dot(X[i], w) + b                                   #(n,)(n,)=scalar, see np.dot\n",
    "        cost = cost + (f_wb_i - y[i])**2                               #scalar             \n",
    "    cost = cost / (2 * m)                                              #scalar  \n",
    " \n",
    "    reg_cost = 0\n",
    "    for j in range(n):\n",
    "        reg_cost += (w[j]**2)                                          #scalar\n",
    "    reg_cost = (lambda_/(2*m)) * reg_cost                              #scalar\n",
    "    \n",
    "    total_cost = cost + reg_cost                                       #scalar\n",
    "    return total_cost                                                  #scalar"
   ]
  },
  {
   "cell_type": "markdown",
   "id": "77cac8a5",
   "metadata": {},
   "source": [
    "รันเซลล์ด้านล่างเพื่อดูการทำงานจริง"
   ]
  },
  {
   "cell_type": "code",
   "execution_count": null,
   "id": "ff972625",
   "metadata": {
    "tags": []
   },
   "outputs": [],
   "source": [
    "np.random.seed(1)\n",
    "X_tmp = np.random.rand(5,6)\n",
    "y_tmp = np.array([0,1,0,1,0])\n",
    "w_tmp = np.random.rand(X_tmp.shape[1]).reshape(-1,)-0.5\n",
    "b_tmp = 0.5\n",
    "lambda_tmp = 0.7\n",
    "cost_tmp = compute_cost_linear_reg(X_tmp, y_tmp, w_tmp, b_tmp, lambda_tmp)\n",
    "\n",
    "print(\"Regularized cost:\", cost_tmp)"
   ]
  },
  {
   "cell_type": "markdown",
   "id": "3ecf885d",
   "metadata": {},
   "source": [
    "**ผลลัพธ์ที่คาดหวัง**:\n",
    "<table>\n",
    "  <tr>\n",
    "    <td> <b>Regularized cost: </b> 0.07917239320214275 </td>\n",
    "  </tr>\n",
    "</table>"
   ]
  },
  {
   "cell_type": "markdown",
   "id": "0768aad7",
   "metadata": {},
   "source": [
    "### ฟังก์ชันต้นทุนสำหรับการถดถอยโลจิสติกแบบมีการปรับมาตรฐาน (regularized logistic regression)\n",
    "\n",
    "สำหรับการถดถอยโลจิสติกแบบมีการปรับมาตรฐาน (regularized logistic regression) ฟังก์ชันต้นทุน (cost function) มีรูปแบบดังนี้:\n",
    "\n",
    "$$J(\\mathbf{w},b) = \\frac{1}{m}  \\sum_{i=0}^{m-1} \\left[ -y^{(i)} \\log\\left(f_{\\mathbf{w},b}\\left( \\mathbf{x}^{(i)} \\right) \\right) - \\left( 1 - y^{(i)}\\right) \\log \\left( 1 - f_{\\mathbf{w},b}\\left( \\mathbf{x}^{(i)} \\right) \\right) \\right] + \\frac{\\lambda}{2m}  \\sum_{j=0}^{n-1} w_j^2 \\tag{3}$$\n",
    "โดยที่:\n",
    "\n",
    "$$ f_{\\mathbf{w},b}(\\mathbf{x}^{(i)}) = sigmoid(\\mathbf{w} \\cdot \\mathbf{x}^{(i)} + b)  \\tag{4} $$ \n",
    "\n",
    "เมื่อเปรียบเทียบกับฟังก์ชันต้นทุนที่ไม่มีการปรับมาตรฐาน (ซึ่งคุณได้ใช้งานใน lab ก่อนหน้านี้)\n",
    "\n",
    "$$ J(\\mathbf{w},b) = \\frac{1}{m}\\sum_{i=0}^{m-1} \\left[ (-y^{(i)} \\log\\left(f_{\\mathbf{w},b}\\left( \\mathbf{x}^{(i)} \\right) \\right) - \\left( 1 - y^{(i)}\\right) \\log \\left( 1 - f_{\\mathbf{w},b}\\left( \\mathbf{x}^{(i)} \\right) \\right)\\right] $$\n",
    "\n",
    "ความแตกต่างอยู่ที่เทอมการปรับมาตรฐาน (regularization term) ซึ่งคือ:\n",
    "   <span style=\"color:blue\">\n",
    "    $\\frac{\\lambda}{2m}  \\sum_{j=0}^{n-1} w_j^2$ </span> \n",
    "\n",
    "การรวมเทอมนี้เข้าไปจะช่วยกระตุ้นให้การไล่ระดับ (gradient descent) ลดขนาดของพารามิเตอร์ (parameters)\n",
    "\n",
    "โปรดสังเกตว่าในตัวอย่างนี้ พารามิเตอร์ b ไม่ได้ถูกปรับมาตรฐาน เป็นการปฏิบัติตามมาตรฐานทั่วไป"
   ]
  },
  {
   "cell_type": "code",
   "execution_count": null,
   "id": "2792f9e2",
   "metadata": {},
   "outputs": [],
   "source": [
    "def compute_cost_logistic_reg(X, y, w, b, lambda_ = 1):\n",
    "    \"\"\"\n",
    "    Computes the cost over all examples\n",
    "    Args:\n",
    "    Args:\n",
    "      X (ndarray (m,n): Data, m examples with n features\n",
    "      y (ndarray (m,)): target values\n",
    "      w (ndarray (n,)): model parameters  \n",
    "      b (scalar)      : model parameter\n",
    "      lambda_ (scalar): Controls amount of regularization\n",
    "    Returns:\n",
    "      total_cost (scalar):  cost \n",
    "    \"\"\"\n",
    "\n",
    "    m,n  = X.shape\n",
    "    cost = 0.\n",
    "    for i in range(m):\n",
    "        z_i = np.dot(X[i], w) + b                                      #(n,)(n,)=scalar, see np.dot\n",
    "        f_wb_i = sigmoid(z_i)                                          #scalar\n",
    "        cost +=  -y[i]*np.log(f_wb_i) - (1-y[i])*np.log(1-f_wb_i)      #scalar\n",
    "             \n",
    "    cost = cost/m                                                      #scalar\n",
    "\n",
    "    reg_cost = 0\n",
    "    for j in range(n):\n",
    "        reg_cost += (w[j]**2)                                          #scalar\n",
    "    reg_cost = (lambda_/(2*m)) * reg_cost                              #scalar\n",
    "    \n",
    "    total_cost = cost + reg_cost                                       #scalar\n",
    "    return total_cost                                                  #scalar"
   ]
  },
  {
   "cell_type": "markdown",
   "id": "fd630612",
   "metadata": {},
   "source": [
    "รันเซลล์ด้านล่างเพื่อดูการทำงานจริง"
   ]
  },
  {
   "cell_type": "code",
   "execution_count": null,
   "id": "0d654fea",
   "metadata": {
    "tags": []
   },
   "outputs": [],
   "source": [
    "np.random.seed(1)\n",
    "X_tmp = np.random.rand(5,6)\n",
    "y_tmp = np.array([0,1,0,1,0])\n",
    "w_tmp = np.random.rand(X_tmp.shape[1]).reshape(-1,)-0.5\n",
    "b_tmp = 0.5\n",
    "lambda_tmp = 0.7\n",
    "cost_tmp = compute_cost_logistic_reg(X_tmp, y_tmp, w_tmp, b_tmp, lambda_tmp)\n",
    "\n",
    "print(\"Regularized cost:\", cost_tmp)"
   ]
  },
  {
   "cell_type": "markdown",
   "id": "86947757",
   "metadata": {},
   "source": [
    "**ผลลัพธ์คาดหวัง**:\n",
    "<table>\n",
    "  <tr>\n",
    "    <td> <b>Regularized cost: </b> 0.6850849138741673 </td>\n",
    "  </tr>\n",
    "</table>"
   ]
  },
  {
   "cell_type": "markdown",
   "id": "b4b5ed1d",
   "metadata": {},
   "source": [
    "## การไล่ระดับ (Gradient Descent) พร้อมการปรับสมดุล (Regularization)\n",
    "อัลกอริทึมพื้นฐานของการไล่ระดับ (gradient descent) จะไม่เปลี่ยนแปลงเมื่อมีการปรับสมดุล (regularization)\n",
    "\n",
    "$$\\begin{align*}\n",
    "&\\text{repeat until convergence:} \\; \\lbrace \\\\\n",
    "&  \\; \\; \\;w_j = w_j -  \\alpha \\frac{\\partial J(\\mathbf{w},b)}{\\partial w_j} \\tag{1}  \\; & \\text{for j := 0..n-1} \\\\ \n",
    "&  \\; \\; \\;  \\; \\;b = b -  \\alpha \\frac{\\partial J(\\mathbf{w},b)}{\\partial b} \\\\\n",
    "&\\rbrace\n",
    "\\end{align*}$$\n",
    "ในอัลกอริทึมการไล่ระดับ (gradient descent) การอัปเดตพารามิเตอร์  $w_j$ จะทำพร้อมกันสำหรับทุกค่า $j$.ในแต่ละรอบการวนซ้ำ (iteration)\n",
    "\n",
    "เมื่อมีการเพิ่มเทคนิคการปรับปรุง (regularization) สิ่งที่เปลี่ยนแปลงคือการคำนวณการไล่ระดับ (gradients)"
   ]
  },
  {
   "cell_type": "markdown",
   "id": "bf161f7d",
   "metadata": {},
   "source": [
    "### การคำนวณ Gradient พร้อมการปรับสมดุล (Regularization) สำหรับ Linear และ Logistic Regression\n",
    "การคำนวณ Gradient สำหรับทั้ง Linear Regression และ Logistic Regression นั้นแทบจะเหมือนกัน โดยแตกต่างกันเพียงแค่การคำนวณ  $f_{\\mathbf{w}b}$ เท่านั้น\n",
    "$$\\begin{align*}\n",
    "\\frac{\\partial J(\\mathbf{w},b)}{\\partial w_j}  &= \\frac{1}{m} \\sum\\limits_{i = 0}^{m-1} (f_{\\mathbf{w},b}(\\mathbf{x}^{(i)}) - y^{(i)})x_{j}^{(i)}  +  \\frac{\\lambda}{m} w_j \\tag{2} \\\\\n",
    "\\frac{\\partial J(\\mathbf{w},b)}{\\partial b}  &= \\frac{1}{m} \\sum\\limits_{i = 0}^{m-1} (f_{\\mathbf{w},b}(\\mathbf{x}^{(i)}) - y^{(i)}) \\tag{3} \n",
    "\\end{align*}$$\n",
    "\n",
    "* m คือจำนวนตัวอย่างการฝึก (training examples) ในชุดข้อมูล      \n",
    "* $f_{\\mathbf{w},b}(x^{(i)})$  คือการทำนายของโมเดล ขณะที่  $y^{(i)}$ คือเป้าหมาย (target)\n",
    "\n",
    "      \n",
    "* สำหรับ a  <span style=\"color:blue\"> **linear** </span> regression model  \n",
    "    $f_{\\mathbf{w},b}(x) = \\mathbf{w} \\cdot \\mathbf{x} + b$  \n",
    "* สำหรับ a <span style=\"color:blue\"> **logistic** </span> regression model  \n",
    "    $z = \\mathbf{w} \\cdot \\mathbf{x} + b$  \n",
    "    $f_{\\mathbf{w},b}(x) = g(z)$  \n",
    "    โดยที่ $g(z)$ คือ sigmoid function:  \n",
    "    $g(z) = \\frac{1}{1+e^{-z}}$   \n",
    "    \n",
    "เทอมที่ใช้ในการปรับตัวคือ  <span style=\"color:blue\">$\\frac{\\lambda}{m} w_j $</span>"
   ]
  },
  {
   "cell_type": "markdown",
   "id": "007e4647",
   "metadata": {},
   "source": [
    "### ฟังก์ชันการไล่ระดับสำหรับการถดถอยเชิงเส้นแบบมีการปรับค่า (regularized linear regression)"
   ]
  },
  {
   "cell_type": "code",
   "execution_count": null,
   "id": "2a95e3e9",
   "metadata": {},
   "outputs": [],
   "source": [
    "def compute_gradient_linear_reg(X, y, w, b, lambda_): \n",
    "    \"\"\"\n",
    "    Computes the gradient for linear regression \n",
    "    Args:\n",
    "      X (ndarray (m,n): Data, m examples with n features\n",
    "      y (ndarray (m,)): target values\n",
    "      w (ndarray (n,)): model parameters  \n",
    "      b (scalar)      : model parameter\n",
    "      lambda_ (scalar): Controls amount of regularization\n",
    "      \n",
    "    Returns:\n",
    "      dj_dw (ndarray (n,)): The gradient of the cost w.r.t. the parameters w. \n",
    "      dj_db (scalar):       The gradient of the cost w.r.t. the parameter b. \n",
    "    \"\"\"\n",
    "    m,n = X.shape           #(number of examples, number of features)\n",
    "    dj_dw = np.zeros((n,))\n",
    "    dj_db = 0.\n",
    "\n",
    "    for i in range(m):                             \n",
    "        err = (np.dot(X[i], w) + b) - y[i]                 \n",
    "        for j in range(n):                         \n",
    "            dj_dw[j] = dj_dw[j] + err * X[i, j]               \n",
    "        dj_db = dj_db + err                        \n",
    "    dj_dw = dj_dw / m                                \n",
    "    dj_db = dj_db / m   \n",
    "    \n",
    "    for j in range(n):\n",
    "        dj_dw[j] = dj_dw[j] + (lambda_/m) * w[j]\n",
    "\n",
    "    return dj_db, dj_dw"
   ]
  },
  {
   "cell_type": "markdown",
   "id": "d5669537",
   "metadata": {},
   "source": [
    "รันเซลล์ด้านล่างเพื่อดูการทำงานจริง"
   ]
  },
  {
   "cell_type": "code",
   "execution_count": null,
   "id": "8bbf502f",
   "metadata": {},
   "outputs": [],
   "source": [
    "np.random.seed(1)\n",
    "X_tmp = np.random.rand(5,3)\n",
    "y_tmp = np.array([0,1,0,1,0])\n",
    "w_tmp = np.random.rand(X_tmp.shape[1])\n",
    "b_tmp = 0.5\n",
    "lambda_tmp = 0.7\n",
    "dj_db_tmp, dj_dw_tmp =  compute_gradient_linear_reg(X_tmp, y_tmp, w_tmp, b_tmp, lambda_tmp)\n",
    "\n",
    "print(f\"dj_db: {dj_db_tmp}\", )\n",
    "print(f\"Regularized dj_dw:\\n {dj_dw_tmp.tolist()}\", )"
   ]
  },
  {
   "cell_type": "markdown",
   "id": "99b00b44",
   "metadata": {},
   "source": [
    "**ผลลัพธ์คาดหวัง**\n",
    "```\n",
    "dj_db: 0.6648774569425726\n",
    "Regularized dj_dw:\n",
    " [0.29653214748822276, 0.4911679625918033, 0.21645877535865857]\n",
    " ```"
   ]
  },
  {
   "cell_type": "markdown",
   "id": "86a12c13",
   "metadata": {},
   "source": [
    "### ฟังก์ชันการไล่ระดับสำหรับการถดถอยโลจิสติกแบบมีการปรับสมดุล (Regularized Logistic Regression)\n"
   ]
  },
  {
   "cell_type": "code",
   "execution_count": null,
   "id": "1d76fbd1",
   "metadata": {},
   "outputs": [],
   "source": [
    "def compute_gradient_logistic_reg(X, y, w, b, lambda_): \n",
    "    \"\"\"\n",
    "    Computes the gradient for linear regression \n",
    " \n",
    "    Args:\n",
    "      X (ndarray (m,n): Data, m examples with n features\n",
    "      y (ndarray (m,)): target values\n",
    "      w (ndarray (n,)): model parameters  \n",
    "      b (scalar)      : model parameter\n",
    "      lambda_ (scalar): Controls amount of regularization\n",
    "    Returns\n",
    "      dj_dw (ndarray Shape (n,)): The gradient of the cost w.r.t. the parameters w. \n",
    "      dj_db (scalar)            : The gradient of the cost w.r.t. the parameter b. \n",
    "    \"\"\"\n",
    "    m,n = X.shape\n",
    "    dj_dw = np.zeros((n,))                            #(n,)\n",
    "    dj_db = 0.0                                       #scalar\n",
    "\n",
    "    for i in range(m):\n",
    "        f_wb_i = sigmoid(np.dot(X[i],w) + b)          #(n,)(n,)=scalar\n",
    "        err_i  = f_wb_i  - y[i]                       #scalar\n",
    "        for j in range(n):\n",
    "            dj_dw[j] = dj_dw[j] + err_i * X[i,j]      #scalar\n",
    "        dj_db = dj_db + err_i\n",
    "    dj_dw = dj_dw/m                                   #(n,)\n",
    "    dj_db = dj_db/m                                   #scalar\n",
    "\n",
    "    for j in range(n):\n",
    "        dj_dw[j] = dj_dw[j] + (lambda_/m) * w[j]\n",
    "\n",
    "    return dj_db, dj_dw  \n"
   ]
  },
  {
   "cell_type": "markdown",
   "id": "9a015ab6",
   "metadata": {},
   "source": [
    "รันเซลล์ด้านล่างเพื่อดูการทำงานจริง"
   ]
  },
  {
   "cell_type": "code",
   "execution_count": null,
   "id": "7ca0c192",
   "metadata": {},
   "outputs": [],
   "source": [
    "np.random.seed(1)\n",
    "X_tmp = np.random.rand(5,3)\n",
    "y_tmp = np.array([0,1,0,1,0])\n",
    "w_tmp = np.random.rand(X_tmp.shape[1])\n",
    "b_tmp = 0.5\n",
    "lambda_tmp = 0.7\n",
    "dj_db_tmp, dj_dw_tmp =  compute_gradient_logistic_reg(X_tmp, y_tmp, w_tmp, b_tmp, lambda_tmp)\n",
    "\n",
    "print(f\"dj_db: {dj_db_tmp}\", )\n",
    "print(f\"Regularized dj_dw:\\n {dj_dw_tmp.tolist()}\", )"
   ]
  },
  {
   "cell_type": "markdown",
   "id": "41c06d18",
   "metadata": {},
   "source": [
    "**ผลลัพธ์คาดหวัง**\n",
    "```\n",
    "dj_db: 0.341798994972791\n",
    "Regularized dj_dw:\n",
    " [0.17380012933994293, 0.32007507881566943, 0.10776313396851499]\n",
    " ```"
   ]
  },
  {
   "cell_type": "markdown",
   "id": "dfc70f84",
   "metadata": {},
   "source": [
    "## รันตัวอย่างการโอเวอร์ฟิตติ้งอีกครั้ง"
   ]
  },
  {
   "cell_type": "code",
   "execution_count": null,
   "id": "ff30fb29",
   "metadata": {},
   "outputs": [],
   "source": [
    "plt.close(\"all\")\n",
    "display(output)\n",
    "ofit = overfit_example(True)"
   ]
  },
  {
   "cell_type": "markdown",
   "id": "218e49a8",
   "metadata": {},
   "source": [
    "ในกราฟข้างต้น ให้ลองทดลองการปรับค่า regularization (การควบคุมความซับซ้อนของโมเดล) บนตัวอย่างก่อนหน้า\n",
    "\n",
    "- การจำแนก (Categorical Regression):\n",
    "    - ตั้งค่า degree เป็น 6 และ lambda เป็น 0 (ไม่มีการปรับค่า regularization) แล้วทำการ fit ข้อมูล\n",
    "    - จากนั้น ตั้งค่า lambda เป็น 1 (เพิ่มการปรับค่า regularization) แล้วทำการ fit ข้อมูลอีกครั้ง สังเกตความแตกต่าง\n",
    "- การถดถอย (Regression):\n",
    "    - ทำตามขั้นตอนเดียวกันกับการจำแนก\n",
    "    - ทดลองเปลี่ยนค่า degree และ lambda เพื่อสังเกตผลกระทบต่อโมเดล"
   ]
  },
  {
   "cell_type": "markdown",
   "id": "5fbc57a7",
   "metadata": {},
   "source": [
    "## ขอแสดงความยินดี!\n",
    "คุณได้:\n",
    "- ตัวอย่างของค่าใช้จ่ายและการไล่ระดับ (gradient) ที่มีการเพิ่มการปรับมาตรฐาน (regularization) สำหรับทั้งการถดถอยเชิงเส้นและการถดถอยโลจิสติก\n",
    "- พัฒนาทักษะในการเข้าใจว่าการปรับมาตรฐานสามารถช่วยลดการโอเวอร์ฟิต (overfitting) ได้อย่างไร\n",
    "\n",
    "\n",
    "\n",
    "\n",
    "\n",
    "\n"
   ]
  },
  {
   "cell_type": "code",
   "execution_count": null,
   "metadata": {},
   "outputs": [],
   "source": []
  }
 ],
 "metadata": {
  "kernelspec": {
   "display_name": "Python 3",
   "language": "python",
   "name": "python3"
  },
  "language_info": {
   "codemirror_mode": {
    "name": "ipython",
    "version": 3
   },
   "file_extension": ".py",
   "mimetype": "text/x-python",
   "name": "python",
   "nbconvert_exporter": "python",
   "pygments_lexer": "ipython3",
   "version": "3.7.6"
  }
 },
 "nbformat": 4,
 "nbformat_minor": 5
}
