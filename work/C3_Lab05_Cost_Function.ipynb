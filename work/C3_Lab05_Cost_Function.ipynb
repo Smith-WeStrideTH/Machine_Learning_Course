{
 "cells": [
  {
   "cell_type": "markdown",
   "id": "68fc3703",
   "metadata": {},
   "source": [
    "# การคำนวณค่าใช้จ่าย (Cost Function) สำหรับ Logistic Regression: การทดลองเสริม\n",
    "\n",
    "## เป้าหมาย:\n",
    "ในการทดลองนี้ คุณจะ:\n",
    "- ศึกษาการใช้งานและประยุกต์ใช้ฟังก์ชันค่าใช้จ่ายสำหรับ Logistic Regression\n",
    "\n",
    "\n",
    "\n",
    "\n",
    "\n",
    "\n"
   ]
  },
  {
   "cell_type": "code",
   "execution_count": null,
   "id": "5983e8b6",
   "metadata": {},
   "outputs": [],
   "source": [
    "from google.colab import output\n",
    "output.enable_custom_widget_manager()\n",
    "try:\n",
    "  %matplotlib widget\n",
    "  print(\"widget is already installed\")\n",
    "except:\n",
    "  print(\"widget is not been installed, install now..\")\n",
    "  !pip install ipympl"
   ]
  },
  {
   "cell_type": "code",
   "execution_count": null,
   "id": "947a0e3e",
   "metadata": {},
   "outputs": [],
   "source": [
    "# prompt: import requsts and download from this github link : https://raw.githubusercontent.com/Smith-WeStrideTH/Machine_Learning_Course/main/work/deeplearning.mplstyle\n",
    "\n",
    "import requests\n",
    "from pathlib import Path\n",
    "\n",
    "url = 'https://raw.githubusercontent.com/Smith-WeStrideTH/Machine_Learning_Course/main/work/deeplearning.mplstyle'\n",
    "url2 = 'https://raw.githubusercontent.com/Smith-WeStrideTH/Machine_Learning_Course/main/work/plt_logistic_loss.py'\n",
    "url3 = 'https://raw.githubusercontent.com/Smith-WeStrideTH/Machine_Learning_Course/main/work/lab_utils_common_c3.py'\n",
    "\n",
    "response = requests.get(url)\n",
    "with open('deeplearning.mplstyle', 'wb') as f:\n",
    "  f.write(response.content)\n",
    "\n",
    "response = requests.get(url2)\n",
    "with open('plt_logistic_loss.py', 'wb') as f:\n",
    "  f.write(response.content)\n",
    "\n",
    "response = requests.get(url3)\n",
    "with open('lab_utils_common.py', 'wb') as f:\n",
    "  f.write(response.content)"
   ]
  },
  {
   "cell_type": "code",
   "execution_count": null,
   "id": "bd6df0fb",
   "metadata": {},
   "outputs": [],
   "source": [
    "import numpy as np\n",
    "%matplotlib widget\n",
    "import matplotlib.pyplot as plt\n",
    "from lab_utils_common import  plot_data, sigmoid, dlc\n",
    "plt.style.use('./deeplearning.mplstyle')"
   ]
  },
  {
   "cell_type": "markdown",
   "id": "e44eba45",
   "metadata": {},
   "source": [
    "## ชุดข้อมูล (Dataset)\n",
    "เราจะเริ่มต้นด้วยชุดข้อมูลเดียวกันกับที่ใช้ในการทดลองเกี่ยวกับขอบเขตการตัดสินใจ (decision boundary)\n"
   ]
  },
  {
   "cell_type": "code",
   "execution_count": null,
   "id": "c4c14b17",
   "metadata": {
    "tags": []
   },
   "outputs": [],
   "source": [
    "X_train = np.array([[0.5, 1.5], [1,1], [1.5, 0.5], [3, 0.5], [2, 2], [1, 2.5]])  #(m,n)\n",
    "y_train = np.array([0, 0, 0, 1, 1, 1])                                           #(m,)"
   ]
  },
  {
   "cell_type": "markdown",
   "id": "5f0957bb",
   "metadata": {},
   "source": [
    "เราจะใช้ฟังก์ชันช่วยเพื่อพล็อตข้อมูลนี้ จุดข้อมูลที่มีป้ายกำกับ  $y=1$ จะแสดงเป็นกากบาทสีแดง ขณะที่จุดข้อมูลที่มีป้ายกำกับ $y=0$ จะแสดงเป็นวงกลมสีน้ำเงิน"
   ]
  },
  {
   "cell_type": "code",
   "execution_count": null,
   "id": "228ce1d9",
   "metadata": {},
   "outputs": [],
   "source": [
    "fig,ax = plt.subplots(1,1,figsize=(4,4))\n",
    "plot_data(X_train, y_train, ax)\n",
    "\n",
    "# Set both axes to be from 0-4\n",
    "ax.axis([0, 4, 0, 3.5])\n",
    "ax.set_ylabel('$x_1$', fontsize=12)\n",
    "ax.set_xlabel('$x_0$', fontsize=12)\n",
    "plt.show()"
   ]
  },
  {
   "cell_type": "markdown",
   "id": "e27afff8",
   "metadata": {},
   "source": [
    "## ฟังก์ชันต้นทุน (Cost function)\n",
    "\n",
    "ใน lab ก่อนหน้านี้ คุณได้พัฒนา ฟังก์ชันการสูญเสียแบบโลจิสติก *(logistic loss function)*การทบทวน: ฟังก์ชันการสูญเสีย (loss) ถูกกำหนดให้ใช้กับตัวอย่างหนึ่ง\n",
    "ในที่นี้ คุณจะรวมฟังก์ชันการสูญเสียทั้งหมดเพื่อสร้าง *ฟังก์ชันต้นทุน (cost)* ซึ่งรวมถึงตัวอย่างทั้งหมด\n",
    "\n",
    "ในการถดถอยโลจิสติก ฟังก์ชันต้นทุน (cost function) จะอยู่ในรูปแบบดังนี้\n",
    "\n",
    "$$ J(\\mathbf{w},b) = \\frac{1}{m} \\sum_{i=0}^{m-1} \\left[ loss(f_{\\mathbf{w},b}(\\mathbf{x}^{(i)}), y^{(i)}) \\right] \\tag{1}$$\n",
    "\n",
    "โดยที่\n",
    "* $loss(f_{\\mathbf{w},b}(\\mathbf{x}^{(i)}), y^{(i)})$ is the cost for a single data point, which is:\n",
    "\n",
    "    $$loss(f_{\\mathbf{w},b}(\\mathbf{x}^{(i)}), y^{(i)}) = -y^{(i)} \\log\\left(f_{\\mathbf{w},b}\\left( \\mathbf{x}^{(i)} \\right) \\right) - \\left( 1 - y^{(i)}\\right) \\log \\left( 1 - f_{\\mathbf{w},b}\\left( \\mathbf{x}^{(i)} \\right) \\right) \\tag{2}$$\n",
    "    \n",
    "*  เมื่อ m คือจำนวนตัวอย่างการฝึกในชุดข้อมูล และ:\n",
    "\n",
    "$$\n",
    "\\begin{align}\n",
    "  f_{\\mathbf{w},b}(\\mathbf{x^{(i)}}) &= g(z^{(i)})\\tag{3} \\\\\n",
    "  z^{(i)} &= \\mathbf{w} \\cdot \\mathbf{x}^{(i)}+ b\\tag{4} \\\\\n",
    "  g(z^{(i)}) &= \\frac{1}{1+e^{-z^{(i)}}}\\tag{5} \n",
    "\\end{align}\n",
    "$$\n",
    " "
   ]
  },
  {
   "cell_type": "markdown",
   "id": "806e37b3",
   "metadata": {},
   "source": [
    "<a name='ex-02'></a>\n",
    "#### คำอธิบายโค้ด\n",
    "\n",
    "\n",
    "อัลกอริทึม  `compute_cost_logistic` ทำการวนลูปผ่านตัวอย่างทั้งหมด คำนวณค่าสูญเสีย (loss) สำหรับแต่ละตัวอย่าง และสะสมผลรวมทั้งหมด\n",
    "\n",
    "โปรดสังเกตว่าตัวแปร X และ  y ไม่ใช่ค่าสเกลาร์ แต่เป็นเมทริกซ์ที่มีขนาด ($m, n$) และ  ($𝑚$,)  ตามลำดับ โดย $𝑛$ คือจำนวนฟีเจอร์ และ $𝑚$ คือจำนวนตัวอย่างการฝึก\n"
   ]
  },
  {
   "cell_type": "code",
   "execution_count": null,
   "id": "22fe7595",
   "metadata": {},
   "outputs": [],
   "source": [
    "def compute_cost_logistic(X, y, w, b):\n",
    "    \"\"\"\n",
    "    Computes cost\n",
    "\n",
    "    Args:\n",
    "      X (ndarray (m,n)): Data, m examples with n features\n",
    "      y (ndarray (m,)) : target values\n",
    "      w (ndarray (n,)) : model parameters  \n",
    "      b (scalar)       : model parameter\n",
    "      \n",
    "    Returns:\n",
    "      cost (scalar): cost\n",
    "    \"\"\"\n",
    "\n",
    "    m = X.shape[0]\n",
    "    cost = 0.0\n",
    "    for i in range(m):\n",
    "        z_i = np.dot(X[i],w) + b\n",
    "        f_wb_i = sigmoid(z_i)\n",
    "        cost +=  -y[i]*np.log(f_wb_i) - (1-y[i])*np.log(1-f_wb_i)\n",
    "             \n",
    "    cost = cost / m\n",
    "    return cost\n"
   ]
  },
  {
   "cell_type": "markdown",
   "id": "0281f828",
   "metadata": {},
   "source": [
    "ตรวจสอบการใช้งานฟังก์ชันค่าใช้จ่าย (cost function) ในเซลล์ด้านล่าง"
   ]
  },
  {
   "cell_type": "code",
   "execution_count": null,
   "id": "bcf0de08",
   "metadata": {},
   "outputs": [],
   "source": [
    "w_tmp = np.array([1,1])\n",
    "b_tmp = -3\n",
    "print(compute_cost_logistic(X_train, y_train, w_tmp, b_tmp))"
   ]
  },
  {
   "cell_type": "markdown",
   "id": "7b11e648",
   "metadata": {},
   "source": [
    "**ผลลัพธ์เป้าหมาย**: 0.3668667864055175"
   ]
  },
  {
   "cell_type": "markdown",
   "id": "c5b9b9fc",
   "metadata": {},
   "source": [
    "## ตัวอย่าง (Example)\n",
    "ตอนนี้เรามาดูกันว่าค่าฟังก์ชันต้นทุน (cost function) จะเป็นอย่างไร เมื่อเราเปลี่ยนค่า $w$. \n",
    "\n",
    "* ในการทดลองก่อนหน้านี้ คุณได้พล็อตเส้นแบ่งข้อมูล (decision boundary) สำหรับ   $b = -3, w_0 = 1, w_1 = 1$. นั่นคือ คุณมี `b = -3, w = np.array([1,1])`.\n",
    "\n",
    "* สมมติว่าคุณต้องการทราบว่าค่า $b = -4, w_0 = 1, w_1 = 1$, or `b = -4, w = np.array([1,1])` จะให้โมเดลที่ดีกว่า\n",
    "\n",
    "เราจะลองพล็อตเส้นแบ่งข้อมูลสำหรับค่า  $b$ ทั้งสองนี้ เพื่อดูว่าค่าใดเหมาะสมกับข้อมูลมากกว่า\n",
    "\n",
    "* สำหรับ $b = -3, w_0 = 1, w_1 = 1$, we'll plot $-3 + x_0+x_1 = 0$ (เเสดงสีเขียว)\n",
    "* สำหรับ $b = -4, w_0 = 1, w_1 = 1$, we'll plot $-4 + x_0+x_1 = 0$ (เเสดงสีม่วง)"
   ]
  },
  {
   "cell_type": "code",
   "execution_count": null,
   "id": "76031de7",
   "metadata": {},
   "outputs": [],
   "source": [
    "import matplotlib.pyplot as plt\n",
    "\n",
    "# Choose values between 0 and 6\n",
    "x0 = np.arange(0,6)\n",
    "\n",
    "# Plot the two decision boundaries\n",
    "x1 = 3 - x0\n",
    "x1_other = 4 - x0\n",
    "\n",
    "fig,ax = plt.subplots(1, 1, figsize=(4,4))\n",
    "# Plot the decision boundary\n",
    "ax.plot(x0,x1, c=dlc[\"dlblue\"], label=\"$b$=-3\")\n",
    "ax.plot(x0,x1_other, c=dlc[\"dlmagenta\"], label=\"$b$=-4\")\n",
    "ax.axis([0, 4, 0, 4])\n",
    "\n",
    "# Plot the original data\n",
    "plot_data(X_train,y_train,ax)\n",
    "ax.axis([0, 4, 0, 4])\n",
    "ax.set_ylabel('$x_1$', fontsize=12)\n",
    "ax.set_xlabel('$x_0$', fontsize=12)\n",
    "plt.legend(loc=\"upper right\")\n",
    "plt.title(\"Decision Boundary\")\n",
    "plt.show()"
   ]
  },
  {
   "cell_type": "markdown",
   "id": "5e38551a",
   "metadata": {},
   "source": [
    "คุณสามารถเห็นจากพล็อตนี้ว่า`b = -4, w = np.array([1,1])` เป็นโมเดลที่แย่กว่าสำหรับข้อมูลฝึกอบรม\n",
    "ลองดูว่าการใช้งานฟังก์ชันต้นทุนสะท้อนถึงสิ่งนี้หรือไม่"
   ]
  },
  {
   "cell_type": "code",
   "execution_count": null,
   "id": "8c7f3a3b",
   "metadata": {},
   "outputs": [],
   "source": [
    "w_array1 = np.array([1,1])\n",
    "b_1 = -3\n",
    "w_array2 = np.array([1,1])\n",
    "b_2 = -4\n",
    "\n",
    "print(\"Cost for b = -3 : \", compute_cost_logistic(X_train, y_train, w_array1, b_1))\n",
    "print(\"Cost for b = -4 : \", compute_cost_logistic(X_train, y_train, w_array2, b_2))"
   ]
  },
  {
   "cell_type": "markdown",
   "id": "b15069b5",
   "metadata": {},
   "source": [
    "**ผลลัพธ์เป้าหมาย**\n",
    "\n",
    "Cost สำหรับ b = -3 :  0.3668667864055175\n",
    "\n",
    "Cost สำหรับ b = -4 :  0.5036808636748461\n",
    "\n",
    "\n",
    "ในตัวอย่างนี้ คุณสามารถสังเกตได้ว่าค่าใช้จ่าย (cost function) มีพฤติกรรมตามที่คาดหวัง cost สำหรับ\n",
    "`b = -4, w = np.array([1,1])` นั่นหมายความว่าการปรับค่า `b = -3, w = np.array([1,1])` ทำให้ cost ลดลง\n",
    "\n",
    "\n",
    "\n",
    "\n",
    "\n",
    "\n"
   ]
  },
  {
   "cell_type": "markdown",
   "id": "774ea896",
   "metadata": {},
   "source": [
    "## ยินดีด้วย!\n",
    "ในห้องปฏิบัติการนี้ คุณได้ตรวจสอบและใช้ฟังก์ชันต้นทุนสำหรับการถดถอยโลจิสติก (logistic regression) แล้ว"
   ]
  },
  {
   "cell_type": "code",
   "execution_count": null,
   "metadata": {},
   "outputs": [],
   "source": []
  }
 ],
 "metadata": {
  "kernelspec": {
   "display_name": "Python 3",
   "language": "python",
   "name": "python3"
  },
  "language_info": {
   "codemirror_mode": {
    "name": "ipython",
    "version": 3
   },
   "file_extension": ".py",
   "mimetype": "text/x-python",
   "name": "python",
   "nbconvert_exporter": "python",
   "pygments_lexer": "ipython3",
   "version": "3.7.6"
  }
 },
 "nbformat": 4,
 "nbformat_minor": 5
}
