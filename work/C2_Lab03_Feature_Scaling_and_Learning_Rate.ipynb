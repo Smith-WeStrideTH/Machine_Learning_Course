{
 "cells": [
  {
   "cell_type": "markdown",
   "metadata": {},
   "source": [
    "# ห้องปฏิบัติการเสริม: การปรับขนาดคุณสมบัติ (Feature scaling) และอัตราการเรียนรู้ (Learning Rate) (หลายตัวแปร)"
   ]
  },
  {
   "cell_type": "markdown",
   "metadata": {},
   "source": [
    "เป้าหมาย\n",
    "ในห้องปฏิบัติการนี้ คุณจะ:\n",
    "\n",
    "- ใช้รูทีนการคำนวณตัวแปรหลายตัวที่พัฒนาในห้องปฏิบัติการก่อนหน้านี้\n",
    "- รันอัลกอริทึม Gradient Descent บนชุดข้อมูลที่มีหลายฟีเจอร์\n",
    "- สำรวจผลกระทบของอัตราการเรียนรู้ (learning rate alpha) ต่ออัลกอริทึม Gradient Descent\n",
    "- เพิ่มประสิทธิภาพของอัลกอริทึม Gradient Descent โดยใช้การปรับขนาดฟีเจอร์ (feature scaling) ด้วยวิธี z-score = normalization"
   ]
  },
  {
   "cell_type": "markdown",
   "metadata": {},
   "source": [
    "## เครื่องมือ\n",
    "คุณจะใช้ฟังก์ชันที่พัฒนาในแล็บสุดท้าย รวมถึง matplotlib และ NumPy"
   ]
  },
  {
   "cell_type": "code",
   "execution_count": null,
   "id": "7034839f",
   "metadata": {},
   "outputs": [],
   "source": [
    "# prompt: import requsts and download from this github link : https://raw.githubusercontent.com/Smith-WeStrideTH/Machine_Learning_Course/main/work/deeplearning.mplstyle\n",
    "\n",
    "import requests\n",
    "from pathlib import Path\n",
    "\n",
    "url = 'https://raw.githubusercontent.com/Smith-WeStrideTH/Machine_Learning_Course/main/work/deeplearning.mplstyle'\n",
    "url2 = 'https://raw.githubusercontent.com/Smith-WeStrideTH/Machine_Learning_Course/main/work/lab_utils_multi.py'\n",
    "url3 = 'https://raw.githubusercontent.com/Smith-WeStrideTH/Machine_Learning_Course/main/work/data/houses.txt'\n",
    "url4 = 'https://raw.githubusercontent.com/Smith-WeStrideTH/Machine_Learning_Course/main/work/lab_utils_common.py'\n",
    "\n",
    "response = requests.get(url)\n",
    "with open('deeplearning.mplstyle', 'wb') as f:\n",
    "  f.write(response.content)\n",
    "\n",
    "\n",
    "response = requests.get(url2)\n",
    "with open('lab_utils_multi.py', 'wb') as f:\n",
    "  f.write(response.content)\n",
    "\n",
    "response = requests.get(url3)\n",
    "data_path = Path('data')\n",
    "if not data_path.is_dir():\n",
    "  data_path.mkdir(parents=True, exist_ok=True)\n",
    "with open('data/houses.txt', 'wb') as f:\n",
    "  f.write(response.content)\n",
    "\n",
    "response = requests.get(url4)\n",
    "with open('lab_utils_common.py', 'wb') as f:\n",
    "  f.write(response.content)"
   ]
  },
  {
   "cell_type": "code",
   "execution_count": null,
   "id": "5c7d50c6",
   "metadata": {},
   "outputs": [],
   "source": [
    "import numpy as np\n",
    "import matplotlib.pyplot as plt\n",
    "from lab_utils_multi import  load_house_data, run_gradient_descent \n",
    "from lab_utils_multi import  norm_plot, plt_equal_scale, plot_cost_i_w\n",
    "from lab_utils_common import dlc\n",
    "np.set_printoptions(precision=2)\n",
    "plt.style.use('./deeplearning.mplstyle')"
   ]
  },
  {
   "cell_type": "markdown",
   "id": "42d99a08",
   "metadata": {},
   "source": [
    "## สัญลักษณ์และความหมาย:\n",
    "\n",
    "|General <br />  Notation  | Description| Python (if applicable) |\n",
    "|: ------------|: ------------------------------------------------------------||\n",
    "| $a$ | สเกลาร์ (scalar) ไม่เป็นตัวหนา                                                      ||\n",
    "| $\\mathbf{a}$ | เวกเตอร์ (vector) เป็นตัวหนา                                                 ||\n",
    "| $\\mathbf{A}$ | เมทริกซ์ (matrix) เป็นตัวหนาและตัวใหญ่                                         ||\n",
    "| **Regression** |         |    |     |\n",
    "|  $\\mathbf{X}$ | เมทริกซ์ของตัวอย่างการฝึก (training examples)                  | `X_train` |   \n",
    "|  $\\mathbf{y}$  | เวกเตอร์ของเป้าหมาย (targets) ของตัวอย่างการฝึก                | `y_train` \n",
    "|  $\\mathbf{x}^{(i)}$, $y^{(i)}$ | $i_{th}$ตัวอย่างการฝึกตัวที่ i | `X[i]`, `y[i]`|\n",
    "| m | จำนวนตัวอย่างการฝึก\t | `m`|\n",
    "| n | จำนวนคุณลักษณะ (features) ในแต่ละตัวอย่าง\t | `n`|\n",
    "|  $\\mathbf{w}$  |  พารามิเตอร์: น้ำหนัก (weight)\t,                       | `w`    |\n",
    "|  $b$           |  พารามิเตอร์: ไบแอส (bias)\t                                           | `b`    |     \n",
    "| $f_{\\mathbf{w},b}(\\mathbf{x}^{(i)})$ | ผลลัพธ์ของการประเมินโมเดลที่ตัวอย่าง  $\\mathbf{x}^{(i)}$  ด้วยพารามิเตอร์ $\\mathbf{w},b$: $f_{\\mathbf{w},b}(\\mathbf{x}^{(i)}) = \\mathbf{w} \\cdot \\mathbf{x}^{(i)}+b$  | `f_wb` | \n",
    "|$\\frac{\\partial J(\\mathbf{w},b)}{\\partial w_j}$| เกรเดียนต์ (gradient) หรืออนุพันธ์ย่อยของค่าใช้จ่าย (cost) เทียบกับพารามิเตอร์  $w_j$ |`dj_dw[j]`| \n",
    "|$\\frac{\\partial J(\\mathbf{w},b)}{\\partial b}$| เกรเดียนต์ (gradient) หรืออนุพันธ์ย่อยของค่าใช้จ่าย (cost) เทียบกับพารามิเตอร์  $b$| `dj_db`|"
   ]
  },
  {
   "cell_type": "markdown",
   "id": "e10c399c",
   "metadata": {},
   "source": [
    "#  ภารกิจ: คาดการณ์ราคาบ้าน\n",
    "เหมือนกับ Lab ก่อนๆ คุณจะใช้ตัวอย่างการคาดการณ์ราคาบ้านเป็นแรงบันดาลใจ\n",
    "\n",
    "ชุดข้อมูลฝึกประกอบด้วยตัวอย่างหลายตัวที่มี 4 คุณลักษณะ (ขนาด, ห้องนอน, ชั้น และอายุ) ตามตารางด้านล่าง โปรดสังเกตว่าใน Lab นี้ คุณลักษณะขนาดเป็นหน่วย sqft ในขณะที่ Lab ก่อนๆ ใช้หน่วย 1000 sqft ชุดข้อมูลนี้มีขนาดใหญ่กว่า Lab ก่อนๆ\n",
    "\n",
    "เราต้องการสร้างโมเดลการถดถอยเชิงเส้น (Linear Regression Model) โดยใช้ค่าเหล่านี้ เพื่อที่เราจะสามารถคาดการณ์ราคาของบ้านหลังอื่นๆ ได้ เช่น บ้านขนาด 1200 sqft มี 3 ห้องนอน 1 ชั้น และอายุ 40 ปี\n",
    "\n",
    "\n",
    "##  Dataset: \n",
    "| Size (sqft) | Number of Bedrooms  | Number of floors | Age of  Home | Price (1000s dollars)  |   \n",
    "| ----------------| ------------------- |----------------- |--------------|----------------------- |  \n",
    "| 952             | 2                   | 1                | 65           | 271.5                  |  \n",
    "| 1244            | 3                   | 2                | 64           | 232                    |  \n",
    "| 1947            | 3                   | 2                | 17           | 509.8                  |  \n",
    "| ...             | ...                 | ...              | ...          | ...                    |\n"
   ]
  },
  {
   "cell_type": "code",
   "execution_count": null,
   "id": "4a6c4ae7",
   "metadata": {},
   "outputs": [],
   "source": [
    "# load the dataset\n",
    "X_train, y_train = load_house_data()\n",
    "X_features = ['size(sqft)','bedrooms','floors','age']"
   ]
  },
  {
   "cell_type": "markdown",
   "id": "a466af2c",
   "metadata": {},
   "source": [
    "มาดูข้อมูลและลักษณะของข้อมูลโดยการพล็อตแต่ละลักษณะกับราคา"
   ]
  },
  {
   "cell_type": "code",
   "execution_count": null,
   "id": "a6c4ae98",
   "metadata": {},
   "outputs": [],
   "source": [
    "fig,ax=plt.subplots(1, 4, figsize=(12, 3), sharey=True)\n",
    "for i in range(len(ax)):\n",
    "    ax[i].scatter(X_train[:,i],y_train)\n",
    "    ax[i].set_xlabel(X_features[i])\n",
    "ax[0].set_ylabel(\"Price (1000's)\")\n",
    "plt.show()"
   ]
  },
  {
   "cell_type": "markdown",
   "metadata": {},
   "source": [
    "การพล็อตแต่ละคุณลักษณะเทียบกับเป้าหมายคือราคา จะแสดงให้เห็นถึงคุณลักษณะใดที่มีอิทธิพลต่อราคาอย่างมากที่สุด จากภาพข้างบน การเพิ่มขนาดก็จะเพิ่มราคาด้วย ห้องนอนและชั้นดูเหมือนจะไม่มีผลกระทบอย่างมากต่อราคา บ้านใหม่มีราคาสูงกว่าบ้านเก่า"
   ]
  },
  {
   "cell_type": "markdown",
   "metadata": {},
   "source": [
    "<a name=\"toc_15456_5\"></a>\n",
    "## Gradient Descent With Multiple Variables - การไล่ระดับลงด้วยตัวแปรหลายตัว\n",
    "นี่คือสมการที่คุณได้พัฒนาขึ้นในห้องปฏิบัติการสุดท้ายเกี่ยวกับการไล่ระดับลงสำหรับตัวแปรหลายตัว:\n",
    "\n",
    "$$\\begin{align*} \\text{ทำซ้ำ}&\\text{ จนกว่า convergence:} \\; \\lbrace \\newline\\;\n",
    "& w_j := w_j -  \\alpha \\frac{\\partial J(\\mathbf{w},b)}{\\partial w_j} \\tag{1}  \\; & \\text{for j = 0..n-1}\\newline\n",
    "&b\\ \\ := b -  \\alpha \\frac{\\partial J(\\mathbf{w},b)}{\\partial b}  \\newline \\rbrace\n",
    "\\end{align*}$$\n",
    "\n",
    "โดยที่ n คือจำนวนลักษณะเฉพาะ พารามิเตอร์ $w_j$,  $b$, จะได้รับการอัปเดตพร้อมกัน และที่  \n",
    "\n",
    "$$\n",
    "\\begin{align}\n",
    "\\frac{\\partial J(\\mathbf{w},b)}{\\partial w_j}  &= \\frac{1}{m} \\sum\\limits_{i = 0}^{m-1} (f_{\\mathbf{w},b}(\\mathbf{x}^{(i)}) - y^{(i)})x_{j}^{(i)} \\tag{2}  \\\\\n",
    "\\frac{\\partial J(\\mathbf{w},b)}{\\partial b}  &= \\frac{1}{m} \\sum\\limits_{i = 0}^{m-1} (f_{\\mathbf{w},b}(\\mathbf{x}^{(i)}) - y^{(i)}) \\tag{3}\n",
    "\\end{align}\n",
    "$$\n",
    "* m คือจำนวนตัวอย่างการฝึกอบรมในชุดข้อมูล\n",
    "\n",
    "    \n",
    "*  $f_{\\mathbf{w},b}(\\mathbf{x}^{(i)})$ คือการทำนายของโมเดล ในขณะที่ $y^{(i)}$ คือค่าเป้าหมาย\n"
   ]
  },
  {
   "cell_type": "markdown",
   "metadata": {},
   "source": [
    "## Learning Rate\n",
    "<figure>\n",
    "    <img src=\"./images/C1_W2_Lab06_learningrate_v1.png\" style=\"width:1200px;\" >\n",
    "</figure>\n",
    "  \n",
    "การบรรยายได้กล่าวถึงปัญหาบางประการที่เกี่ยวข้องกับการตั้งอัตราการเรียนรู้  $\\alpha$ อัตราการเรียนรู้ควบคุมขนาดของการปรับปรุงพารามิเตอร์ ดูสมการ (1) ด้านบน อัตราการเรียนรู้จะถูกแบ่งปันโดยพารามิเตอร์ทั้งหมด\n",
    "\n",
    "มาลองรันการไล่ระดับสีและลองใช้ค่า  $\\alpha$ บางค่ากับชุดข้อมูลของเรา\n"
   ]
  },
  {
   "cell_type": "markdown",
   "metadata": {},
   "source": [
    "### $\\alpha$ = 9.9e-7"
   ]
  },
  {
   "cell_type": "code",
   "execution_count": null,
   "metadata": {},
   "outputs": [],
   "source": [
    "#set alpha to 9.9e-7\n",
    "_, _, hist = run_gradient_descent(X_train, y_train, 10, alpha = 9.9e-7)"
   ]
  },
  {
   "cell_type": "markdown",
   "metadata": {},
   "source": [
    "ดูเหมือนอัตราการเรียนรู้จะสูงเกินไป ผลลัพธ์ไม่ลู่เข้า ค่าใช้จ่าย เพิ่มขึ้น แทนที่จะลดลง มาพล็อตผลลัพธ์กัน:"
   ]
  },
  {
   "cell_type": "code",
   "execution_count": null,
   "metadata": {},
   "outputs": [],
   "source": [
    "plot_cost_i_w(X_train, y_train, hist)"
   ]
  },
  {
   "cell_type": "markdown",
   "metadata": {},
   "source": [
    "กราฟทางขวาแสดงค่าของหนึ่งในพารามิเตอร์คือ  $w_0$ ในแต่ละรอบการทำซ้ำ ค่าจะเกินค่าที่เหมาะสม ซึ่งส่งผลให้ค่าใช้จ่ายเพิ่มขึ้นแทนที่จะเข้าใกล้ค่าต่ำสุด โปรดทราบว่านี่ไม่ใช่ภาพที่สมบูรณ์เนื่องจากมีการปรับเปลี่ยนพารามิเตอร์ 4 ตัวในแต่ละรอบแทนที่จะเป็นเพียงตัวเดียว กราฟนี้แสดงเฉพาะ  $w_0$ โดยที่พารามิเตอร์อื่น ๆ ถูกตรึงไว้ที่ค่าที่ไม่เป็นอันตราย ในกราฟนี้และกราฟต่อไป คุณอาจสังเกตเห็นเส้นสีน้ำเงินและสีส้มเบี่ยงเบนเล็กน้อย"
   ]
  },
  {
   "cell_type": "markdown",
   "metadata": {},
   "source": [
    "\n",
    "### $\\alpha$ = 9e-7\n",
    "ลองใช้ค่าที่เล็กกว่าดูว่าจะเกิดอะไรขึ้น"
   ]
  },
  {
   "cell_type": "code",
   "execution_count": null,
   "metadata": {},
   "outputs": [],
   "source": [
    "#set alpha to 9e-7\n",
    "_,_,hist = run_gradient_descent(X_train, y_train, 10, alpha = 9e-7)"
   ]
  },
  {
   "cell_type": "markdown",
   "metadata": {},
   "source": [
    "Cost ลดลงตลอดการรัน แสดงว่า alpha ไม่ใหญ่เกินไป"
   ]
  },
  {
   "cell_type": "code",
   "execution_count": null,
   "metadata": {},
   "outputs": [],
   "source": [
    "plot_cost_i_w(X_train, y_train, hist)"
   ]
  },
  {
   "cell_type": "markdown",
   "metadata": {},
   "source": [
    "ทางซ้าย คุณจะเห็นว่าต้นทุนลดลงตามที่ควรจะเป็น ทางขวา คุณจะเห็นว่า $w_0$ \n",
    "ยังคงแกว่งไปมารอบ ๆ ค่าต่ำสุด แต่ต้นทุนลดลงในแต่ละรอบ ไม่ได้เพิ่มขึ้น โปรดสังเกตข้างต้นว่า `dj_dw[0]` เปลี่ยนเครื่องหมายในแต่ละรอบ เนื่องจาก `w[0]` กระโดดข้ามค่าที่เหมาะสม ค่าอัลฟา (alpha) นี้จะลู่เข้า คุณสามารถเปลี่ยนจำนวนรอบเพื่อดูพฤติกรรมของมันได้"
   ]
  },
  {
   "cell_type": "markdown",
   "metadata": {},
   "source": [
    "### $\\alpha$ = 1e-7\n",
    "ลองใช้ค่า $\\alpha$  ที่เล็กลงเล็กน้อย แล้วดูว่าจะเกิดอะไรขึ้น"
   ]
  },
  {
   "cell_type": "code",
   "execution_count": null,
   "metadata": {},
   "outputs": [],
   "source": [
    "#set alpha to 1e-7\n",
    "_,_,hist = run_gradient_descent(X_train, y_train, 10, alpha = 1e-7)"
   ]
  },
  {
   "cell_type": "markdown",
   "metadata": {},
   "source": [
    "ลดลงตลอดการรัน แสดงให้เห็นว่า $\\alpha$ ไม่ใหญ่เกินไป \n"
   ]
  },
  {
   "cell_type": "code",
   "execution_count": null,
   "metadata": {},
   "outputs": [],
   "source": [
    "plot_cost_i_w(X_train,y_train,hist)"
   ]
  },
  {
   "cell_type": "markdown",
   "metadata": {},
   "source": [
    "ด้านซ้าย คุณจะเห็นว่าต้นทุนกำลังลดลงตามที่ควรจะเป็น ด้านขวา คุณจะเห็นว่า $w_0$ กำลังเข้าใกล้ค่าต่ำสุดโดยไม่มีการแกว่ง `dj_w0` มีค่าติดลบตลอดการทำงาน โซลูชันนี้จะลู่เข้าด้วย"
   ]
  },
  {
   "cell_type": "markdown",
   "metadata": {
    "tags": []
   },
   "source": [
    "## Feature Scaling \n",
    "<figure>\n",
    "    <img src=\"./images/C1_W2_Lab06_featurescalingheader.PNG\" style=\"width:1200px;\" >\n",
    "</figure>\n",
    "บรรยายในหลักสูตรเน้นความสำคัญของการปรับขนาดข้อมูลเพื่อให้คุณลักษณะมีช่วงใกล้เคียงกัน\n",
    "หากคุณสนใจรายละเอียดว่าทำไมจึงเป็นเช่นนั้น ให้คลิกหัวข้อ 'Details' ด้านล่าง หากไม่สนใจ ส่วนด้านล่างจะแนะนำการใช้งานการปรับขนาดคุณลักษณะ"
   ]
  },
  {
   "cell_type": "markdown",
   "metadata": {},
   "source": [
    "<details>\n",
    "<summary>\n",
    "    <font size='3', color='darkgreen'><b>Details</b></font>\n",
    "</summary>\n",
    "\n",
    "มาดูสถานการณ์อีกครั้งกับ $\\alpha$ = 9e-7 นี่ใกล้เคียงกับค่าสูงสุดที่เราสามารถตั้งค่า $\\alpha$ ได้โดยไม่เกิดการแยกตัว นี่คือการรันสั้น ๆ แสดงการวนซ้ำครั้งแรก ๆ:\n",
    "\n",
    "<figure>\n",
    "    <img src=\"./images/C1_W2_Lab06_ShortRun.PNG\" style=\"width:1200px;\" >\n",
    "</figure>\n",
    "\n",
    "\n",
    "จากข้างต้น ในขณะที่ค่าใช้จ่ายลดลง เห็นได้ชัดว่า $w_0$ กำลังก้าวหน้าเร็วกว่าพารามิเตอร์อื่น ๆ เนื่องจากมีเกรเดียนต์ที่ใหญ่กว่ามาก\n",
    "\n",
    "กราฟด้านล่างแสดงผลลัพธ์ของการรันที่ยาวนานมากด้วย  $\\alpha$ = 9e-7 ซึ่งใช้เวลาหลายชั่วโมง\n",
    "<figure>\n",
    "    <img src=\"./images/C1_W2_Lab06_LongRun.PNG\" style=\"width:1200px;\" >\n",
    "</figure>\n",
    "\n",
    "จากข้างบน คุณสามารถเห็นต้นทุนลดลงอย่างช้าๆ หลังจากการลดลงครั้งแรก สังเกตความแตกต่างระหว่าง `w0` และ `w1`,`w2`,`w3` เช่นเดียวกับ `dj_dw0` และ `dj_dw1-3` `w0` เข้าใกล้ค่าสุดท้ายได้อย่างรวดเร็ว และ `dj_dw0` ลดลงอย่างรวดเร็วเป็นค่าเล็กๆ แสดงว่า `w0` ใกล้เคียงกับค่าสุดท้าย พารามิเตอร์อื่นๆ ลดลงอย่างช้ากว่ามาก\"\n",
    "\n",
    "เหตุใดจึงเป็นเช่นนี้? มีสิ่งใดที่เราสามารถปรับปรุงได้หรือไม่? ดูด้านล่าง:\n",
    "<figure>\n",
    "    <center> <img src=\"./images/C1_W2_Lab06_scale.PNG\"   ></center>\n",
    "</figure>   \n",
    "\n",
    "ภาพด้านบนแสดงให้เห็นว่าเหตุใด w จึงได้รับการอัปเดตอย่างไม่สม่ำเสมอ\n",
    "\n",
    "- $\\alpha$  ถูกแชร์โดยการอัปเดตพารามิเตอร์ทั้งหมด ($w$'s and $b$)\n",
    "- ค่าความผิดพลาดทั่วไปจะถูกคูณด้วยลักษณะเฉพาะสำหรับ $w$' (ไม่ใช่ $b$)\n",
    "- ลักษณะเฉพาะมีความแตกต่างกันอย่างมากในขนาด ทำให้บางลักษณะได้รับการอัปเดตเร็วกว่าลักษณะอื่นมาก ในกรณีนี้ $w_0$ ถูกคูณด้วย 'size(sqft)' ซึ่งโดยทั่วไป > 1000 ในขณะที่ $w_1$ ถูกคูณด้วย 'จำนวนห้องนอน' ซึ่งโดยทั่วไปคือ 2-4\n",
    "\n",
    "วิธีแก้ไขคือการปรับมาตราส่วนของลักษณะเฉพาะ\""
   ]
  },
  {
   "cell_type": "markdown",
   "metadata": {},
   "source": [
    "The lectures discussed three different techniques: \n",
    "- การปรับขนาดลักษณะเฉพาะ (feature scaling) โดยทั่วไปจะแบ่งแต่ละลักษณะเฉพาะที่เป็นบวกด้วยค่าสูงสุดของมัน หรือโดยทั่วไปกว่านั้น จะปรับขนาดแต่ละลักษณะเฉพาะโดยใช้ทั้งค่าต่ำสุดและสูงสุดของมัน โดยใช้สูตร (x-min)/(max-min)ทั้งสองวิธีทำให้ลักษณะเฉพาะเป็นมาตรฐานอยู่ในช่วง -1 ถึง 1 โดยวิธีแรกใช้ได้กับลักษณะเฉพาะที่เป็นบวก ซึ่งง่ายและเหมาะสำหรับตัวอย่างในบรรยาย และวิธีที่สองใช้ได้กับลักษณะเฉพาะใด ๆ\n",
    "- Mean normalization: $x_i := \\dfrac{x_i - \\mu_i}{max - min} $ \n",
    "- Z-score normalization ซึ่งเราจะสำรวจด้านล่าง"
   ]
  },
  {
   "cell_type": "markdown",
   "metadata": {},
   "source": [
    "\n",
    "### การทำให้เป็นมาตรฐาน z-score\n",
    "หลังจากการทำให้เป็นมาตรฐาน z-score คุณสมบัติทั้งหมดจะมีค่าเฉลี่ยเป็น 0 และส่วนเบี่ยงเบนมาตรฐานเป็น 1\n",
    "\n",
    "เพื่อดำเนินการทำให้เป็นมาตรฐาน z-score ให้ปรับค่าอินพุตของคุณตามสูตรนี้:\n",
    "\n",
    "$$x^{(i)}_j = \\dfrac{x^{(i)}_j - \\mu_j}{\\sigma_j} \\tag{4}$$ \n",
    "โดยที่ $j$ เลือกคุณสมบัติหรือคอลัมน์ในเมทริกซ์ $\\mathbf{X}$ . $µ_j$ คือค่าเฉลี่ยของค่าทั้งหมดสำหรับคุณสมบัติ  (j) และ $\\sigma_j$ คือส่วนเบี่ยงเบนมาตรฐานของคุณสมบัติ (j).\n",
    "$$\n",
    "\\begin{align}\n",
    "\\mu_j &= \\frac{1}{m} \\sum_{i=0}^{m-1} x^{(i)}_j \\tag{5}\\\\\n",
    "\\sigma^2_j &= \\frac{1}{m} \\sum_{i=0}^{m-1} (x^{(i)}_j - \\mu_j)^2  \\tag{6}\n",
    "\\end{align}\n",
    "$$\n",
    "\n",
    ">**หมายเหตุการใช้งาน:** เมื่อทำให้คุณสมบัติเป็นมาตรฐาน สิ่งสำคัญคือ\n",
    "ต้องเก็บค่าที่ใช้สำหรับการทำให้เป็นมาตรฐาน - ค่าเฉลี่ยและส่วนเบี่ยงเบนมาตรฐานที่ใช้สำหรับการคำนวณ หลังจากเรียนรู้พารามิเตอร์\n",
    "จากโมเดล เรามักต้องการทำนายราคาบ้านที่เราไม่เคยเห็นมาก่อน เมื่อได้รับค่า x ใหม่ (พื้นที่ห้องนั่งเล่นและจำนวนห้องนอน) เราต้องทำให้ x เป็นมาตรฐานโดยใช้ค่าเฉลี่ยและส่วนเบี่ยงเบนมาตรฐานที่เราคำนวณได้ก่อนหน้านี้จากชุดการฝึกอบรม\n",
    "\n",
    "**การใช้งาน**"
   ]
  },
  {
   "cell_type": "code",
   "execution_count": null,
   "metadata": {},
   "outputs": [],
   "source": [
    "def zscore_normalize_features(X):\n",
    "    \"\"\"\n",
    "    computes  X, zcore normalized by column\n",
    "    \n",
    "    Args:\n",
    "      X (ndarray (m,n))     : input data, m examples, n features\n",
    "      \n",
    "    Returns:\n",
    "      X_norm (ndarray (m,n)): input normalized by column\n",
    "      mu (ndarray (n,))     : mean of each feature\n",
    "      sigma (ndarray (n,))  : standard deviation of each feature\n",
    "    \"\"\"\n",
    "    # find the mean of each column/feature\n",
    "    mu     = np.mean(X, axis=0)                 # mu will have shape (n,)\n",
    "    # find the standard deviation of each column/feature\n",
    "    sigma  = np.std(X, axis=0)                  # sigma will have shape (n,)\n",
    "    # element-wise, subtract mu for that column from each example, divide by std for that column\n",
    "    X_norm = (X - mu) / sigma      \n",
    "\n",
    "    return (X_norm, mu, sigma)\n",
    " \n",
    "#check our work\n",
    "#from sklearn.preprocessing import scale\n",
    "#scale(X_orig, axis=0, with_mean=True, with_std=True, copy=True)"
   ]
  },
  {
   "cell_type": "markdown",
   "metadata": {},
   "source": [
    "มาดูขั้นตอนที่เกี่ยวข้องกับการทำให้เป็นมาตรฐาน Z กัน ภาพด้านล่างแสดงการแปลงแบบทีละขั้นตอน"
   ]
  },
  {
   "cell_type": "code",
   "execution_count": null,
   "metadata": {},
   "outputs": [],
   "source": [
    "mu     = np.mean(X_train,axis=0)   \n",
    "sigma  = np.std(X_train,axis=0) \n",
    "X_mean = (X_train - mu)\n",
    "X_norm = (X_train - mu)/sigma      \n",
    "\n",
    "fig,ax=plt.subplots(1, 3, figsize=(12, 3))\n",
    "ax[0].scatter(X_train[:,0], X_train[:,3])\n",
    "ax[0].set_xlabel(X_features[0]); ax[0].set_ylabel(X_features[3]);\n",
    "ax[0].set_title(\"unnormalized\")\n",
    "ax[0].axis('equal')\n",
    "\n",
    "ax[1].scatter(X_mean[:,0], X_mean[:,3])\n",
    "ax[1].set_xlabel(X_features[0]); ax[0].set_ylabel(X_features[3]);\n",
    "ax[1].set_title(r\"X - $\\mu$\")\n",
    "ax[1].axis('equal')\n",
    "\n",
    "ax[2].scatter(X_norm[:,0], X_norm[:,3])\n",
    "ax[2].set_xlabel(X_features[0]); ax[0].set_ylabel(X_features[3]);\n",
    "ax[2].set_title(r\"Z-score normalized\")\n",
    "ax[2].axis('equal')\n",
    "plt.tight_layout(rect=[0, 0.03, 1, 0.95])\n",
    "fig.suptitle(\"distribution of features before, during, after normalization\")\n",
    "plt.show()"
   ]
  },
  {
   "cell_type": "markdown",
   "metadata": {},
   "source": [
    "กราฟข้างต้นแสดงความสัมพันธ์ระหว่างสองพารามิเตอร์ของชุดการฝึก \"อายุ\" และ \"ขนาด (ตารางฟุต)\" *ทั้งสองพารามิเตอร์นี้มีสเกลเท่ากัน*\n",
    "\n",
    "- ซ้าย: Unnormalized: ช่วงของค่าหรือความแปรปรวนของลักษณะเฉพาะ 'ขนาด (ตารางฟุต)' มีขนาดใหญ่กว่าลักษณะอายุ\n",
    "- ตรงกลาง: ขั้นตอนแรกคือการลบค่าเฉลี่ยหรือค่าเฉลี่ยออกจากแต่ละคุณลักษณะ ซึ่งจะทำให้คุณลักษณะเหล่านี้มีศูนย์กลางอยู่ที่ศูนย์ เป็นการยากที่จะเห็นความแตกต่างสำหรับคุณลักษณะ 'อายุ' แต่ 'ขนาด (ตารางฟุต)' มีศูนย์กลางอยู่ที่ศูนย์อย่างชัดเจน\n",
    "- ขวา: ขั้นตอนที่สองคือการหารด้วยส่วนเบี่ยงเบนมาตรฐาน ซึ่งทำให้ทั้งสองลักษณะเฉพาะมีจุดศูนย์กลางอยู่ที่ศูนย์และมีขนาดที่คล้ายกัน."
   ]
  },
  {
   "cell_type": "markdown",
   "metadata": {},
   "source": [
    "เรามาทำให้ข้อมูลเป็นมาตรฐานและเปรียบเทียบกับข้อมูลเดิมกัน"
   ]
  },
  {
   "cell_type": "code",
   "execution_count": null,
   "metadata": {},
   "outputs": [],
   "source": [
    "# normalize the original features\n",
    "X_norm, X_mu, X_sigma = zscore_normalize_features(X_train)\n",
    "print(f\"X_mu = {X_mu}, \\nX_sigma = {X_sigma}\")\n",
    "print(f\"Peak to Peak range by column in Raw        X:{np.ptp(X_train,axis=0)}\")   \n",
    "print(f\"Peak to Peak range by column in Normalized X:{np.ptp(X_norm,axis=0)}\")"
   ]
  },
  {
   "cell_type": "markdown",
   "metadata": {},
   "source": [
    "ช่วงสูงสุดถึงต่ำสุดของแต่ละคอลัมน์ถูกปรับลดจากหลายพันเท่าลงเหลือ 2-3 เท่า โดยการทำให้เป็นมาตรฐาน"
   ]
  },
  {
   "cell_type": "code",
   "execution_count": null,
   "metadata": {},
   "outputs": [],
   "source": [
    "fig,ax=plt.subplots(1, 4, figsize=(12, 3))\n",
    "for i in range(len(ax)):\n",
    "    norm_plot(ax[i],X_train[:,i],)\n",
    "    ax[i].set_xlabel(X_features[i])\n",
    "ax[0].set_ylabel(\"count\");\n",
    "fig.suptitle(\"distribution of features before normalization\")\n",
    "plt.show()\n",
    "fig,ax=plt.subplots(1,4,figsize=(12,3))\n",
    "for i in range(len(ax)):\n",
    "    norm_plot(ax[i],X_norm[:,i],)\n",
    "    ax[i].set_xlabel(X_features[i])\n",
    "ax[0].set_ylabel(\"count\"); \n",
    "fig.suptitle(\"distribution of features after normalization\")\n",
    "\n",
    "plt.show()"
   ]
  },
  {
   "cell_type": "markdown",
   "metadata": {},
   "source": [
    "สังเกตข้างต้น ช่วงของข้อมูลที่ปรับมาตรฐาน (แกน x) อยู่ตรงกลางที่ศูนย์และประมาณ +/- 2 ที่สำคัญที่สุด ช่วงของข้อมูลจะคล้ายกันสำหรับแต่ละลักษณะเฉพาะ"
   ]
  },
  {
   "cell_type": "markdown",
   "metadata": {},
   "source": [
    "มาลองรันอัลกอริทึมการไล่ระดับลงมาของเราอีกครั้งด้วยข้อมูลที่ถูกทำให้เป็นมาตรฐานกันเถอะ. **สังเกตค่าที่ใหญ่ขึ้นอย่างมากของ alpha**. นี่จะทำให้การไล่ระดับลงมาเร็วขึ้น"
   ]
  },
  {
   "cell_type": "code",
   "execution_count": null,
   "metadata": {},
   "outputs": [],
   "source": [
    "w_norm, b_norm, hist = run_gradient_descent(X_norm, y_train, 1000, 1.0e-1, )"
   ]
  },
  {
   "cell_type": "markdown",
   "metadata": {},
   "source": [
    "คุณสมบัติที่ปรับขนาดได้ให้ผลลัพธ์ที่แม่นยำมาก **เร็วขึ้นมาก ๆ!** สังเกตการไล่ระดับของแต่ละพารามิเตอร์มีขนาดเล็กมากเมื่อสิ้นสุดการรันที่ค่อนข้างสั้น อัตราการเรียนรู้ 0.1 เป็นจุดเริ่มต้นที่ดีสำหรับการถดถอยด้วยคุณสมบัติที่ทำให้เป็นมาตรฐาน\n",
    "\n",
    "มาพล็อตการคาดการณ์ของเรากับค่าเป้าหมายกัน โปรดทราบว่าการทำนายนั้นทำโดยใช้คุณสมบัติที่ทำให้เป็นมาตรฐาน ในขณะที่พล็อตจะแสดงโดยใช้ค่าคุณสมบัติเดิม"
   ]
  },
  {
   "cell_type": "code",
   "execution_count": null,
   "metadata": {},
   "outputs": [],
   "source": [
    "#predict target using normalized features\n",
    "m = X_norm.shape[0]\n",
    "yp = np.zeros(m)\n",
    "for i in range(m):\n",
    "    yp[i] = np.dot(X_norm[i], w_norm) + b_norm\n",
    "\n",
    "    # plot predictions and targets versus original features    \n",
    "fig,ax=plt.subplots(1,4,figsize=(12, 3),sharey=True)\n",
    "for i in range(len(ax)):\n",
    "    ax[i].scatter(X_train[:,i],y_train, label = 'target')\n",
    "    ax[i].set_xlabel(X_features[i])\n",
    "    ax[i].scatter(X_train[:,i],yp,color=dlc[\"dlorange\"], label = 'predict')\n",
    "ax[0].set_ylabel(\"Price\"); ax[0].legend();\n",
    "fig.suptitle(\"target versus prediction using z-score normalized model\")\n",
    "plt.show()"
   ]
  },
  {
   "cell_type": "markdown",
   "metadata": {},
   "source": [
    "ผลลัพธ์ดูดี มีข้อสังเกตเล็กน้อย:\n",
    "\n",
    "- เมื่อมีหลายคุณลักษณะ เราไม่สามารถใช้พล็อตเดียวเพื่อแสดงผลลัพธ์เทียบกับคุณลักษณะได้อีกต่อไป\n",
    "- ในการสร้างพล็อต ได้ใช้อินพุตที่ถูกปรับมาตรฐานแล้ว การทำนายใด ๆ ที่ใช้พารามิเตอร์ที่เรียนรู้จากชุดข้อมูลฝึกอบรมที่ถูกปรับมาตรฐานแล้ว จะต้องถูกปรับมาตรฐานด้วยเช่นกัน"
   ]
  },
  {
   "cell_type": "markdown",
   "metadata": {},
   "source": [
    "**การทำนาย**\n",
    "\n",
    "จุดมุ่งหมายของการสร้างโมเดลของเราคือเพื่อใช้ในการทำนายราคาบ้านที่ไม่อยู่ในชุดข้อมูลเดิม.\n",
    "มาทำนายราคของบ้านที่มีพื้นที่ 1200 ตารางฟุต, ห้องนอน 3 ห้อง, 1 ชั้น, อายุ 40 ปีกัน.\n",
    "\n",
    "โปรดจำไว้ว่า คุณต้องทำให้ข้อมูลเป็นมาตรฐานด้วยค่าเฉลี่ยและค่าเบี่ยงเบนมาตรฐานที่ได้มาเมื่อทำการปรับมาตรฐานข้อมูลฝึกสอน."
   ]
  },
  {
   "cell_type": "code",
   "execution_count": null,
   "metadata": {},
   "outputs": [],
   "source": [
    "# First, normalize out example.\n",
    "x_house = np.array([1200, 3, 1, 40])\n",
    "x_house_norm = (x_house - X_mu) / X_sigma\n",
    "print(x_house_norm)\n",
    "x_house_predict = np.dot(x_house_norm, w_norm) + b_norm\n",
    "print(f\" predicted price of a house with 1200 sqft, 3 bedrooms, 1 floor, 40 years old = ${x_house_predict*1000:0.0f}\")"
   ]
  },
  {
   "cell_type": "markdown",
   "metadata": {},
   "source": [
    "**Cost Contours**  \n",
    "<img align=\"left\" src=\"./images/C1_W2_Lab06_contours_v1.png\"   style=\"width:240px;\" >อีกวิธีหนึ่งในการมองการปรับขนาดคุณลักษณะคือในแง่ของเส้นโค้งค่าใช้จ่าย เมื่อขนาดคุณลักษณะไม่ตรงกัน แผนผังค่าใช้จ่ายเทียบกับพารามิเตอร์ในแผนผังเส้นโค้งจะไม่สมมาตร\n",
    "\n",
    "ในพล็อตด้านล่าง มาตราส่วนของพารามิเตอร์จะตรงกันพล็อตด้านซ้ายคือพล็อตเส้นโค้งค่าใช้จ่ายของ w[0] ซึ่งเป็นพื้นที่ตารางฟุตเทียบกับ w[1] ซึ่งเป็นจำนวนห้องนอนก่อนการปรับมาตรฐานคุณลักษณะ\n",
    "พล็อตนี้ไม่สมมาตรมาก จึงมองไม่เห็นเส้นโค้งที่เติมเต็มเส้นโค้งค่าใช้จ่าย\n",
    "ตรงกันข้าม เมื่อปรับมาตรฐานคุณลักษณะ เส้นโค้งค่าใช้จ่ายจะสมมาตรมากขึ้น\n",
    "ผลลัพธ์คือการอัปเดตพารามิเตอร์ระหว่างการไล่ระดับจะทำให้เกิดความก้าวหน้าเท่ากันสำหรับพารามิเตอร์แต่ละตัว\n",
    "\n",
    "\n"
   ]
  },
  {
   "cell_type": "code",
   "execution_count": null,
   "metadata": {},
   "outputs": [],
   "source": [
    "plt_equal_scale(X_train, X_norm, y_train)"
   ]
  },
  {
   "cell_type": "markdown",
   "metadata": {},
   "source": [
    "\n",
    "## ขอแสดงความยินดี!\n",
    "\n",
    "ในห้องปฏิบัติการนี้ คุณได้:\n",
    "- ใช้ฟังก์ชันการถดถอยเชิงเส้นหลายตัวแปรที่คุณพัฒนาในห้องปฏิบัติการก่อนหน้านี้\n",
    "- สำรวจผลกระทบของอัตราการเรียนรู้ α ต่อการลู่เข้า\n",
    "- ค้นพบประโยชน์ของการปรับขนาดคุณลักษณะโดยใช้การทำให้เป็นมาตรฐาน z-score ในการเร่งการลู่เข้า"
   ]
  },
  {
   "cell_type": "markdown",
   "metadata": {},
   "source": [
    "## คำขอบคุณ\n",
    "ข้อมูลที่อยู่อาศัยนี้มาจากชุดข้อมูล [Ames Housing dataset](http://jse.amstat.org/v19n3/decock.pdf) ที่รวบรวมโดย Dean De Cock เพื่อใช้ในการศึกษาศาสตร์ข้อมูล"
   ]
  },
  {
   "cell_type": "markdown",
   "id": "9b4db874",
   "metadata": {},
   "source": []
  }
 ],
 "metadata": {
  "kernelspec": {
   "display_name": "Python 3",
   "language": "python",
   "name": "python3"
  },
  "language_info": {
   "codemirror_mode": {
    "name": "ipython",
    "version": 3
   },
   "file_extension": ".py",
   "mimetype": "text/x-python",
   "name": "python",
   "nbconvert_exporter": "python",
   "pygments_lexer": "ipython3",
   "version": "3.7.6"
  },
  "toc-autonumbering": false
 },
 "nbformat": 4,
 "nbformat_minor": 5
}
