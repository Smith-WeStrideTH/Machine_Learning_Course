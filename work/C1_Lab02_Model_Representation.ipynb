{
 "cells": [
  {
   "cell_type": "markdown",
   "metadata": {},
   "source": [
    "# การแทนค่าแบบจำลอง (LABไม่บังคับ)\n",
    "<figure>\n",
    " <img src=\"./images/C1_W1_L3_S1_Lecture_b.png\"   style=\"width:600px;height:200px;\">\n",
    "</figure>"
   ]
  },
  {
   "cell_type": "markdown",
   "metadata": {},
   "source": [
    "## เป้าหมาย\n",
    "ในห้องปฏิบัติการนี้ คุณจะ:\n",
    "- เรียนรู้การนำโมเดล $f_{w,b}$ ไปใช้ในการถดถอยเชิงเส้นที่มีตัวแปรเดียว\n"
   ]
  },
  {
   "cell_type": "markdown",
   "metadata": {},
   "source": [
    "## สัญลักษณ์\n",
    "นี่คือสรุปสัญลักษณ์บางอย่างที่คุณจะพบ \n",
    "\n",
    "- | $a$ | scalar, non bold                                                      ||\n",
    "- | $\\mathbf{a}$ | vector, bold                                                      ||\n",
    "- | **Regression** |         |    |     |\n",
    "- |  $\\mathbf{x}$ | คุณลักษณะตัวอย่าง: ขนาด (1000 ตารางฟุต)  | `x_train` |   \n",
    "- |  $\\mathbf{y}$  | ชุดตัวอย่างการฝึก: เป้าหมาย (ในห้องปฏิบัติการนี้ ราคา (1000 ดอลลาร์))  | `y_train` \n",
    "- |  $x^{(i)}$, $y^{(i)}$ | $i_{th}$ ตัวอย่างการฝึก | `x_i`, `y_i`|\n",
    "- | m | จำนวนตัวอย่างการฝึก | `m`|\n",
    "- |  $w$  |  parameter: weight                                 | `w`    |\n",
    "- |  $b$           |  parameter: bias                                           | `b`    |     \n",
    "- | $f_{w,b}(x^{(i)})$ | ผลการประเมินโมเดลที่ $x^{(i)}$ ถูกกำหนดโดย $w,b$: $f_{w,b}(x^{(i)}) = wx^{(i)}+b$  | `f_wb` | \n"
   ]
  },
  {
   "cell_type": "markdown",
   "metadata": {},
   "source": [
    "## เครื่องมือ\n",
    "ในห้องปฏิบัติการนี้ คุณจะใช้:\n",
    "\n",
    "- NumPy ซึ่งเป็นไลบรารีที่ได้รับความนิยมสำหรับการคำนวณทางวิทยาศาสตร์\n",
    "- Matplotlib ซึ่งเป็นไลบรารีที่ได้รับความนิยมสำหรับการพล็อตข้อมูล"
   ]
  },
  {
   "cell_type": "code",
   "execution_count": null,
   "id": "f495b323",
   "metadata": {},
   "outputs": [],
   "source": [
    "# prompt: import requsts and download from this github link : https://raw.githubusercontent.com/Smith-WeStrideTH/Machine_Learning_Course/main/work/deeplearning.mplstyle\n",
    "\n",
    "import requests\n",
    "\n",
    "url = 'https://raw.githubusercontent.com/Smith-WeStrideTH/Machine_Learning_Course/main/work/deeplearning.mplstyle'\n",
    "response = requests.get(url)\n",
    "\n",
    "with open('deeplearning.mplstyle', 'wb') as f:\n",
    "  f.write(response.content)\n"
   ]
  },
  {
   "cell_type": "code",
   "execution_count": null,
   "id": "f8ad5512",
   "metadata": {},
   "outputs": [],
   "source": [
    "import numpy as np\n",
    "import matplotlib.pyplot as plt\n",
    "plt.style.use('./deeplearning.mplstyle')"
   ]
  },
  {
   "cell_type": "markdown",
   "metadata": {},
   "source": [
    "# Problem Statement\n",
    "<img align=\"left\" src=\"./images/C1_W1_L3_S1_trainingdata_v1.png\"    style=\" width:380px; padding: 10px;  \" /> \n",
    "\n",
    "การทำนายราคาบ้าน\n",
    "เช่นเดียวกับการบรรยาย คุณจะใช้ตัวอย่างการทำนายราคาบ้านเป็นแรงจูงใจ\n",
    "\n",
    "ห้องปฏิบัติการนี้จะใช้ชุดข้อมูลง่ายๆ ที่มีเพียงสองจุดข้อมูล - บ้านขนาด 1000 ตารางฟุต (sqft) ขายได้ 300,000 ดอลลาร์ และบ้านขนาด 2000 ตารางฟุต ขายได้ 500,000 ดอลลาร์ จุดข้อมูลสองจุดนี้จะประกอบเป็น ชุดข้อมูลหรือชุดฝึกอบรม ของเรา ในห้องปฏิบัติการนี้ หน่วยของขนาดคือ 1000 ตารางฟุต และหน่วยของราคาคือ 1000 ดอลลาร์\n",
    "\n",
    "| Size (1000 sqft)     | Price (1000s of dollars) |\n",
    "| -------------------| ------------------------ |\n",
    "| 1.0               | 300                      |\n",
    "| 2.0               | 500                      |\n",
    "\n",
    "คุณต้องการปรับแบบจำลองการถดถอยเชิงเส้น (แสดงด้วยเส้นตรงสีน้ำเงินด้านบน) ผ่านสองจุดนี้ เพื่อที่คุณจะสามารถทำนายราคาบ้านอื่น ๆ - เช่น บ้านที่มีพื้นที่ 1200 ตารางฟุต\n"
   ]
  },
  {
   "cell_type": "markdown",
   "metadata": {},
   "source": [
    "โปรดรันเซลล์โค้ดต่อไปนี้เพื่อสร้างตัวแปร `x_train` และ `y_train` ของคุณ ข้อมูลถูกเก็บในอาร์เรย์ NumPy แบบหนึ่งมิติ"
   ]
  },
  {
   "cell_type": "code",
   "execution_count": null,
   "metadata": {},
   "outputs": [],
   "source": [
    "# x_train is the input variable (size in 1000 square feet)\n",
    "# y_train is the target (price in 1000s of dollars)\n",
    "x_train = np.array([1.0, 2.0])\n",
    "y_train = np.array([300.0, 500.0])\n",
    "print(f\"x_train = {x_train}\")\n",
    "print(f\"y_train = {y_train}\")"
   ]
  },
  {
   "cell_type": "markdown",
   "metadata": {},
   "source": [
    "\n",
    "\n",
    ">**หมายเหตุ**: เกี่ยวกับการใช้ f-string ใน Pythonหลักสูตรนี้จะใช้รูปแบบการแสดงผล \"f-string\" ของ Python บ่อยครั้ง เมื่อทำการพิมพ์ เนื้อหาที่อยู่ภายในวงเล็บปีกกาจะถูกประเมินในขณะที่สร้างผลลัพธ์ออกมา"
   ]
  },
  {
   "cell_type": "markdown",
   "metadata": {},
   "source": [
    "\n",
    "\n",
    "### จำนวนตัวอย่างการฝึก` m`\n",
    "คุณจะใช้ m เพื่อแทนจำนวนตัวอย่างการฝึก อาร์เรย์ Numpy มีพารามิเตอร์ `.shape` `x_train.shape` จะคืนค่าเป็น tuple ของ Python ที่มีรายการสำหรับแต่ละมิติ `x_train.shape[0]` คือความยาวของอาร์เรย์และจำนวนตัวอย่างดังแสดงด้านล่าง"
   ]
  },
  {
   "cell_type": "code",
   "execution_count": null,
   "metadata": {},
   "outputs": [],
   "source": [
    "# m is the number of training examples\n",
    "print(f\"x_train.shape: {x_train.shape}\")\n",
    "m = x_train.shape[0]\n",
    "print(f\"Number of training examples is: {m}\")"
   ]
  },
  {
   "cell_type": "markdown",
   "metadata": {},
   "source": [
    "One can also use the Python `len()` function as shown below."
   ]
  },
  {
   "cell_type": "code",
   "execution_count": null,
   "metadata": {},
   "outputs": [],
   "source": [
    "# m is the number of training examples\n",
    "m = len(x_train)\n",
    "print(f\"Number of training examples is: {m}\")"
   ]
  },
  {
   "cell_type": "markdown",
   "metadata": {},
   "source": [
    "### ชุดตัวอย่างการฝึก `x_i, y_i`\n",
    "\n",
    "คุณจะใช้ ($x^{(i)}$, $y^{(i)}$) ในการบอก $i^{th}$ ของชุดในการฝึก เนื่องจาก Python มีการนับเริ่มต้นที่ 0, ($x^{(0)}$, $y^{(0)}$) คือ (1.0, 300.0) และ ($x^{(1)}$, $y^{(1)}$) คือ (2.0, 500.0). \n",
    "\n",
    "การเข้าถึงค่าในอาร์เรย์ Numpy\n",
    "เพื่อเข้าถึงค่าในอาร์เรย์ Numpy เราจะใช้อินเด็กซ์ (index) ที่ต้องการกับอาร์เรย์นั้น ตัวอย่างเช่น ไวยากรณ์ในการเข้าถึงค่าที่ตำแหน่งศูนย์ของ `x_train` คือ `x_train[0]`.\n",
    "รันบล็อกโค้ดต่อไปนี้เพื่อรับตัวอย่างการฝึกอบรมที่ $i^{th}$ training example.\n"
   ]
  },
  {
   "cell_type": "code",
   "execution_count": null,
   "metadata": {},
   "outputs": [],
   "source": [
    "i = 0 # Change this to 1 to see (x^1, y^1)\n",
    "\n",
    "x_i = x_train[i]\n",
    "y_i = y_train[i]\n",
    "print(f\"(x^({i}), y^({i})) = ({x_i}, {y_i})\")"
   ]
  },
  {
   "cell_type": "markdown",
   "metadata": {},
   "source": [
    "### การพล็อตข้อมูล"
   ]
  },
  {
   "cell_type": "markdown",
   "metadata": {},
   "source": [
    "การพล็อตจุดสองจุดด้วย scatter() ใน `matplotlib`\n",
    "- คุณสามารถพล็อตจุดสองจุดนี้โดยใช้ฟังก์ชัน scatter() ในไลบรารี `matplotlib` ตามที่แสดงในเซลล์ด้านล่าง:\n",
    "\n",
    "อาร์กิวเมนต์ฟังก์ชัน marker และ c แสดงจุดเป็นเครื่องหมายกากบาทสีแดง (ค่าเริ่มต้นคือจุดสีน้ำเงิน)\n",
    "คุณสามารถใช้ฟังก์ชันอื่น ๆ ในไลบรารี `matplotlib` เพื่อตั้งชื่อและป้ายกำกับเพื่อแสดง"
   ]
  },
  {
   "cell_type": "code",
   "execution_count": null,
   "metadata": {},
   "outputs": [],
   "source": [
    "# Plot the data points\n",
    "plt.scatter(x_train, y_train, marker='x', c='r')\n",
    "# Set the title\n",
    "plt.title(\"Housing Prices\")\n",
    "# Set the y-axis label\n",
    "plt.ylabel('Price (in 1000s of dollars)')\n",
    "# Set the x-axis label\n",
    "plt.xlabel('Size (1000 sqft)')\n",
    "plt.show()"
   ]
  },
  {
   "cell_type": "markdown",
   "metadata": {},
   "source": [
    "## Model function\n",
    "\n",
    "<img align=\"left\" src=\"./images/C1_W1_L3_S1_model_v1.png\"     style=\" width:380px; padding: 10px; \" > ฟังก์ชันแบบจำลองสำหรับการถดถอยเชิงเส้น\n",
    "ตามที่อธิบายในบรรยาย ฟังก์ชันแบบจำลองสำหรับการถดถอยเชิงเส้น (ซึ่งเป็นฟังก์ชันที่จับคู่จาก `x` ไปยัง `y`) ถูกแสดงเป็น\n",
    "\n",
    "$$ f_{w,b}(x^{(i)}) = wx^{(i)} + b \\tag{1}$$\n",
    "\n",
    "สูตรด้านบนคือวิธีการแทนเส้นตรง ค่าต่างๆ ของ `w` และ `b` จะให้เส้นตรงที่แตกต่างกันบนพล็อต <br/> <br/> <br/> <br/> <br/> \n",
    "\n",
    "มาลองเข้าใจแนวคิดนี้ผ่านบล็อกโค้ดด้านล่างกันเถอะ เริ่มจาก $w = 100$ และ $b = 100$. \n",
    "\n",
    "**หมายเหตุ: คุณสามารถกลับมาที่เซลล์นี้เพื่อปรับพารามิเตอร์ w และ b ของโมเดลได้**"
   ]
  },
  {
   "cell_type": "code",
   "execution_count": null,
   "metadata": {},
   "outputs": [],
   "source": [
    "w = 100\n",
    "b = 100\n",
    "print(f\"w: {w}\")\n",
    "print(f\"b: {b}\")"
   ]
  },
  {
   "cell_type": "markdown",
   "metadata": {},
   "source": [
    "ตอนนี้ มาคำนวณค่าของ $f_{w,b}(x^{(i)})$ สำหรับสองจุดข้อมูลของคุณ คุณสามารถเขียนค่านี้สำหรับแต่ละจุดข้อมูลอย่างชัดเจนได้ดังนี้ -\n",
    "\n",
    "ให้ $x^{(0)}$, `f_wb = w * x[0] + b`\n",
    "\n",
    "ให้ $x^{(1)}$, `f_wb = w * x[1] + b`\n",
    "\n",
    "สำหรับชุดข้อมูลจำนวนมาก การคำนวณแบบนี้จะยากลำบากและเกิดการซ้ำ ดังนั้น คุณสามารถคำนวณผลลัพธ์ของฟังก์ชันภายในลูป `for` ตามที่แสดงในฟังก์ชัน `compute_model_output` ด้านล่าง\n",
    "\n",
    ">**หมายเหตุ**: คำอธิบายอาร์กิวเมนต์ `(ndarray (m,))` อธิบายอาร์เรย์ n-dimensional ของ NumPy ที่มีรูปร่าง (m,)  (scalar) อธิบายอาร์กิวเมนต์ที่ไม่มีมิติ เพียงแค่ขนาด\n",
    ">**หมายเหตุ**: `np.zero(n)` จะส่งคืนอาร์เรย์ numpy หนึ่งมิติที่มีรายการ n รายการ\n"
   ]
  },
  {
   "cell_type": "code",
   "execution_count": null,
   "metadata": {},
   "outputs": [],
   "source": [
    "def compute_model_output(x, w, b):\n",
    "    \"\"\"\n",
    "    Computes the prediction of a linear model\n",
    "    Args:\n",
    "      x (ndarray (m,)): Data, m examples \n",
    "      w,b (scalar)    : model parameters  \n",
    "    Returns\n",
    "      f_wb (ndarray (m,)): model prediction\n",
    "    \"\"\"\n",
    "    m = x.shape[0]\n",
    "    f_wb = np.zeros(m)\n",
    "    for i in range(m):\n",
    "        f_wb[i] = w * x[i] + b\n",
    "        \n",
    "    return f_wb"
   ]
  },
  {
   "cell_type": "markdown",
   "metadata": {},
   "source": [
    "ตอนนี้เราจะเรียกใช้ฟังก์ชัน `compute_model_output` และพล็อตผลลัพธ์..\n",
    "\n",
    "\n",
    "\n",
    "\n",
    "\n",
    "\n",
    "\n"
   ]
  },
  {
   "cell_type": "code",
   "execution_count": null,
   "metadata": {},
   "outputs": [],
   "source": [
    "tmp_f_wb = compute_model_output(x_train, w, b,)\n",
    "\n",
    "# Plot our model prediction\n",
    "plt.plot(x_train, tmp_f_wb, c='b',label='Our Prediction')\n",
    "\n",
    "# Plot the data points\n",
    "plt.scatter(x_train, y_train, marker='x', c='r',label='Actual Values')\n",
    "\n",
    "# Set the title\n",
    "plt.title(\"Housing Prices\")\n",
    "# Set the y-axis label\n",
    "plt.ylabel('Price (in 1000s of dollars)')\n",
    "# Set the x-axis label\n",
    "plt.xlabel('Size (1000 sqft)')\n",
    "plt.legend()\n",
    "plt.show()"
   ]
  },
  {
   "cell_type": "markdown",
   "metadata": {},
   "source": [
    "ดังที่คุณเห็น การตั้งค่า $w=100$ และ $b=100$ ไม่ได้ส่งผลให้เกิดเส้นที่เข้ากับข้อมูลของเรา\n",
    "\n",
    "### ความท้าทาย\n",
    "ลองทดลองกับค่าต่างๆ ของ w และ b ค่าควรจะเป็นอย่างไรสำหรับเส้นที่เข้ากับข้อมูลของเรา?\n",
    "\n",
    "### เคล็ดลับ:\n",
    "คุณสามารถใช้เมาส์ของคุณคลิกที่ \"คำแนะนำ\" สีเขียวด้านล่างเพื่อเปิดเผยคำแนะนำบางอย่างสำหรับการเลือก b และ w\n",
    "\n",
    "\n",
    "\n",
    "\n",
    "\n",
    "\n",
    "\n"
   ]
  },
  {
   "cell_type": "markdown",
   "metadata": {},
   "source": [
    "<details>\n",
    "<summary>\n",
    "    <font size='3', color='darkgreen'><b>Hints</b></font>\n",
    "</summary>\n",
    "    <p>\n",
    "    <ul>\n",
    "        <li>Try $w = 200$ and $b = 100$ </li>\n",
    "    </ul>\n",
    "    </p>"
   ]
  },
  {
   "cell_type": "markdown",
   "metadata": {},
   "source": [
    "### การทำนาย\n",
    "ตอนนี้เรามีโมเดลแล้ว เราสามารถใช้โมเดลนี้เพื่อทำนายค่าเดิมของเราได้ มาทำนายราคาของบ้านที่มีพื้นที่ 1200 ตารางฟุต เนื่องจากหน่วยของ  $x$  เป็น 1000 ตารางฟุต  $x$  จึงเท่ากับ 1.2"
   ]
  },
  {
   "cell_type": "code",
   "execution_count": null,
   "metadata": {},
   "outputs": [],
   "source": [
    "w = 200                         \n",
    "b = 100    \n",
    "x_i = 1.2\n",
    "cost_1200sqft = w * x_i + b    \n",
    "\n",
    "print(f\"${cost_1200sqft:.0f} thousand dollars\")"
   ]
  },
  {
   "cell_type": "markdown",
   "metadata": {},
   "source": [
    "### ขอแสดงความยินดี!\n",
    "ในห้องปฏิบัติการนี้ คุณได้เรียนรู้:\n",
    "การถดถอยเชิงเส้นสร้างแบบจำลองที่สร้างความสัมพันธ์ระหว่างคุณลักษณะและเป้าหมาย\n",
    "- ในตัวอย่างข้างต้น คุณลักษณะคือขนาดบ้าน และเป้าหมายคือราคาบ้าน\n",
    "- สำหรับการถดถอยเชิงเส้นอย่างง่าย แบบจำลองจะมีพารามิเตอร์สองตัวคือ w และ b ซึ่งค่าของพารามิเตอร์เหล่านี้จะถูก 'ปรับ' โดยใช้ ข้อมูลฝึก\n",
    "-เมื่อพารามิเตอร์ของแบบจำลองถูกกำหนดแล้ว แบบจำลองสามารถใช้ทำการคาดการณ์กับข้อมูลใหม่ได้\n",
    "\n",
    "\n",
    "\n",
    "\n",
    "\n",
    "\n"
   ]
  }
 ],
 "metadata": {
  "kernelspec": {
   "display_name": "Python 3",
   "language": "python",
   "name": "python3"
  },
  "language_info": {
   "codemirror_mode": {
    "name": "ipython",
    "version": 3
   },
   "file_extension": ".py",
   "mimetype": "text/x-python",
   "name": "python",
   "nbconvert_exporter": "python",
   "pygments_lexer": "ipython3",
   "version": "3.7.6"
  },
  "toc-autonumbering": false
 },
 "nbformat": 4,
 "nbformat_minor": 5
}
