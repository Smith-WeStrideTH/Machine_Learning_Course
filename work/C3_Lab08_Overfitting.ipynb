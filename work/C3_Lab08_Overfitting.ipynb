{
 "cells": [
  {
   "cell_type": "markdown",
   "id": "59d8aad1",
   "metadata": {},
   "source": [
    "# ห้องปฏิบัติการที่ไม่ให้คะแนน: Overfitting (การเรียนรู้เกินพอ)\n",
    "\n",
    "<img align=\"left\" src=\"./images/C1_W3_Overfitting_a_v1.png\"     style=\" width:250px; padding: 10px; \" >\n",
    "<img align=\"left\" src=\"./images/C1_W3_Overfitting_b_v1.png\"     style=\" width:250px; padding: 10px; \" >\n",
    "<img align=\"left\" src=\"./images/C1_W3_Overfitting_c_v1.png\"     style=\" width:250px; padding: 10px; \" >"
   ]
  },
  {
   "cell_type": "markdown",
   "id": "f87b75e9",
   "metadata": {},
   "source": [
    "## เป้าหมายของการทดลองนี้\n",
    "ในห้องปฏิบัติการนี้ คุณจะได้สำรวจ:\n",
    "- สถานการณ์ที่อาจเกิดการ overfitting (การเรียนรู้เกินพอ)\n",
    "- วิธีแก้ไขปัญหา overfitting บางอย่าง\n",
    "\n",
    "\n",
    "\n",
    "\n",
    "\n",
    "\n"
   ]
  },
  {
   "cell_type": "code",
   "execution_count": null,
   "id": "8fa1c93f",
   "metadata": {},
   "outputs": [],
   "source": [
    "%matplotlib widget\n",
    "import matplotlib.pyplot as plt\n",
    "from ipywidgets import Output\n",
    "from plt_overfit import overfit_example, output\n",
    "plt.style.use('./deeplearning.mplstyle')"
   ]
  },
  {
   "cell_type": "markdown",
   "id": "d4719030",
   "metadata": {},
   "source": [
    "# การ Overfitting\n",
    "บทเรียนสัปดาห์นี้ได้อธิบายสถานการณ์ที่อาจเกิดการ overfitting ขึ้น\n",
    "\n",
    "Overfitting คือสถานการณ์ที่โมเดลเรียนรู้ข้อมูลฝึก (training data) ได้ดีเกินไป จนไม่สามารถทำนายข้อมูลใหม่ได้อย่างแม่นยำ\n",
    "\n"
   ]
  },
  {
   "cell_type": "code",
   "execution_count": null,
   "id": "d365e5aa",
   "metadata": {},
   "outputs": [],
   "source": [
    "plt.close(\"all\")\n",
    "display(output)\n",
    "ofit = overfit_example(False)"
   ]
  },
  {
   "cell_type": "markdown",
   "id": "64634634",
   "metadata": {},
   "source": [
    "ในพล็อตข้างต้น คุณสามารถทำได้ดังนี้:\n",
    "\n",
    "- สลับระหว่างตัวอย่างการถดถอย (Regression) และการจำแนกประเภท (Categorization)\n",
    "    - เพื่อทดลองกับทั้งสองรูปแบบ\n",
    "- เพิ่มข้อมูล\n",
    "    - ตัวอย่างที่รุนแรง (extreme examples) อาจทำให้เกิดการโอเวอร์ฟิตติ้ง (overfitting) หากข้อมูลนั้นเป็นค่าผิดปกติ (outlier)\n",
    "    - ตัวอย่างที่เป็นตัวแทน (nominal examples) อาจช่วยลดการโอเวอร์ฟิตติ้ง\n",
    "- เลือกดีกรีของโมเดล (degree of the model)\n",
    "- ปรับโมเดลให้เข้ากับข้อมูล\n",
    "\n",
    "เพื่อรีเซ็ตพล็อต ให้รันเซลล์ใหม่ คลิกช้าๆ เพื่อให้พล็อตอัปเดตก่อนที่จะรับคลิกถัดไป\n",
    "\n",
    "หมายเหตุเกี่ยวกับการใช้งาน:\n",
    "- เส้นโค้ง 'ideal' แทนโมเดลตัวสร้าง (generator model) ที่มีการเพิ่มสัญญาณรบกวน (noise) เพื่อให้ได้ชุดข้อมูล\n",
    "- 'fit' ไม่ใช้การไล่ระดับ (gradient descent) แบบบริสุทธิ์เพื่อเพิ่มความเร็ว - วิธีการเหล่านี้สามารถใช้กับชุดข้อมูลขนาดเล็กได้\n"
   ]
  },
  {
   "cell_type": "markdown",
   "id": "72b4fb11",
   "metadata": {},
   "source": [
    "## ยินดีด้วย!\n",
    "คุณได้พัฒนาความเข้าใจเกี่ยวกับสาเหตุและวิธีแก้ปัญหาของการโอเวอร์ฟิตติ้ง (overfitting) แล้ว\n",
    "- ใน Lab ถัดไป คุณจะสำรวจวิธีแก้ปัญหาที่ใช้กันทั่วไปอย่างหนึ่ง นั่นคือ การปรับให้เป็นมาตรฐาน (Regularization)\n"
   ]
  },
  {
   "cell_type": "code",
   "execution_count": null,
   "metadata": {},
   "outputs": [],
   "source": []
  }
 ],
 "metadata": {
  "kernelspec": {
   "display_name": "Python 3",
   "language": "python",
   "name": "python3"
  },
  "language_info": {
   "codemirror_mode": {
    "name": "ipython",
    "version": 3
   },
   "file_extension": ".py",
   "mimetype": "text/x-python",
   "name": "python",
   "nbconvert_exporter": "python",
   "pygments_lexer": "ipython3",
   "version": "3.8.10"
  }
 },
 "nbformat": 4,
 "nbformat_minor": 5
}
