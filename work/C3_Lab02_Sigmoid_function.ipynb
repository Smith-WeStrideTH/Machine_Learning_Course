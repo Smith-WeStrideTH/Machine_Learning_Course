{
 "cells": [
  {
   "cell_type": "markdown",
   "metadata": {},
   "source": [
    "# การบ้านเสริม: การถดถอยโลจิสติก (Logistic Regression)\n",
    "ในงานปฏิบัติ (lab) นี้ (ซึ่งไม่มีคะแนน) คุณจะได้:\n",
    "- ศึกษาฟังก์ชันซิกมอยด์ (sigmoid function)\n",
    "- ศึกษาการถดถอยโลจิสติก (logistic regression) ซึ่งใช้ฟังก์ชันซิกมอยด์"
   ]
  },
  {
   "cell_type": "code",
   "execution_count": null,
   "id": "dfcc0c33",
   "metadata": {},
   "outputs": [],
   "source": [
    "from google.colab import output\n",
    "output.enable_custom_widget_manager()\n",
    "try:\n",
    "  %matplotlib widget\n",
    "  print(\"widget is already installed\")\n",
    "except:\n",
    "  print(\"widget is not been installed, install now..\")\n",
    "  !pip install ipympl"
   ]
  },
  {
   "cell_type": "code",
   "execution_count": null,
   "id": "237045bc",
   "metadata": {},
   "outputs": [],
   "source": [
    "# prompt: import requsts and download from this github link : https://raw.githubusercontent.com/Smith-WeStrideTH/Machine_Learning_Course/main/work/deeplearning.mplstyle\n",
    "\n",
    "import requests\n",
    "from pathlib import Path\n",
    "\n",
    "url = 'https://raw.githubusercontent.com/Smith-WeStrideTH/Machine_Learning_Course/main/work/deeplearning.mplstyle'\n",
    "url2 = 'https://raw.githubusercontent.com/Smith-WeStrideTH/Machine_Learning_Course/main/work/lab_utils_common_c3.py'\n",
    "url3 = 'https://raw.githubusercontent.com/Smith-WeStrideTH/Machine_Learning_Course/main/work/plt_one_addpt_onclick.py'\n",
    "\n",
    "response = requests.get(url)\n",
    "with open('deeplearning.mplstyle', 'wb') as f:\n",
    "  f.write(response.content)\n",
    "\n",
    "response = requests.get(url2)\n",
    "with open('lab_utils_common.py', 'wb') as f:\n",
    "  f.write(response.content)\n",
    "\n",
    "response = requests.get(url3)\n",
    "with open('plt_one_addpt_onclick.py', 'wb') as f:\n",
    "  f.write(response.content)"
   ]
  },
  {
   "cell_type": "code",
   "execution_count": null,
   "metadata": {},
   "outputs": [],
   "source": [
    "import numpy as np\n",
    "%matplotlib widget\n",
    "import matplotlib.pyplot as plt\n",
    "from plt_one_addpt_onclick import plt_one_addpt_onclick\n",
    "from lab_utils_common import draw_vthresh\n",
    "plt.style.use('./deeplearning.mplstyle')"
   ]
  },
  {
   "cell_type": "markdown",
   "metadata": {},
   "source": [
    "## Sigmoid or Logistic Function\n",
    "<img align=\"left\" src=\"./images/C1_W3_LogisticRegression_left_v1.png\"     style=\" width:300px; padding: 10px; \" >ฟังก์ชันซิกมอยด์ (Sigmoid Function) สำหรับการจำแนกประเภท\n",
    "ตามที่กล่าวไว้ในวิดีโอการบรรยาย สำหรับงานการจำแนกประเภท (classification task) เราสามารถเริ่มต้นด้วยการใช้โมเดลการถดถอยเชิงเส้น (linear regression model) ของเรา $f_{\\mathbf{w},b}(\\mathbf{x}^{(i)}) = \\mathbf{w} \\cdot  \\mathbf{x}^{(i)} + b$, เพื่อทำนาย $y$ จาก $x$. \n",
    "- อย่างไรก็ตาม เราต้องการให้การทำนายของโมเดลการจำแนกประเภทของเรามีค่าอยู่ระหว่าง 0 ถึง 1 เนื่องจากตัวแปรผลลัพธ์ $y$ ของเรามีค่าเป็น 0 หรือ 1\n",
    "- สามารถทำได้โดยใช้ \"ฟังก์ชันซิกมอยด์ (sigmoid function)\" ซึ่งทำการแมปค่าอินพุตทั้งหมดให้เป็นค่าระหว่าง 0 ถึง 1 \n",
    "\n",
    "\n",
    "มาลองใช้งานฟังก์ชันซิกมอยด์ใน Python\n",
    "\n",
    "## สูตรของฟังก์ชันซิกมอยด์\n",
    "สูตรของฟังก์ชันซิกมอยด์มีดังนี้:\n",
    "\n",
    "$g(z) = \\frac{1}{1+e^{-z}}\\tag{1}$\n",
    "\n",
    "ในกรณีของการถดถอยโลจิสติก (logistic regression) $z$ (อินพุตของฟังก์ชันซิกมอยด์) คือผลลัพธ์ของโมเดลการถดถอยเชิงเส้น\n",
    "- ในกรณีของตัวอย่างเดียว $z$ เป็นสเกลาร์ (scalar).\n",
    "- ในกรณีของตัวอย่างหลายตัว $z$ อาจเป็นเวกเตอร์ (vector) ที่ประกอบด้วย $m$ ค่า ค่าหนึ่งสำหรับแต่ละตัวอย่าง\n",
    "- การใช้งานฟังก์ชันซิกมอยด์ควรครอบคลุมทั้งสองรูปแบบของอินพุตที่เป็นไปได้ มาลองใช้งานใน Python\n",
    "\n",
    "\n",
    "\n"
   ]
  },
  {
   "cell_type": "markdown",
   "metadata": {},
   "source": [
    "NumPy มีฟังก์ชันชื่อ [`exp()`](https://numpy.org/doc/stable/reference/generated/numpy.exp.html), ซึ่งเป็นวิธีที่สะดวกในการคำนวณเลข e ยกกำลัง (exponential) ( $e^{z}$)  ของทุกองค์ประกอบในอาเรย์อินพุต (`z`).\n",
    " \n",
    "ฟังก์ชันนี้ยังสามารถใช้กับตัวเลขเพียงตัวเดียวเป็นอินพุตได้อีกด้วย ดังตัวอย่างด้านล่าง"
   ]
  },
  {
   "cell_type": "code",
   "execution_count": null,
   "metadata": {},
   "outputs": [],
   "source": [
    "# Input is an array. \n",
    "input_array = np.array([1,2,3])\n",
    "exp_array = np.exp(input_array)\n",
    "\n",
    "print(\"Input to exp:\", input_array)\n",
    "print(\"Output of exp:\", exp_array)\n",
    "\n",
    "# Input is a single number\n",
    "input_val = 1  \n",
    "exp_val = np.exp(input_val)\n",
    "\n",
    "print(\"Input to exp:\", input_val)\n",
    "print(\"Output of exp:\", exp_val)"
   ]
  },
  {
   "cell_type": "markdown",
   "metadata": {},
   "source": [
    "ฟังก์ชัน `sigmoid` ใน Python สามารถเขียนได้ดังนี้"
   ]
  },
  {
   "cell_type": "code",
   "execution_count": null,
   "metadata": {},
   "outputs": [],
   "source": [
    "def sigmoid(z):\n",
    "    \"\"\"\n",
    "    Compute the sigmoid of z\n",
    "\n",
    "    Args:\n",
    "        z (ndarray): A scalar, numpy array of any size.\n",
    "\n",
    "    Returns:\n",
    "        g (ndarray): sigmoid(z), with the same shape as z\n",
    "         \n",
    "    \"\"\"\n",
    "\n",
    "    g = 1/(1+np.exp(-z))\n",
    "   \n",
    "    return g"
   ]
  },
  {
   "cell_type": "markdown",
   "metadata": {},
   "source": [
    "มาดูผลลัพธ์ของฟังก์ชันนี้สำหรับค่า `z` ที่ต่างกัน"
   ]
  },
  {
   "cell_type": "code",
   "execution_count": null,
   "metadata": {},
   "outputs": [],
   "source": [
    "# Generate an array of evenly spaced values between -10 and 10\n",
    "z_tmp = np.arange(-10,11)\n",
    "\n",
    "# Use the function implemented above to get the sigmoid values\n",
    "y = sigmoid(z_tmp)\n",
    "\n",
    "# Code for pretty printing the two arrays next to each other\n",
    "np.set_printoptions(precision=3) \n",
    "print(\"Input (z), Output (sigmoid(z))\")\n",
    "print(np.c_[z_tmp, y])"
   ]
  },
  {
   "cell_type": "markdown",
   "metadata": {},
   "source": [
    "ค่าในคอลัมน์ซ้ายคือ z และค่าในคอลัมน์ขวาคือ `sigmoid(z)`\n",
    "ดังที่คุณเห็น ค่าอินพุตของซิกมอยด์ `(sigmoid)` อยู่ในช่วง -10 ถึง 10 และค่าเอาต์พุตอยู่ในช่วง 0 ถึง 1\n",
    "\n",
    "ตอนนี้ ลองมาพล็อตฟังก์ชันนี้โดยใช้ไลบรารี `matplotlib`"
   ]
  },
  {
   "cell_type": "code",
   "execution_count": null,
   "metadata": {},
   "outputs": [],
   "source": [
    "# Plot z vs sigmoid(z)\n",
    "fig,ax = plt.subplots(1,1,figsize=(5,3))\n",
    "ax.plot(z_tmp, y, c=\"b\")\n",
    "\n",
    "ax.set_title(\"Sigmoid function\")\n",
    "ax.set_ylabel('sigmoid(z)')\n",
    "ax.set_xlabel('z')\n",
    "draw_vthresh(ax,0)"
   ]
  },
  {
   "cell_type": "markdown",
   "metadata": {},
   "source": [
    "\n",
    "ฟังก์ชันซิกมอยด์ (Sigmoid Function)\n",
    "ฟังก์ชันซิกมอยด์ เป็นฟังก์ชันทางคณิตศาสตร์ที่มีรูปร่างคล้ายตัว S\n",
    "\n",
    "คุณสมบัติของฟังก์ชันซิกมอยด์:\n",
    "\n",
    "เมื่อค่า z มีค่าลบมากขึ้นเรื่อยๆ ค่าของฟังก์ชันซิกมอยด์จะเข้าใกล้ 0\n",
    "เมื่อค่า z มีค่าบวกมากขึ้นเรื่อยๆ ค่าของฟังก์ชันซิกมอยด์จะเข้าใกล้ 1\n"
   ]
  },
  {
   "cell_type": "markdown",
   "metadata": {},
   "source": [
    "## Logistic Regression\n",
    "<img align=\"left\" src=\"./images/C1_W3_LogisticRegression_right_v1.png\"     style=\" width:300px; padding: 10px; \" > การถดถอยโลจิสติก (Logistic Regression): นำฟังก์ชันซิกมอยด์มาใช้กับแบบจำลองการถดถอยเชิงเส้น\n",
    "\n",
    "$$ f_{\\mathbf{w},b}(\\mathbf{x}^{(i)}) = g(\\mathbf{w} \\cdot \\mathbf{x}^{(i)} + b ) \\tag{2} $$ \n",
    "\n",
    "  โดย\n",
    "\n",
    "  $g(z) = \\frac{1}{1+e^{-z}}\\tag{3}$\n"
   ]
  },
  {
   "cell_type": "markdown",
   "metadata": {},
   "source": [
    "มาประยุกต์ใช้ Logistic Regression กับตัวอย่างข้อมูลเชิงประเภท (categorical data) สำหรับการจำแนกเนื้องอกกัน\n",
    "\n",
    "ขั้นแรก โหลดตัวอย่างข้อมูลและค่าเริ่มต้นของพารามิเตอร์"
   ]
  },
  {
   "cell_type": "code",
   "execution_count": null,
   "metadata": {
    "tags": []
   },
   "outputs": [],
   "source": [
    "x_train = np.array([0., 1, 2, 3, 4, 5])\n",
    "y_train = np.array([0,  0, 0, 1, 1, 1])\n",
    "\n",
    "w_in = np.zeros((1))\n",
    "b_in = 0"
   ]
  },
  {
   "cell_type": "markdown",
   "metadata": {},
   "source": [
    "ขั้นตอนการทดลอง:\n",
    "- คลิก \"Run Logistic Regression\" เพื่อค้นหาโมเดลโลจิสติก Regression ที่ดีที่สุดสำหรับข้อมูลการฝึกที่กำหนด\n",
    "\n",
    "     - สังเกตว่าโมเดลที่ได้นั้นพอดีกับข้อมูลค่อนข้างดี\n",
    "     - สังเกตว่าเส้นสีส้มคือ '$z$' หรือ $\\mathbf{w} \\cdot \\mathbf{x}^{(i)} + b$  ซึ่งอยู่ด้านบน เส้นนี้ไม่ตรงกับเส้นในโมเดล Linear Regression\n",
    "ปรับปรุงผลลัพธ์เพิ่มเติมโดยใช้ threshold\n",
    "\n",
    "- ทำเครื่องหมายที่ช่อง \"Toggle 0.5 threshold\" เพื่อแสดงการทำนายหากใช้ threshold\n",
    "\n",
    "    - การทำนายเหล่านี้ดูดี การทำนายตรงกับข้อมูล\n",
    "    - ตอนนี้ เพิ่มจุดข้อมูลเพิ่มเติมในช่วงขนาดเนื้องร้ายขนาดใหญ่ (ใกล้ 10) และรัน Logistic Regression อีกครั้ง\n",
    "     - ไม่เหมือนกับโมเดล Linear Regression โมเดลนี้ยังคงทำนายได้ถูกต้อง"
   ]
  },
  {
   "cell_type": "code",
   "execution_count": null,
   "metadata": {},
   "outputs": [],
   "source": [
    "plt.close('all') \n",
    "addpt = plt_one_addpt_onclick( x_train,y_train, w_in, b_in, logistic=True)"
   ]
  },
  {
   "cell_type": "markdown",
   "metadata": {},
   "source": [
    "## ยินดีด้วย!\n",
    "คุณได้สำรวจการใช้ฟังก์ชันซิกมอยด์ (sigmoid function) ในการถดถอยโลจิสติก (logistic regression) แล้ว\n"
   ]
  },
  {
   "cell_type": "code",
   "execution_count": null,
   "metadata": {},
   "outputs": [],
   "source": []
  }
 ],
 "metadata": {
  "kernelspec": {
   "display_name": "Python 3",
   "language": "python",
   "name": "python3"
  },
  "language_info": {
   "codemirror_mode": {
    "name": "ipython",
    "version": 3
   },
   "file_extension": ".py",
   "mimetype": "text/x-python",
   "name": "python",
   "nbconvert_exporter": "python",
   "pygments_lexer": "ipython3",
   "version": "3.9.10"
  }
 },
 "nbformat": 4,
 "nbformat_minor": 5
}
