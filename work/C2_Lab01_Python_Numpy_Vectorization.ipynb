{
 "cells": [
  {
   "cell_type": "markdown",
   "metadata": {},
   "source": [
    "# ภารกิจเสริม: Python, NumPy และ Vectorization\n",
    "บทนำสั้น ๆ เกี่ยวกับการคำนวณทางวิทยาศาสตร์บางอย่างที่ใช้ในหลักสูตรนี้ โดยเฉพาะแพ็คเกจการคำนวณทางวิทยาศาสตร์ NumPy และการใช้งานร่วมกับ Python\n",
    "\n",
    "# Outline\n",
    "- [&nbsp;&nbsp;1.1 เป้าหมาย](#toc_40015_1.1)\n",
    "- [&nbsp;&nbsp;1.2 อ้างอิงที่เป็นประโยชน์](#toc_40015_1.2)\n",
    "- [2 Python และ NumPy <a name='Python and NumPy'></a>](#toc_40015_2)\n",
    "- [3 Vectors (เวกเตอร์)](#toc_40015_3)\n",
    "- [&nbsp;&nbsp;3.1 Abstract(นามธรรม)](#toc_40015_3.1)\n",
    "- [&nbsp;&nbsp;3.2 อาร์เรย์ NumPy](#toc_40015_3.2)\n",
    "- [&nbsp;&nbsp;3.3 การสร้างเวกเตอร์](#toc_40015_3.3)\n",
    "- [&nbsp;&nbsp;3.4 การดำเนินการบนเวกเตอร์](#toc_40015_3.4)\n",
    "- [4  เมทริกซ์](#toc_40015_4)\n",
    "- [&nbsp;&nbsp;4.1 Abstract (นามธรรม)](#toc_40015_4.1)\n",
    "- [&nbsp;&nbsp;4.2 อาร์เรย์ NumPy](#toc_40015_4.2)\n",
    "- [&nbsp;&nbsp;4.3 การสร้างเมทริกซ์](#toc_40015_4.3)\n",
    "- [&nbsp;&nbsp;4.4 การดำเนินการบนเมทริกซ์](#toc_40015_4.4)\n"
   ]
  },
  {
   "cell_type": "code",
   "execution_count": null,
   "metadata": {},
   "outputs": [],
   "source": [
    "import numpy as np    # it is an unofficial standard to use np for numpy\n",
    "import time"
   ]
  },
  {
   "cell_type": "markdown",
   "metadata": {},
   "source": [
    "<a name=\"toc_40015_1.1\"></a>\n",
    "## 1.1 เป้าหมาย\n",
    "ในห้องปฏิบัติการนี้ คุณจะ:\n",
    "ทบทวนคุณสมบัติของ NumPy และ Python \n",
    "ที่ใช้ในหลักสูตร 1"
   ]
  },
  {
   "cell_type": "markdown",
   "metadata": {},
   "source": [
    "<a name=\"toc_40015_1.2\"></a>\n",
    "## 1.2 อ้างอิงที่เป็นประโยชน์\n",
    "- คู่มือ NumPy พร้อมบทนำเบื้องต้น: [NumPy.org](https://NumPy.org/doc/stable/)\n",
    "-  หัวข้อเรื่องที่ท้าทาย: [NumPy Broadcasting](https://NumPy.org/doc/stable/user/basics.broadcasting.html)\n"
   ]
  },
  {
   "cell_type": "markdown",
   "metadata": {},
   "source": [
    "<a name=\"toc_40015_2\"></a>\n",
    "# 2 Python และ NumPy <a name='Python and NumPy'></a>\n",
    "Python เป็นภาษาการเขียนโปรแกรมที่เราจะใช้ในหลักสูตรนี้ มันมีชุดของชนิดข้อมูลตัวเลขและการดำเนินการทางคณิตศาสตร์ NumPy เป็นไลบรารีที่ขยายความสามารถพื้นฐานของ Python เพื่อเพิ่มชุดข้อมูลที่หลากหลายมากขึ้น รวมถึงชนิดข้อมูลตัวเลขเพิ่มเติม เวกเตอร์ เมทริกซ์ และฟังก์ชันเมทริกซ์มากมาย NumPy และ Python ทำงานร่วมกันได้อย่างราบรื่น Python arithmetic operators ทำงานบนชนิดข้อมูล NumPy และฟังก์ชัน NumPy หลายตัวจะยอมรับชนิดข้อมูล Python"
   ]
  },
  {
   "cell_type": "markdown",
   "metadata": {},
   "source": [
    "<a name=\"toc_40015_3\"></a>\n",
    "# 3 Vector (เวกเตอร์)\n",
    "<a name=\"toc_40015_3.1\"></a>\n",
    "## 3.1 Abstract (นามธรรม)\n",
    "<img align=\"right\" src=\"./images/C1_W2_Lab04_Vectors.PNG\" style=\"width:340px;\" >เวกเตอร์ ในบริบทของหลักสูตรนี้คือกลุ่มข้อมูลที่เรียงลำดับกัน ซึ่งประกอบด้วยตัวเลขเท่านั้น ในสัญกรณ์ เวกเตอร์จะถูกแทนด้วยตัวอักษรตัวเล็กพิมพ์หนา เช่น $\\mathbf{x}$ องค์ประกอบทั้งหมดของเวกเตอร์ต้องเป็นชนิดเดียวกัน เวกเตอร์ไม่สามารถประกอบด้วยทั้งตัวอักษรและตัวเลขได้ ตัวอย่างเช่น จำนวนองค์ประกอบในกลุ่มข้อมูลมักเรียกว่า มิติ (dimension) แม้ว่านักคณิตศาสตร์อาจเรียกว่า อันดับ *rank* เวกเตอร์ที่แสดงมีมิติเท่ากับ $n$ องค์ประกอบของเวกเตอร์สามารถอ้างอิงได้ด้วยดัชนี ในสภาพแวดล้อมทางคณิตศาสตร์ ดัชนีโดยทั่วไปจะเริ่มจาก 1 ถึง n ในวิทยาการคอมพิวเตอร์และห้องปฏิบัติการเหล่านี้ ดัชนีโดยทั่วไปจะเริ่มจาก 0 ถึง n-1 ในสัญกรณ์ องค์ประกอบของเวกเตอร์ เมื่ออ้างอิงแบบเดี่ยวจะระบุดัชนีในตัวห้อย ตัวอย่างเช่น องค์ประกอบที่ $0^{th}$ ของเวกเตอร์ x คือ $\\mathbf{x}$ is $x_0$โปรดสังเกตว่า x ในกรณีนี้ไม่พิมพ์หนา"
   ]
  },
  {
   "cell_type": "markdown",
   "metadata": {},
   "source": [
    "<a name=\"toc_40015_3.2\"></a>\n",
    "## 3.2 อาร์เรย์ NumPy\n",
    "โครงสร้างข้อมูลพื้นฐานของ NumPy คือ อาร์เรย์ ที่สามารถจัดทำดัชนีได้หลายมิติ ซึ่งประกอบด้วยองค์ประกอบประเภทเดียวกัน *(dtype)* ทันที คุณอาจสังเกตเห็นว่าเราได้โอเวอร์โหลดคำว่า 'มิติ' ข้างต้น เป็นจำนวนองค์ประกอบในเวกเตอร์ ที่นี่ มิติหมายถึงจำนวนดัชนีของอาร์เรย์ อาร์เรย์หนึ่งมิติหรือ 1-D มีดัชนีหนึ่งดัชนี ในหลักสูตรที่ 1 เราจะแสดงเวกเตอร์เป็นอาร์เรย์ 1-D ของ NumPy\n",
    "\n",
    "- อาร์เรย์ 1-D, รูปร่าง (n,): องค์ประกอบ n ดัชนี [0] ถึง [n-1]\n",
    " "
   ]
  },
  {
   "cell_type": "markdown",
   "metadata": {},
   "source": [
    "<a name=\"toc_40015_3.3\"></a>\n",
    "## 3.3 การสร้างเวกเตอร์\n"
   ]
  },
  {
   "cell_type": "markdown",
   "metadata": {},
   "source": [
    "การสร้างข้อมูลใน NumPy โดยทั่วไปจะมีพารามิเตอร์แรกที่ระบุรูปร่างของออบเจ็กต์ พารามิเตอร์นี้สามารถเป็นค่าเดี่ยวสำหรับผลลัพธ์แบบ 1 มิติ หรือเป็นทูเพิล (n,m,...) ที่ระบุรูปร่างของผลลัพธ์ ด้านล่างนี้เป็นตัวอย่างการสร้างเวกเตอร์โดยใช้รูทีนเหล่านี้"
   ]
  },
  {
   "cell_type": "code",
   "execution_count": null,
   "metadata": {},
   "outputs": [],
   "source": [
    "# NumPy routines which allocate memory and fill arrays with value\n",
    "a = np.zeros(4);                print(f\"np.zeros(4) :   a = {a}, a shape = {a.shape}, a data type = {a.dtype}\")\n",
    "a = np.zeros((4,));             print(f\"np.zeros(4,) :  a = {a}, a shape = {a.shape}, a data type = {a.dtype}\")\n",
    "a = np.random.random_sample(4); print(f\"np.random.random_sample(4): a = {a}, a shape = {a.shape}, a data type = {a.dtype}\")"
   ]
  },
  {
   "cell_type": "markdown",
   "metadata": {},
   "source": [
    "บางรูทีนการสร้างข้อมูลไม่รับทูเพิลรูปทรง:"
   ]
  },
  {
   "cell_type": "code",
   "execution_count": null,
   "metadata": {},
   "outputs": [],
   "source": [
    "# NumPy routines which allocate memory and fill arrays with value but do not accept shape as input argument\n",
    "a = np.arange(4.);              print(f\"np.arange(4.):     a = {a}, a shape = {a.shape}, a data type = {a.dtype}\")\n",
    "a = np.random.rand(4);          print(f\"np.random.rand(4): a = {a}, a shape = {a.shape}, a data type = {a.dtype}\")"
   ]
  },
  {
   "cell_type": "markdown",
   "metadata": {},
   "source": [
    "ค่าสามารถระบุด้วยตนเองได้เช่นกัน"
   ]
  },
  {
   "cell_type": "code",
   "execution_count": null,
   "metadata": {},
   "outputs": [],
   "source": [
    "# NumPy routines which allocate memory and fill with user specified values\n",
    "a = np.array([5,4,3,2]);  print(f\"np.array([5,4,3,2]):  a = {a},     a shape = {a.shape}, a data type = {a.dtype}\")\n",
    "a = np.array([5.,4,3,2]); print(f\"np.array([5.,4,3,2]): a = {a}, a shape = {a.shape}, a data type = {a.dtype}\")"
   ]
  },
  {
   "cell_type": "markdown",
   "metadata": {},
   "source": [
    "สิ่งเหล่านี้ทั้งหมดได้สร้างเวกเตอร์หนึ่งมิติ `a` ที่มีสี่องค์ประกอบ `a.shape` ส่งกลับมิติ ที่นี่เราเห็น `a.shape = (4,)` ซึ่งบ่งชี้ถึงอาร์เรย์ 1 มิติที่มี 4 องค์ประกอบ"
   ]
  },
  {
   "cell_type": "markdown",
   "metadata": {},
   "source": [
    "<a name=\"toc_40015_3.4\"></a>\n",
    "## 3.4 การดำเนินการบนเวกเตอร์\n",
    "มาสำรวจการดำเนินการบางอย่างโดยใช้เวกเตอร์กันครับ\n",
    "<a name=\"toc_40015_3.4.1\"></a>\n",
    "\n",
    "### 3.4.1 Indexing (การจัดทำดัชนี)\n",
    "เราสามารถเข้าถึงสมาชิกของเวกเตอร์ได้โดยใช้การจัดทำดัชนี (indexing) และการสไลซ์ (slicing) NumPy มีชุดความสามารถในการจัดทำดัชนีและการสไลซ์ที่ครอบคลุม [Slicing และ Indexing](https://NumPy.org/doc/stable/reference/arrays.indexing.html)\n",
    "- **การจัดทำดัชนี Indexing** หมายถึงการอ้างอิงไปยัง สมาชิก ของอาร์เรย์ตามตำแหน่งภายในอาร์เรย์\n",
    "- **การสไลซ์ Slicing** หมายถึงการดึง กลุ่มย่อย ของสมาชิกจากอาร์เรย์ตามดัชนีของมัน\n",
    "NumPy เริ่มการจัดทำดัชนีที่ 0 ดังนั้นสมาชิกที่ 3 ของเวกเตอร์  $\\mathbf{a}$ คือ `a[2]`.\n"
   ]
  },
  {
   "cell_type": "code",
   "execution_count": null,
   "metadata": {},
   "outputs": [],
   "source": [
    "#vector indexing operations on 1-D vectors\n",
    "a = np.arange(10)\n",
    "print(a)\n",
    "\n",
    "#access an element\n",
    "print(f\"a[2].shape: {a[2].shape} a[2]  = {a[2]}, Accessing an element returns a scalar\")\n",
    "\n",
    "# access the last element, negative indexes count from the end\n",
    "print(f\"a[-1] = {a[-1]}\")\n",
    "\n",
    "#indexs must be within the range of the vector or they will produce and error\n",
    "try:\n",
    "    c = a[10]\n",
    "except Exception as e:\n",
    "    print(\"The error message you'll see is:\")\n",
    "    print(e)"
   ]
  },
  {
   "cell_type": "markdown",
   "metadata": {},
   "source": [
    "<a name=\"toc_40015_3.4.2\"></a>\n",
    "### 3.4.2 Slicing (การสไลซ์)\n",
    "การสไลซ์ สร้างอาร์เรย์ของดัชนีโดยใช้ชุดค่าสามค่า (start:stop:step) และยังสามารถใช้ชุดย่อยของค่าได้ การใช้งานที่ดีที่สุดคือการอธิบายด้วยตัวอย่าง:\n",
    "\n",
    "\n",
    "\n",
    "\n",
    "\n",
    "\n",
    "\n"
   ]
  },
  {
   "cell_type": "code",
   "execution_count": null,
   "metadata": {},
   "outputs": [],
   "source": [
    "#vector slicing operations\n",
    "a = np.arange(10)\n",
    "print(f\"a         = {a}\")\n",
    "\n",
    "#access 5 consecutive elements (start:stop:step)\n",
    "c = a[2:7:1];     print(\"a[2:7:1] = \", c)\n",
    "\n",
    "# access 3 elements separated by two \n",
    "c = a[2:7:2];     print(\"a[2:7:2] = \", c)\n",
    "\n",
    "# access all elements index 3 and above\n",
    "c = a[3:];        print(\"a[3:]    = \", c)\n",
    "\n",
    "# access all elements below index 3\n",
    "c = a[:3];        print(\"a[:3]    = \", c)\n",
    "\n",
    "# access all elements\n",
    "c = a[:];         print(\"a[:]     = \", c)"
   ]
  },
  {
   "cell_type": "markdown",
   "metadata": {},
   "source": [
    "<a name=\"toc_40015_3.4.3\"></a>\n",
    "### 3.4.3 การดำเนินการเวกเตอร์แบบเดี่ยว\n",
    "มีการดำเนินการที่เป็นประโยชน์หลายอย่างที่เกี่ยวข้องกับการดำเนินการบนเวกเตอร์แบบเดี่ยว"
   ]
  },
  {
   "cell_type": "code",
   "execution_count": null,
   "metadata": {},
   "outputs": [],
   "source": [
    "a = np.array([1,2,3,4])\n",
    "print(f\"a             : {a}\")\n",
    "# negate elements of a\n",
    "b = -a \n",
    "print(f\"b = -a        : {b}\")\n",
    "\n",
    "# sum all elements of a, returns a scalar\n",
    "b = np.sum(a) \n",
    "print(f\"b = np.sum(a) : {b}\")\n",
    "\n",
    "b = np.mean(a)\n",
    "print(f\"b = np.mean(a): {b}\")\n",
    "\n",
    "b = a**2\n",
    "print(f\"b = a**2      : {b}\")"
   ]
  },
  {
   "cell_type": "markdown",
   "metadata": {},
   "source": [
    "<a name=\"toc_40015_3.4.4\"></a>\n",
    "### 3.4.4 เวกเตอร์ เวกเตอร์การดำเนินการแบบองค์ประกอบต่อองค์ประกอบ\n",
    "การดำเนินการทางคณิตศาสตร์, ตรรกะ และการเปรียบเทียบส่วนใหญ่ของ NumPy นั้นใช้กับเวกเตอร์เช่นกัน ตัวดำเนินการเหล่านี้ทำงานบนพื้นฐานองค์ประกอบต่อองค์ประกอบ ตัวอย่างเช่น \n",
    "$$ c_i = a_i + b_i $$"
   ]
  },
  {
   "cell_type": "code",
   "execution_count": null,
   "metadata": {},
   "outputs": [],
   "source": [
    "a = np.array([ 1, 2, 3, 4])\n",
    "b = np.array([-1,-2, 3, 4])\n",
    "print(f\"Binary operators work element wise: {a + b}\")"
   ]
  },
  {
   "cell_type": "markdown",
   "metadata": {},
   "source": [
    "แน่นอน เพื่อให้การทำงานถูกต้อง เวกเตอร์ต้องมีขนาดเท่ากัน:"
   ]
  },
  {
   "cell_type": "code",
   "execution_count": null,
   "metadata": {},
   "outputs": [],
   "source": [
    "#try a mismatched vector operation\n",
    "c = np.array([1, 2])\n",
    "try:\n",
    "    d = a + c\n",
    "except Exception as e:\n",
    "    print(\"The error message you'll see is:\")\n",
    "    print(e)"
   ]
  },
  {
   "cell_type": "markdown",
   "metadata": {},
   "source": [
    "<a name=\"toc_40015_3.4.5\"></a>\n",
    "### 3.4.5 การดำเนินการสเกลาร์เวกเตอร์\n",
    "สามารถ 'ปรับขนาด' เวกเตอร์ได้โดยใช้ค่าสเกลาร์ ค่าสเกลาร์เป็นเพียงตัวเลข สเกลาร์คูณองค์ประกอบทั้งหมดของเวกเตอร์\n",
    "\n"
   ]
  },
  {
   "cell_type": "code",
   "execution_count": null,
   "metadata": {},
   "outputs": [],
   "source": [
    "a = np.array([1, 2, 3, 4])\n",
    "\n",
    "# multiply a by a scalar\n",
    "b = 5 * a \n",
    "print(f\"b = 5 * a : {b}\")"
   ]
  },
  {
   "cell_type": "markdown",
   "metadata": {},
   "source": [
    "<a name=\"toc_40015_3.4.6\"></a>\n",
    "### 3.4.6 ผลคูณดอทของเวกเตอร์ (Vector Vector dot product)\n",
    "ผลคูณดอทเป็นพื้นฐานของพีชคณิตเชิงเส้นและ NumPy นี่คือการดำเนินการที่ใช้กันอย่างกว้างขวางในหลักสูตรนี้และควรเข้าใจอย่างดี ผลคูณดอทแสดงด้านล่างนี้"
   ]
  },
  {
   "cell_type": "markdown",
   "metadata": {},
   "source": [
    "<img src=\"./images/C1_W2_Lab04_dot_notrans.gif\" width=800> "
   ]
  },
  {
   "cell_type": "markdown",
   "metadata": {},
   "source": [
    "ผลคูณดอท คือการคูณค่าในเวกเตอร์สองตัวทีละองค์ประกอบแล้วบวกผลลัพธ์เข้าด้วยกัน\n",
    "\n",
    "เงื่อนไขการคูณดอท: ขนาดของเวกเตอร์ทั้งสองต้องเท่ากัน\n"
   ]
  },
  {
   "cell_type": "markdown",
   "metadata": {},
   "source": [
    "มาเขียนคำนวณผลคูณดอทของเราเองด้านล่างกัน:\n",
    "\n",
    "**ใช้ for loop**,ให้เขียนฟังก์ชันที่คำนวณผลคูณดอทของสองเวกเตอร์โดยใช้ลูป for ฟังก์ชันเพื่อคืนค่าอินพุตที่กำหนด $a$ and $b$:\n",
    "$$ x = \\sum_{i=0}^{n-1} a_i b_i $$\n",
    "สมมติว่าทั้ง `a` และ `b` มีรูปร่างเหมือนกัน (same shape.)\n",
    "\n",
    "\n",
    "\n",
    "\n",
    "\n",
    "\n"
   ]
  },
  {
   "cell_type": "code",
   "execution_count": null,
   "metadata": {},
   "outputs": [],
   "source": [
    "def my_dot(a, b): \n",
    "    \"\"\"\n",
    "   Compute the dot product of two vectors\n",
    " \n",
    "    Args:\n",
    "      a (ndarray (n,)):  input vector \n",
    "      b (ndarray (n,)):  input vector with same dimension as a\n",
    "    \n",
    "    Returns:\n",
    "      x (scalar): \n",
    "    \"\"\"\n",
    "    x=0\n",
    "    for i in range(a.shape[0]):\n",
    "        x = x + a[i] * b[i]\n",
    "    return x"
   ]
  },
  {
   "cell_type": "code",
   "execution_count": null,
   "metadata": {},
   "outputs": [],
   "source": [
    "# test 1-D\n",
    "a = np.array([1, 2, 3, 4])\n",
    "b = np.array([-1, 4, 3, 2])\n",
    "print(f\"my_dot(a, b) = {my_dot(a, b)}\")"
   ]
  },
  {
   "cell_type": "markdown",
   "metadata": {},
   "source": [
    "หมายเหตุ ผลคูณจุดคาดว่าจะส่งคืนค่าสเกลอร์\n",
    "\n",
    "ลองดูการดำเนินการเดียวกันโดยใช้  `np.dot`.  "
   ]
  },
  {
   "cell_type": "code",
   "execution_count": null,
   "metadata": {},
   "outputs": [],
   "source": [
    "# test 1-D\n",
    "a = np.array([1, 2, 3, 4])\n",
    "b = np.array([-1, 4, 3, 2])\n",
    "c = np.dot(a, b)\n",
    "print(f\"NumPy 1-D np.dot(a, b) = {c}, np.dot(a, b).shape = {c.shape} \") \n",
    "c = np.dot(b, a)\n",
    "print(f\"NumPy 1-D np.dot(b, a) = {c}, np.dot(a, b).shape = {c.shape} \")\n"
   ]
  },
  {
   "cell_type": "markdown",
   "metadata": {},
   "source": [
    "ดังที่คุณจะสังเกตได้ข้างต้น ผลลัพธ์สำหรับ 1-D ตรงกับการใช้งานของเรา"
   ]
  },
  {
   "cell_type": "markdown",
   "metadata": {},
   "source": [
    "<a name=\"toc_40015_3.4.7\"></a>\n",
    "### 3.4.7 ความต้องการความเร็ว: เวกเตอร์ vs. วนซ้ำ\n",
    "เราใช้ไลบรารี NumPy เพราะมันช่วยเพิ่มความเร็วและประสิทธิภาพการใช้หน่วยความจำ มาดูตัวอย่างกัน:"
   ]
  },
  {
   "cell_type": "code",
   "execution_count": null,
   "metadata": {},
   "outputs": [],
   "source": [
    "np.random.seed(1)\n",
    "a = np.random.rand(10000000)  # very large arrays\n",
    "b = np.random.rand(10000000)\n",
    "\n",
    "tic = time.time()  # capture start time\n",
    "c = np.dot(a, b)\n",
    "toc = time.time()  # capture end time\n",
    "\n",
    "print(f\"np.dot(a, b) =  {c:.4f}\")\n",
    "print(f\"Vectorized version duration: {1000*(toc-tic):.4f} ms \")\n",
    "\n",
    "tic = time.time()  # capture start time\n",
    "c = my_dot(a,b)\n",
    "toc = time.time()  # capture end time\n",
    "\n",
    "print(f\"my_dot(a, b) =  {c:.4f}\")\n",
    "print(f\"loop version duration: {1000*(toc-tic):.4f} ms \")\n",
    "\n",
    "del(a);del(b)  #remove these big arrays from memory"
   ]
  },
  {
   "cell_type": "markdown",
   "metadata": {},
   "source": [
    "ดังนั้น การเวคเทอไรเซชันจึงทำให้เกิดความเร็วที่เพิ่มขึ้นอย่างมากในตัวอย่างนี้ เนื่องจาก NumPy ใช้งานความขนานของข้อมูลที่มีอยู่ได้ดีขึ้นในฮาร์ดแวร์พื้นฐาน GPU และ CPU ที่ทันสมัยใช้ท่อส่ง Single Instruction, Multiple Data (SIMD) ทำให้สามารถออกคำสั่งการดำเนินการหลาย ๆ คำสั่งได้แบบขนาน ซึ่งมีความสำคัญอย่างยิ่งใน Machine Learning ที่มักมีชุดข้อมูลขนาดใหญ่"
   ]
  },
  {
   "cell_type": "markdown",
   "metadata": {},
   "source": [
    "<a name=\"toc_12345_3.4.8\"></a>\n",
    "### การดำเนินการเวกเตอร์เวกเตอร์ในหลักสูตร 1\n",
    "การดำเนินการเวกเตอร์เวกเตอร์จะปรากฏบ่อยครั้งในหลักสูตร 1 นี่คือเหตุผล:\n",
    "- ต่อไป ตัวอย่างของเราจะถูกเก็บไว้ในอาร์เรย์ `X_train` ที่มีมิติ (m,n) ซึ่งจะได้รับการอธิบายเพิ่มเติมในบริบท แต่ที่นี่สิ่งสำคัญคือต้องทราบว่านี่เป็นอาร์เรย์สองมิติหรือเมทริกซ์ (ดูหัวข้อต่อไปเกี่ยวกับเมทริกซ์)\n",
    "- `w` จะเป็นเวกเตอร์หนึ่งมิติที่มีรูปร่าง (n,)\n",
    "เราจะดำเนินการโดยการวนซ้ำผ่านตัวอย่าง ดึงตัวอย่างแต่ละตัวมาทำงานทีละตัวโดยการจัดดัชนี X ตัวอย่างเช่น: `X[i]`\n",
    "- `X[i]` ส่งคืนค่าที่มีรูปร่าง (n,) ซึ่งเป็นเวกเตอร์หนึ่งมิติ ดังนั้น การดำเนินการที่เกี่ยวข้องกับ `X[i]` มักจะเป็นเวกเตอร์เวกเตอร์\n",
    "\n",
    "นี่เป็นคำอธิบายที่ค่อนข้างยาว แต่การจัดแนวและทำความเข้าใจรูปร่างของตัวถูกดำเนินการของคุณมีความสำคัญเมื่อทำการดำเนินการเวกเตอร์"
   ]
  },
  {
   "cell_type": "code",
   "execution_count": null,
   "metadata": {},
   "outputs": [],
   "source": [
    "# show common Course 1 example\n",
    "X = np.array([[1],[2],[3],[4]])\n",
    "w = np.array([2])\n",
    "c = np.dot(X[1], w)\n",
    "\n",
    "print(f\"X[1] has shape {X[1].shape}\")\n",
    "print(f\"w has shape {w.shape}\")\n",
    "print(f\"c has shape {c.shape}\")"
   ]
  },
  {
   "cell_type": "markdown",
   "metadata": {},
   "source": [
    "<a name=\"toc_40015_4\"></a>\n",
    "# 4 เมทริกซ์\n"
   ]
  },
  {
   "cell_type": "markdown",
   "metadata": {},
   "source": [
    "<a name=\"toc_40015_4.1\"></a>\n",
    "## 4.1  บทคัดย่อ\n",
    "เมทริกซ์ เป็นอาร์เรย์สองมิติ องค์ประกอบของเมทริกซ์มีชนิดเดียวกัน ในสัญกรณ์ เมทริกซ์จะแสดงด้วยตัวอักษรตัวใหญ่ ตัวหนา เช่น X ในแล็บนี้และแล็บอื่น ๆ m มักเป็นจำนวนแถวและ n เป็นจำนวนคอลัมน์ องค์ประกอบของเมทริกซ์สามารถอ้างอิงได้ด้วยดัชนีสองมิติ ในการตั้งค่าทางคณิตศาสตร์ ตัวเลขในดัชนีมักจะทำงานจาก 1 ถึง n ในวิทยาการคอมพิวเตอร์และแล็บเหล่านี้ การจัดทำดัชนีจะทำงานจาก 0 ถึง n-1\n",
    "<figure>\n",
    "    <center> <img src=\"./images/C1_W2_Lab04_Matrices.PNG\"  alt='missing'  width=900><center/>\n",
    "    <figcaption> การแทนค่าเมทริกซ์ทั่วไป ดัชนีแรกคือแถว ดัชนีที่สองคือคอลัมน์\n",
    " </figcaption>\n",
    "<figure/>"
   ]
  },
  {
   "cell_type": "markdown",
   "metadata": {},
   "source": [
    "<a name=\"toc_40015_4.2\"></a>\n",
    "## 4.2 อาร์เรย์ NumPy\n",
    "โครงสร้างข้อมูลพื้นฐานของ NumPy คือ อาร์เรย์ ที่สามารถดัชนีได้และมีมิติ n ซึ่งประกอบด้วยองค์ประกอบประเภทเดียวกัน `(dtype)` อาร์เรย์เหล่านี้ได้ถูกอธิบายไว้ก่อนหน้านี้ เมทริกซ์มีดัชนีสองมิติ (2-D) [m,n]\n",
    "\n",
    "ในหลักสูตร 1 เมทริกซ์ 2-D ถูกใช้เพื่อเก็บข้อมูลการฝึกอบรม ข้อมูลการฝึกอบรมคือ m ตัวอย่างโดย n คุณลักษณะสร้างอาร์เรย์ (m,n) หลักสูตร 1 ไม่ทำการดำเนินการโดยตรงบนเมทริกซ์ แต่โดยทั่วไปจะดึงตัวอย่างออกมาเป็นเวกเตอร์และดำเนินการกับตัวนั้น ด้านล่างนี้คุณจะทบทวน:\n",
    "\n",
    "- การสร้างข้อมูล\n",
    "- การสไลซ์และการดัชนี"
   ]
  },
  {
   "cell_type": "markdown",
   "metadata": {},
   "source": [
    "<a name=\"toc_40015_4.3\"></a>\n",
    "## 4.3 4.3 การสร้างเมทริกซ์\n",
    "ฟังก์ชันเดียวกันที่สร้างเวกเตอร์ 1 มิติ จะสร้างอาร์เรย์ 2 มิติหรือ n มิติ นี่คือตัวอย่างบางตัวอย่าง"
   ]
  },
  {
   "cell_type": "markdown",
   "metadata": {},
   "source": [
    "ด้านล่างนี้ ทูเพิลรูปร่างถูกจัดให้เพื่อให้ได้ผลลัพธ์ 2 มิติ สังเกตว่า NumPy ใช้เครื่องหมายวงเล็บเพื่อแสดงแต่ละมิติ สังเกตเพิ่มเติมว่า NumPy เมื่อพิมพ์ จะพิมพ์หนึ่งแถวต่อหนึ่งบรรทัด"
   ]
  },
  {
   "cell_type": "code",
   "execution_count": null,
   "metadata": {},
   "outputs": [],
   "source": [
    "a = np.zeros((1, 5))                                       \n",
    "print(f\"a shape = {a.shape}, a = {a}\")                     \n",
    "\n",
    "a = np.zeros((2, 1))                                                                   \n",
    "print(f\"a shape = {a.shape}, a = {a}\") \n",
    "\n",
    "a = np.random.random_sample((1, 1))  \n",
    "print(f\"a shape = {a.shape}, a = {a}\") "
   ]
  },
  {
   "cell_type": "markdown",
   "metadata": {},
   "source": [
    "สามารถระบุข้อมูลด้วยตนเองได้เช่นกัน โดยระบุมิติด้วยวงเล็บเพิ่มเติมที่ตรงกับรูปแบบการพิมพ์ข้างต้น"
   ]
  },
  {
   "cell_type": "code",
   "execution_count": null,
   "metadata": {},
   "outputs": [],
   "source": [
    "# NumPy routines which allocate memory and fill with user specified values\n",
    "a = np.array([[5], [4], [3]]);   print(f\" a shape = {a.shape}, np.array: a = {a}\")\n",
    "a = np.array([[5],   # One can also\n",
    "              [4],   # separate values\n",
    "              [3]]); #into separate rows\n",
    "print(f\" a shape = {a.shape}, np.array: a = {a}\")"
   ]
  },
  {
   "cell_type": "markdown",
   "metadata": {},
   "source": [
    "<a name=\"toc_40015_4.4\"></a>\n",
    "## 4.4 การดำเนินการบนเมทริกซ์\n",
    "มาสำรวจการดำเนินการบางอย่างโดยใช้เมทริกซ์กันครับ"
   ]
  },
  {
   "cell_type": "markdown",
   "metadata": {},
   "source": [
    "<a name=\"toc_40015_4.4.1\"></a>\n",
    "### 4.4.1 Indexing\n"
   ]
  },
  {
   "cell_type": "markdown",
   "metadata": {},
   "source": [
    "เมทริกซ์มีดัชนีที่สอง ดัชนีทั้งสองนี้ระบุ [แถว, คอลัมน์] การเข้าถึงสามารถคืนค่าองค์ประกอบหรือแถว/คอลัมน์ ดูตัวอย่างด้านล่าง:"
   ]
  },
  {
   "cell_type": "code",
   "execution_count": null,
   "metadata": {},
   "outputs": [],
   "source": [
    "#vector indexing operations on matrices\n",
    "a = np.arange(6).reshape(-1, 2)   #reshape is a convenient way to create matrices\n",
    "print(f\"a.shape: {a.shape}, \\na= {a}\")\n",
    "\n",
    "#access an element\n",
    "print(f\"\\na[2,0].shape:   {a[2, 0].shape}, a[2,0] = {a[2, 0]},     type(a[2,0]) = {type(a[2, 0])} Accessing an element returns a scalar\\n\")\n",
    "\n",
    "#access a row\n",
    "print(f\"a[2].shape:   {a[2].shape}, a[2]   = {a[2]}, type(a[2])   = {type(a[2])}\")"
   ]
  },
  {
   "cell_type": "markdown",
   "metadata": {},
   "source": [
    "เป็นเรื่องน่าสังเกตสำหรับตัวอย่างสุดท้าย การเข้าถึงเมทริกซ์โดยระบุเฉพาะแถวจะส่งคืน *เวกเตอร์ 1 มิติ*"
   ]
  },
  {
   "cell_type": "markdown",
   "metadata": {},
   "source": [
    "**Reshape**  \n",
    "ตัวอย่างก่อนหน้านี้ใช้ [reshape](https://numpy.org/doc/stable/reference/generated/numpy.reshape.html) จัดรูปอาร์เรย์.  \n",
    "`a = np.arange(6).reshape(-1, 2) `   \n",
    "บรรทัดโค้ดนี้เริ่มต้นด้วยการสร้าง เวกเตอร์ *1 มิติ* ที่มีหกองค์ประกอบ จากนั้นจึงปรับขนาดเวกเตอร์นั้นให้เป็น อาร์เรย์ *2 มิติ* โดยใช้คำสั่ง reshape ซึ่งสามารถเขียนได้ดังนี้:\n",
    "\n",
    "`a = np.arange(6).reshape(3, 2) `  \n",
    "เพื่อให้ได้ผลลัพธ์เป็นอาร์เรย์ 3 แถว 2 คอลัมน์เหมือนกัน\n",
    "อาร์กิวเมนต์ -1 บอกให้รูทีนคำนวณจำนวนแถวจากขนาดของอาร์เรย์และจำนวนคอลัมน์"
   ]
  },
  {
   "cell_type": "markdown",
   "metadata": {},
   "source": [
    "<a name=\"toc_40015_4.4.2\"></a>\n",
    "### 4.4.2 Slicing\n",
    "Slicing สร้างอาร์เรย์ของดัชนีโดยใช้ชุดค่าสามค่า (start:stop:step) สามารถใช้ชุดย่อยของค่าได้เช่นกัน การใช้งานที่ดีที่สุดคือการอธิบายด้วยตัวอย่าง:\n",
    "\n"
   ]
  },
  {
   "cell_type": "code",
   "execution_count": null,
   "metadata": {},
   "outputs": [],
   "source": [
    "#vector 2-D slicing operations\n",
    "a = np.arange(20).reshape(-1, 10)\n",
    "print(f\"a = \\n{a}\")\n",
    "\n",
    "#access 5 consecutive elements (start:stop:step)\n",
    "print(\"a[0, 2:7:1] = \", a[0, 2:7:1], \",  a[0, 2:7:1].shape =\", a[0, 2:7:1].shape, \"a 1-D array\")\n",
    "\n",
    "#access 5 consecutive elements (start:stop:step) in two rows\n",
    "print(\"a[:, 2:7:1] = \\n\", a[:, 2:7:1], \",  a[:, 2:7:1].shape =\", a[:, 2:7:1].shape, \"a 2-D array\")\n",
    "\n",
    "# access all elements\n",
    "print(\"a[:,:] = \\n\", a[:,:], \",  a[:,:].shape =\", a[:,:].shape)\n",
    "\n",
    "# access all elements in one row (very common usage)\n",
    "print(\"a[1,:] = \", a[1,:], \",  a[1,:].shape =\", a[1,:].shape, \"a 1-D array\")\n",
    "# same as\n",
    "print(\"a[1]   = \", a[1],   \",  a[1].shape   =\", a[1].shape, \"a 1-D array\")\n"
   ]
  },
  {
   "cell_type": "markdown",
   "metadata": {},
   "source": [
    "<a name=\"toc_40015_5.0\"></a>\n",
    "## ขอแสดงความยินดี!\n",
    "ในห้องปฏิบัติการนี้ คุณได้ฝึกฝนคุณสมบัติของ Python และ NumPy ที่จำเป็นสำหรับ Course 1\n",
    "\n",
    "\n",
    "\n",
    "\n",
    "\n",
    "\n",
    "\n"
   ]
  },
  {
   "cell_type": "code",
   "execution_count": null,
   "metadata": {},
   "outputs": [],
   "source": []
  }
 ],
 "metadata": {
  "dl_toc_settings": {
   "rndtag": "40015"
  },
  "kernelspec": {
   "display_name": "Python 3",
   "language": "python",
   "name": "python3"
  },
  "language_info": {
   "codemirror_mode": {
    "name": "ipython",
    "version": 3
   },
   "file_extension": ".py",
   "mimetype": "text/x-python",
   "name": "python",
   "nbconvert_exporter": "python",
   "pygments_lexer": "ipython3",
   "version": "3.7.6"
  },
  "toc-autonumbering": false
 },
 "nbformat": 4,
 "nbformat_minor": 4
}
