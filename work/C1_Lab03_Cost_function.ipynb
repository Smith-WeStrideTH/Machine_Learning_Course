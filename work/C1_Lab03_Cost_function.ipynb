{
 "cells": [
  {
   "cell_type": "markdown",
   "metadata": {},
   "source": [
    "# Cost Function (LABไม่บังคับ)\n",
    "<figure>\n",
    "    <center> <img src=\"./images/C1_W1_L3_S2_Lecture_b.png\"  style=\"width:1000px;height:200px;\" ></center>\n",
    "</figure>\n",
    "\n"
   ]
  },
  {
   "cell_type": "markdown",
   "metadata": {},
   "source": [
    "\n",
    "## เป้าหมาย\n",
    "ในห้องปฏิบัติการนี้ คุณจะ:\n",
    "\n",
    "นำไปใช้และสำรวจฟังก์ชัน `cost` สำหรับการถดถอยเชิงเส้นที่มีตัวแปรเดียว"
   ]
  },
  {
   "cell_type": "markdown",
   "metadata": {},
   "source": [
    "## เครื่องมือ \n",
    "ในห้องปฏิบัติการนี้ เราจะใช้เครื่องมือต่อไปนี้:\n",
    "- NumPy (Numpy) ไลบรารี่ยอดนิยมสำหรับการคำนวณทางวิทยาศาสตร์\n",
    "- Matplotlib (Matphlotlib) ไลบรารี่ยอดนิยมสำหรับการพล็อตข้อมูล\n",
    "- รูทีนการพล็อตภายในไฟล์ lab_utils_uni.py ในไดเร็กทอรี่ภายในเครื่อง \n",
    "\n",
    "\n",
    "\n",
    "\n",
    "\n"
   ]
  },
  {
   "cell_type": "code",
   "execution_count": null,
   "id": "c07c83e3",
   "metadata": {},
   "outputs": [],
   "source": [
    "# prompt: import requsts and download from this github link : https://raw.githubusercontent.com/Smith-WeStrideTH/Machine_Learning_Course/main/work/deeplearning.mplstyle\n",
    "\n",
    "import requests\n",
    "\n",
    "url = 'https://raw.githubusercontent.com/Smith-WeStrideTH/Machine_Learning_Course/main/work/deeplearning.mplstyle'\n",
    "response = requests.get(url)\n",
    "\n",
    "with open('deeplearning.mplstyle', 'wb') as f:\n",
    "  f.write(response.content)"
   ]
  },
  {
   "cell_type": "code",
   "execution_count": null,
   "id": "936f6de8",
   "metadata": {},
   "outputs": [],
   "source": [
    "# prompt: import requsts and download from this github link : https://raw.githubusercontent.com/Smith-WeStrideTH/Machine_Learning_Course/main/work/lab_utils_uni.py\n",
    "import requests\n",
    "\n",
    "url = 'https://raw.githubusercontent.com/Smith-WeStrideTH/Machine_Learning_Course/main/work/lab_utils_uni.py'\n",
    "response = requests.get(url)\n",
    "\n",
    "with open('lab_utils_uni.py', 'wb') as f:\n",
    "  f.write(response.content)"
   ]
  },
  {
   "cell_type": "code",
   "execution_count": null,
   "metadata": {},
   "outputs": [],
   "source": [
    "import numpy as np\n",
    "import matplotlib.pyplot as plt\n",
    "%matplotlib widget\n",
    "from lab_utils_uni import plt_intuition, plt_stationary, plt_update_onclick, soup_bowl\n",
    "plt.style.use('./deeplearning.mplstyle')"
   ]
  },
  {
   "cell_type": "markdown",
   "metadata": {},
   "source": [
    "## คำอธิบายปัญหา\n",
    "คุณต้องการสร้างโมเดลที่สามารถทำนายราคาบ้านได้จากขนาดของบ้าน\n",
    "\n",
    "ให้ใช้ข้อมูลสองจุดเดียวกันกับก่อนหน้าห้องปฏิบัติการก่อนหน้านี้ - บ้านขนาด 1000 ตารางฟุตขายได้ \\$300,000 และบ้านขนาด 2000 ตารางฟุตขายได้ \\$500,000\n",
    "\n",
    "\n",
    "| Size (1000 sqft)     | Price (1000s of dollars) |\n",
    "| -------------------| ------------------------ |\n",
    "| 1                 | 300                      |\n",
    "| 2                  | 500                      |\n"
   ]
  },
  {
   "cell_type": "code",
   "execution_count": null,
   "metadata": {},
   "outputs": [],
   "source": [
    "x_train = np.array([1.0, 2.0])           #(size in 1000 square feet)\n",
    "y_train = np.array([300.0, 500.0])           #(price in 1000s of dollars)"
   ]
  },
  {
   "cell_type": "markdown",
   "metadata": {},
   "source": [
    "## คำนวณค่าใช้จ่าย\n",
    "คำว่า \"ค่าใช้จ่าย\" ในงานนี้ อาจทำให้เกิดความสับสนเล็กน้อย เนื่องจากข้อมูลเป็นค่าใช้จ่ายที่อยู่อาศัย ที่นี่ ค่าใช้จ่ายเป็นการวัดว่าโมเดลของเราทำนายราคาเป้าหมายของบ้านได้ดีแค่ไหน คำว่า \"ราคา\" ใช้สำหรับข้อมูลที่อยู่อาศัย\n",
    "\n",
    "สมการค่าใช้จ่ายที่มีตัวแปรเดียวคือ:\n",
    "\n",
    "  $$J(w,b) = \\frac{1}{2m} \\sum\\limits_{i = 0}^{m-1} (f_{w,b}(x^{(i)}) - y^{(i)})^2 \\tag{1}$$ \n",
    " \n",
    "โดย \n",
    "  $$f_{w,b}(x^{(i)}) = wx^{(i)} + b \\tag{2}$$\n",
    "  \n",
    "- $f_{w,b}(x^{(i)})$ คือการคาดคะเนของตัวอย่างที่ $i$ โดยใช้พารามิเตอร์ $w,b$.  \n",
    "- $(f_{w,b}(x^{(i)}) -y^{(i)})^2$ คือผลต่างกำลังสองระหว่างค่าเป้าหมายกับการคาดคะเน   \n",
    "- ผลต่างเหล่านี้จะถูกบวกกันทั้งหมด $m$ ตัวอย่างและหารด้วย`2m` เพื่อให้ได้ cost, $J(w,b)$.  \n",
    ">หมายเหตุ: ในการบรรยายช่วงการบวกมักจะเริ่มจาก 1 ถึง m, ในขณะที่โค้ดจะเริ่มจาก 0 ถึง m-1.\n",
    "\n"
   ]
  },
  {
   "cell_type": "markdown",
   "metadata": {},
   "source": [
    "\n",
    "คำนวณ cost โดยวนซ้ำผ่านตัวอย่างแต่ละตัวอย่าง ในแต่ละการวนซ้ำ:\n",
    "- f_wb คำนวณการคาดการณ์\n",
    "- คำนวณและยกกำลังสองของความแตกต่างระหว่างเป้าหมายและการคาดการณ์\n",
    "- เพิ่มผลลัพธ์นี้เข้ากับต้นทุนทั้งหมด\n",
    "\n",
    "\n",
    "\n",
    "\n"
   ]
  },
  {
   "cell_type": "code",
   "execution_count": null,
   "metadata": {},
   "outputs": [],
   "source": [
    "def compute_cost(x, y, w, b): \n",
    "    \"\"\"\n",
    "    Computes the cost function for linear regression.\n",
    "    \n",
    "    Args:\n",
    "      x (ndarray (m,)): Data, m examples \n",
    "      y (ndarray (m,)): target values\n",
    "      w,b (scalar)    : model parameters  \n",
    "    \n",
    "    Returns\n",
    "        total_cost (float): The cost of using w,b as the parameters for linear regression\n",
    "               to fit the data points in x and y\n",
    "    \"\"\"\n",
    "    # number of training examples\n",
    "    m = x.shape[0] \n",
    "    \n",
    "    cost_sum = 0 \n",
    "    for i in range(m): \n",
    "        f_wb = w * x[i] + b   \n",
    "        cost = (f_wb - y[i]) ** 2  \n",
    "        cost_sum = cost_sum + cost  \n",
    "    total_cost = (1 / (2 * m)) * cost_sum  \n",
    "\n",
    "    return total_cost"
   ]
  },
  {
   "cell_type": "markdown",
   "metadata": {},
   "source": [
    "## Cost Function Intuition"
   ]
  },
  {
   "cell_type": "markdown",
   "metadata": {},
   "source": [
    "<img align=\"left\" src=\"./images/C1_W1_Lab02_GoalOfRegression_v1.png\"    style=\" width:380px; padding: 10px;  \" /> เป้าหมายของเราคือการค้นหาโมเดล $f_{w,b}(x) = wx + b$, ซึ่งมีพารามิเตอร์ $w,b$,  ที่จะทำนายราคาบ้านได้อย่างแม่นยำเมื่อได้รับอินพุต $x$. (cost) เป็นตัววัดความแม่นยำของโมเดลกับข้อมูลฝึกอบรม\n",
    "\n",
    "สมการค่าใช้จ่าย (1) แสดงให้เห็นว่าหากเลือก $w$ และ $b$ ได้ดังนั้นการทำนาย $f_{w,b}(x)$ จะตรงกับข้อมูลเป้าหมาย y พจน์ โดย $y$,  $(f_{w,b}(x^{(i)}) - y^{(i)})^2 $ จะเป็นศูนย์และค่าใช้จ่ายจะลดลง\n",
    "ในตัวอย่างสองจุดง่ายๆ นี้ คุณสามารถทำได้!\n",
    "\n",
    "ในห้องปฏิบัติการก่อนหน้า คุณได้กำหนดว่า $b=100$ เป็นคำตอบที่เหมาะสม ดังนั้นให้ตั้งค่า $b$ เป็น 100 และเน้นไปที่ $w$.\n",
    "\n",
    "<br/>\n",
    "ด้านล่างนี้ ให้ใช้ตัวควบคุมสไลเดอร์เพื่อเลือกค่าของ $w$ ที่ลดค่าใช้จ่ายลงได้มากที่สุด อาจใช้เวลาสักสองสามวินาทีในการอัปเดตพล็อต\n",
    "\n"
   ]
  },
  {
   "cell_type": "code",
   "execution_count": null,
   "metadata": {},
   "outputs": [],
   "source": [
    "plt_intuition(x_train,y_train)"
   ]
  },
  {
   "cell_type": "markdown",
   "metadata": {},
   "source": [
    "กราฟแสดงให้เห็นถึงจุดสำคัญบางประการ:\n",
    "\n",
    "- ค่าใช้จ่ายต่ำสุดเมื่อ $w = 200$: สอดคล้องกับผลลัพธ์จากห้องปฏิบัติการก่อนหน้านี้\n",
    "- เนื่องจากผลต่างระหว่างเป้าหมายและการคาดการณ์ถูกยกกำลังสองในสมการค่าใช้จ่าย ค่าใช้จ่ายจึงเพิ่มขึ้นอย่างรวดเร็วเมื่อ w มีค่ามากเกินไปหรือเล็กเกินไป\n",
    "- การใช้ `w` และ `b` ที่เลือกโดยการลดค่าใช้จ่ายจะทำให้เกิดเส้นตรงที่พอดีกับข้อมูลอย่างสมบูรณ์\n",
    "\n",
    "\n",
    "\n",
    "\n",
    "\n",
    "\n"
   ]
  },
  {
   "cell_type": "markdown",
   "metadata": {},
   "source": [
    "## การมองเห็นฟังก์ชันค่าใช้จ่ายแบบ 3 มิติ\n",
    "คุณสามารถดูว่าค่าใช้จ่ายแปรผันตาม ทั้ง `w` และ `b` ได้โดยการพล็อตเป็นแบบ 3 มิติหรือใช้กราฟเส้นรอบระดับ\n",
    "\n",
    "หมายเหตุ: การพล็อตข้อมูลบางอย่างในคอร์สนี้ อาจมีความซับซ้อนพอสมควร รูทีนการพล็อตข้อมูลมีให้ใช้งาน แม้ว่าการอ่านโค้ดเพื่อทำความคุ้นเคยกับวิธีการเหล่านี้จะเป็นประโยชน์ แต่ก็ไม่จำเป็นสำหรับการเรียนจบหลักสูตร รูทีนเหล่านี้อยู่ในไฟล์ lab_utils_uni.py ในไดเร็กทอรี่ท้องถิ่น"
   ]
  },
  {
   "cell_type": "markdown",
   "metadata": {},
   "source": [
    "### ชุดข้อมูลขนาดใหญ่\n",
    "เป็นการดีที่จะดูสถานการณ์ที่มีจุดข้อมูลมากกว่านี้ ชุดข้อมูลนี้รวมถึงจุดข้อมูลที่ไม่อยู่บนเส้นเดียวกัน สิ่งนี้หมายความว่าอย่างไรสำหรับสมการ cost ? เราสามารถหา `w` และ `b` ที่จะทำให้เราได้ค่าใช้จ่ายเป็น 0 ได้หรือไม่?"
   ]
  },
  {
   "cell_type": "code",
   "execution_count": null,
   "metadata": {},
   "outputs": [],
   "source": [
    "x_train = np.array([1.0, 1.7, 2.0, 2.5, 3.0, 3.2])\n",
    "y_train = np.array([250, 300, 480,  430,   630, 730,])"
   ]
  },
  {
   "cell_type": "markdown",
   "metadata": {},
   "source": [
    "ในแผนภาพ Contour คลิกที่จุดเพื่อเลือก `w` และ `b` เพื่อให้ได้ต้นทุนต่ำสุด(minimize cost) ใช้เส้น Contour เป็นแนวทางในการเลือกของคุณ โปรดทราบว่าอาจใช้เวลาสองสามวินาทีในการอัปเดตแผนภาพ"
   ]
  },
  {
   "cell_type": "code",
   "execution_count": null,
   "metadata": {},
   "outputs": [],
   "source": [
    "plt.close('all') \n",
    "fig, ax, dyn_items = plt_stationary(x_train, y_train)\n",
    "updater = plt_update_onclick(fig, ax, x_train, y_train, dyn_items)"
   ]
  },
  {
   "cell_type": "markdown",
   "metadata": {},
   "source": [
    "อธิบายเส้นประในกราฟ\n",
    "โปรดสังเกตเส้นประในกราฟด้านซ้าย เส้นเหล่านี้แสดงถึงส่วนของต้นทุน(cost)ที่แต่ละตัวอย่างในชุดฝึกอบรมของคุณมีส่วนร่วม\n",
    "ในกรณีนี้ ค่าประมาณของ $w=209$ และ $b=2.4$ ให้ต้นทุนต่ำ(cost) โปรดทราบว่า เนื่องจากตัวอย่างการฝึกอบรมของเราไม่อยู่บนเส้นตรง ต้นทุน(cost)ต่ำสุดจึงไม่ใช่ศูนย์"
   ]
  },
  {
   "cell_type": "markdown",
   "metadata": {},
   "source": [
    "### พื้นผิวต้นทุน(cost)นูน\n",
    "ความจริงที่ว่าฟังก์ชันต้นทุน (cost)ยกกำลังสองของค่าสูญหายทำให้ 'พื้นผิวข้อผิดพลาด' มีลักษณะนูนคล้ายชามซุป ซึ่งจะมียอดต่ำสุดที่สามารถเข้าถึงได้โดยการติดตามการไล่ระดับในทุกมิติ ในพล็อตก่อนหน้านี้ เนื่องจากมิติ $w$ และ $b$ มีขนาดแตกต่างกัน จึงไม่ง่ายที่จะจดจำได้ พล็อตต่อไปนี้ ซึ่ง $w$ และ $b$ มีความสมมาตร ได้แสดงไว้ในการบรรยาย:"
   ]
  },
  {
   "cell_type": "code",
   "execution_count": null,
   "metadata": {},
   "outputs": [],
   "source": [
    "soup_bowl()"
   ]
  },
  {
   "cell_type": "markdown",
   "metadata": {},
   "source": [
    "# ขอแสดงความยินดี!\n",
    "คุณได้เรียนรู้สิ่งต่อไปนี้:\n",
    "\n",
    "- สมการ cost เป็นตัววัดความแม่นยำของการคาดการณ์ของคุณกับข้อมูลฝึกอบรม\n",
    "- การ minimize cost สามารถให้ค่าที่เหมาะสมของ $w$ และ $b$"
   ]
  },
  {
   "cell_type": "code",
   "execution_count": null,
   "metadata": {},
   "outputs": [],
   "source": []
  }
 ],
 "metadata": {
  "kernelspec": {
   "display_name": "Python 3 (ipykernel)",
   "language": "python",
   "name": "python3"
  },
  "language_info": {
   "codemirror_mode": {
    "name": "ipython",
    "version": 3
   },
   "file_extension": ".py",
   "mimetype": "text/x-python",
   "name": "python",
   "nbconvert_exporter": "python",
   "pygments_lexer": "ipython3",
   "version": "3.12.1"
  },
  "toc-autonumbering": false
 },
 "nbformat": 4,
 "nbformat_minor": 5
}
