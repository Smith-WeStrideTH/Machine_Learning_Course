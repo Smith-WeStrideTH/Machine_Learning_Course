{
 "cells": [
  {
   "cell_type": "markdown",
   "metadata": {},
   "source": [
    "# บทนำสู่ Python และ Jupyter Notebooks (ไม่บังคับ)\n",
    "ยินดีต้อนรับสู่ห้องปฏิบัติการเสริมครั้งแรก!\n",
    "\n",
    "- ห้องปฏิบัติการเสริมนี้มีวัตถุประสงค์เพื่อ:\n",
    "\n",
    "- ให้ข้อมูล เช่น สมุดบันทึกนี้\n",
    "- เสริมสร้างเนื้อหาจากการบรรยายด้วยตัวอย่างการปฏิบัติจริง\n"
   ]
  },
  {
   "cell_type": "markdown",
   "metadata": {},
   "source": [
    "## เป้าหมาย\n",
    "ในห้องปฏิบัติการนี้ คุณจะ:\n",
    "\n",
    "ได้รับการแนะนำสั้น ๆ เกี่ยวกับ Jupyter notebooks\n",
    "ทัวร์ Jupyter notebooks\n",
    "เรียนรู้ความแตกต่างระหว่าง markdown cells และ code cells\n",
    "ฝึกฝน Python พื้นฐานบางอย่าง"
   ]
  },
  {
   "cell_type": "markdown",
   "metadata": {},
   "source": [
    "วิธีที่ง่ายที่สุดในการทำความคุ้นเคยกับ Jupyter Notebooks คือการเข้าร่วมทัวร์ที่พร้อมใช้งานด้านบนในเมนู Help:\n"
   ]
  },
  {
   "cell_type": "markdown",
   "metadata": {},
   "source": [
    "<figure>\n",
    "    <center> <img src=\"./images/C1W1L1_Tour.PNG\"  alt='missing' width=\"400\"  ><center/>\n",
    "<figure/>"
   ]
  },
  {
   "cell_type": "markdown",
   "metadata": {},
   "source": [
    "สมุดบันทึก Jupyter มีสองประเภทของเซลล์ที่ใช้ในหลักสูตรนี้ เซลล์เช่นนี้ซึ่งมีเอกสารเรียกว่า `Markdown Cells` ชื่อนี้มาจากภาษาการจัดรูปแบบง่ายๆ ที่ใช้ในเซลล์ คุณจะไม่ต้องผลิตเซลล์ markdown จะเป็นประโยชน์ในการทำความเข้าใจ `cell pulldown` ที่แสดงในกราฟิกด้านล่าง บางครั้งเซลล์อาจจะจบลงในโหมดที่ผิดและคุณอาจต้องคืนค่ากลับไปที่สถานะที่ถูกต้อง:"
   ]
  },
  {
   "cell_type": "markdown",
   "metadata": {},
   "source": [
    "<figure>\n",
    "   <img src=\"./images/C1W1L1_Markdown.PNG\"  alt='missing' width=\"400\"  >\n",
    "<figure/>"
   ]
  },
  {
   "cell_type": "markdown",
   "metadata": {},
   "source": [
    " อีกประเภทหนึ่งของเซลล์คือ `code cell` ซึ่งคุณจะเขียนโค้ดของคุณ:"
   ]
  },
  {
   "cell_type": "code",
   "execution_count": 1,
   "metadata": {},
   "outputs": [
    {
     "name": "stdout",
     "output_type": "stream",
     "text": [
      "This is  code cell\n"
     ]
    }
   ],
   "source": [
    "#This is  a 'Code' Cell\n",
    "print(\"This is  code cell\")"
   ]
  },
  {
   "cell_type": "markdown",
   "metadata": {},
   "source": [
    "## Python\n",
    "คุณสามารถเขียนโค้ดของคุณในเซลล์โค้ดได้\n",
    "เพื่อรันโค้ด ให้เลือกเซลล์แล้วทำอย่างใดอย่างหนึ่งต่อไปนี้:\n",
    "\n",
    "- กดปุ่ม shift ค้างไว้แล้วกด 'enter' หรือ 'return'\n",
    "- คลิกที่ปุ่ม 'run' ด้านบน\n",
    "<figure>\n",
    "    <img src=\"./images/C1W1L1_Run.PNG\"  width=\"400\"  >\n",
    "<figure/>\n",
    "\n",
    " "
   ]
  },
  {
   "cell_type": "markdown",
   "metadata": {},
   "source": [
    "### Print statement\n",
    "คำสั่ง Print โดยทั่วไปจะใช้รูปแบบ f-string ของ Python\n",
    "\n",
    "ลองสร้างคำสั่ง Print ของคุณเองในเซลล์ต่อไปนี้\n",
    "\n",
    "ลองทั้งสองวิธีในการรันเซลล์"
   ]
  },
  {
   "cell_type": "code",
   "execution_count": 2,
   "metadata": {},
   "outputs": [
    {
     "name": "stdout",
     "output_type": "stream",
     "text": [
      "f strings allow you to embed variables right in the strings!\n"
     ]
    }
   ],
   "source": [
    "# print statements\n",
    "variable = \"right in the strings!\"\n",
    "print(f\"f strings allow you to embed variables {variable}\")"
   ]
  },
  {
   "cell_type": "markdown",
   "metadata": {},
   "source": [
    "# ยินดีด้วย!\n",
    "ตอนนี้คุณรู้วิธีการใช้งาน Jupyter Notebook แล้ว"
   ]
  }
 ],
 "metadata": {
  "kernelspec": {
   "display_name": "Python 3",
   "language": "python",
   "name": "python3"
  },
  "language_info": {
   "codemirror_mode": {
    "name": "ipython",
    "version": 3
   },
   "file_extension": ".py",
   "mimetype": "text/x-python",
   "name": "python",
   "nbconvert_exporter": "python",
   "pygments_lexer": "ipython3",
   "version": "3.7.6"
  }
 },
 "nbformat": 4,
 "nbformat_minor": 5
}
