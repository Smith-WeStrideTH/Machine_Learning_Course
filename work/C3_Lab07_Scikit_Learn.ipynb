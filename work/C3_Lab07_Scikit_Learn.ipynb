{
 "cells": [
  {
   "cell_type": "markdown",
   "id": "6ea36321",
   "metadata": {},
   "source": [
    "# การทดลองที่ไม่ให้คะแนน: การถดถอยโลจิสติก (Logistic Regression) โดยใช้ Scikit-Learn"
   ]
  },
  {
   "cell_type": "markdown",
   "id": "429531d7",
   "metadata": {},
   "source": [
    "## เป้าหมาย\n",
    "ในห้องปฏิบัติการนี้ คุณจะ:\n",
    "- ฝึกโมเดลการถดถอยโลจิสติก (logistic regression model) โดยใช้ scikit-learn"
   ]
  },
  {
   "cell_type": "markdown",
   "id": "d52429f6",
   "metadata": {},
   "source": [
    "## ชุดข้อมูล (Dataset)\n",
    "เรามาเริ่มต้นด้วยชุดข้อมูลชุดเดิมที่เราเคยใช้กันมาก่อน"
   ]
  },
  {
   "cell_type": "code",
   "execution_count": null,
   "id": "81428ee4",
   "metadata": {},
   "outputs": [],
   "source": [
    "import numpy as np\n",
    "\n",
    "X = np.array([[0.5, 1.5], [1,1], [1.5, 0.5], [3, 0.5], [2, 2], [1, 2.5]])\n",
    "y = np.array([0, 0, 0, 1, 1, 1])"
   ]
  },
  {
   "cell_type": "markdown",
   "id": "2ba63b48",
   "metadata": {},
   "source": [
    "## ติดตั้งโมเดล (Fit the model)\n",
    "\n",
    "โค้ดด้านล่างนี้ทำการ import โมเดลการถดถอยแบบโลจิสติก (logistic regression model) จาก scikit-learn\n",
    " [logistic regression model](https://scikit-learn.org/stable/modules/generated/sklearn.linear_model.LogisticRegression.html#sklearn.linear_model.LogisticRegression). คุณสามารถติดตั้งโมเดลนี้บนข้อมูลชุดฝึก (training data) โดยใช้ฟังก์ชัน `fit`\n",
    "\n"
   ]
  },
  {
   "cell_type": "code",
   "execution_count": null,
   "id": "03b60dc3",
   "metadata": {},
   "outputs": [],
   "source": [
    "from sklearn.linear_model import LogisticRegression\n",
    "\n",
    "lr_model = LogisticRegression()\n",
    "lr_model.fit(X, y)"
   ]
  },
  {
   "cell_type": "markdown",
   "id": "01974e6c",
   "metadata": {},
   "source": [
    "## ทำการทำนาย\n",
    "คุณสามารถดูการทำนายที่สร้างขึ้นโดยโมเดลนี้โดยการเรียกใช้ฟังก์ชัน `predict`\n"
   ]
  },
  {
   "cell_type": "code",
   "execution_count": null,
   "id": "1d6de6a2",
   "metadata": {},
   "outputs": [],
   "source": [
    "y_pred = lr_model.predict(X)\n",
    "\n",
    "print(\"Prediction on training set:\", y_pred)"
   ]
  },
  {
   "cell_type": "markdown",
   "id": "d99ddee5",
   "metadata": {},
   "source": [
    "## คำนวณความแม่นยำ\n",
    "คุณสามารถคำนวณความแม่นยำของโมเดลนี้ได้โดยเรียกใช้ฟังก์ชัน `score`"
   ]
  },
  {
   "cell_type": "code",
   "execution_count": null,
   "metadata": {},
   "outputs": [],
   "source": [
    "print(\"Accuracy on training set:\", lr_model.score(X, y))"
   ]
  }
 ],
 "metadata": {
  "kernelspec": {
   "display_name": "Python 3",
   "language": "python",
   "name": "python3"
  },
  "language_info": {
   "codemirror_mode": {
    "name": "ipython",
    "version": 3
   },
   "file_extension": ".py",
   "mimetype": "text/x-python",
   "name": "python",
   "nbconvert_exporter": "python",
   "pygments_lexer": "ipython3",
   "version": "3.8.10"
  }
 },
 "nbformat": 4,
 "nbformat_minor": 5
}
